{
 "cells": [
  {
   "cell_type": "code",
   "execution_count": 1,
   "metadata": {
    "collapsed": true,
    "pycharm": {
     "name": "#%%\n"
    }
   },
   "outputs": [],
   "source": [
    "import os\n",
    "os.chdir('../')"
   ]
  },
  {
   "cell_type": "code",
   "execution_count": 2,
   "outputs": [],
   "source": [
    "title_info_dict = {\n",
    "    \"僧坊荘園\": (\"AbbeyGrange\", 414, 372, 331, 310),\n",
    "    \"花婿失踪事件\": (\"ACaseOfIdentity\", 580, 522, 464, 435),\n",
    "    \"背中の曲がった男\": (\"CrookedMan\", 373, 335, 298, 279),\n",
    "    \"踊る人形\": (\"DancingMen\", 231, 207, 184, 173),\n",
    "    \"悪魔の足\": (\"DevilsFoot\", 489, 440, 391, 366),\n",
    "    \"入院患者\": (\"ResidentPatient\", 324, 291, 259, 243),\n",
    "    \"白銀号事件\": (\"SilverBlaze\", 397, 367, 317, 297),\n",
    "    \"マダラのひも\": (\"SpeckledBand\", 401, 360, 320, 300)\n",
    "}"
   ],
   "metadata": {
    "collapsed": false,
    "pycharm": {
     "name": "#%%\n"
    }
   }
  },
  {
   "cell_type": "code",
   "execution_count": 3,
   "outputs": [
    {
     "name": "stderr",
     "output_type": "stream",
     "text": [
      "2022-12-22 19:14:03 - INFO - data_helper.py - 438 - ==========Show DataHelper==========\n",
      "2022-12-22 19:14:03 - INFO - data_helper.py - 439 - ==========\n",
      "2022-12-22 19:14:03 - INFO - data_helper.py - 205 - ==========Show MyRawData==========\n",
      "2022-12-22 19:14:03 - INFO - data_helper.py - 206 - entity_length: 7857\n",
      "2022-12-22 19:14:03 - INFO - data_helper.py - 207 - relation_length: 63\n",
      "2022-12-22 19:14:03 - INFO - data_helper.py - 210 - ==========Show MyRawData==========\n",
      "2022-12-22 19:14:03 - INFO - data_helper.py - 441 - ==========\n",
      "2022-12-22 19:14:03 - INFO - data_helper.py - 443 - entity_special_num: 0\n",
      "2022-12-22 19:14:03 - INFO - data_helper.py - 444 - relation_special_num: 0\n",
      "2022-12-22 19:14:03 - INFO - data_helper.py - 445 - ==========Show DataHelper==========\n"
     ]
    }
   ],
   "source": [
    "from utils.setup import easy_logger\n",
    "from models.datasets.data_helper import MyDataHelper\n",
    "import torch\n",
    "import numpy as np\n",
    "import h5py\n",
    "\n",
    "SRO_ALL_INFO_FILE = \"data/processed/KGCdata/All/SRO/info.hdf5\"\n",
    "SRO_ALL_TRAIN_FILE = \"data/processed/KGCdata/All/SRO/train.hdf5\"\n",
    "\n",
    "logger = easy_logger()\n",
    "data_helper = MyDataHelper(SRO_ALL_INFO_FILE, None, SRO_ALL_TRAIN_FILE, None, None, logger=logger,\n",
    "                           entity_special_num=0, relation_special_num=0)"
   ],
   "metadata": {
    "collapsed": false,
    "pycharm": {
     "name": "#%%\n"
    }
   }
  },
  {
   "cell_type": "code",
   "execution_count": 4,
   "outputs": [
    {
     "data": {
      "text/plain": "{'僧坊荘園': ('AbbeyGrange', 414, 372, 331, 310),\n '花婿失踪事件': ('ACaseOfIdentity', 580, 522, 464, 435),\n '背中の曲がった男': ('CrookedMan', 373, 335, 298, 279),\n '踊る人形': ('DancingMen', 231, 207, 184, 173),\n '悪魔の足': ('DevilsFoot', 489, 440, 391, 366),\n '入院患者': ('ResidentPatient', 324, 291, 259, 243),\n '白銀号事件': ('SilverBlaze', 397, 367, 317, 297),\n 'マダラのひも': ('SpeckledBand', 401, 360, 320, 300)}"
     },
     "execution_count": 4,
     "metadata": {},
     "output_type": "execute_result"
    }
   ],
   "source": [
    "title_info_dict"
   ],
   "metadata": {
    "collapsed": false,
    "pycharm": {
     "name": "#%%\n"
    }
   }
  },
  {
   "cell_type": "code",
   "execution_count": 5,
   "outputs": [],
   "source": [
    "triple = data_helper.data.train_triple\n",
    "entities = data_helper.processed_entities\n",
    "relations = data_helper.processed_relations"
   ],
   "metadata": {
    "collapsed": false,
    "pycharm": {
     "name": "#%%\n"
    }
   }
  },
  {
   "cell_type": "code",
   "execution_count": 6,
   "outputs": [],
   "source": [
    "from utils.hdf5 import str_list_for_hdf5\n",
    "\n",
    "triple_str = [(entities[h], relations[r], entities[t]) for h, r, t in triple]\n",
    "triple_head, triple_relation, triple_tail = zip(*triple_str)\n",
    "triple_str_np = str_list_for_hdf5(triple_str)"
   ],
   "metadata": {
    "collapsed": false,
    "pycharm": {
     "name": "#%%\n"
    }
   }
  },
  {
   "cell_type": "code",
   "execution_count": 13,
   "outputs": [],
   "source": [
    "import h5py\n",
    "def missing_make(_title_ja, _title_en, _l100, _l, _l_name):\n",
    "    i=1\n",
    "    while f'{_title_en}:{_l+i}' not in triple_head:\n",
    "        i+=1\n",
    "        print(i)\n",
    "    from_ = triple_head.index(f'{_title_en}:{_l+i}')\n",
    "    to_ = len(triple_head)-triple_head[::-1].index(f'{_title_en}:{_l100}')\n",
    "    print(_title_ja, from_, to_)\n",
    "    path_ = SRO_ALL_TRAIN_FILE.replace('train.hdf5', f'train_{title_en}_{_l_name}.hdf5')\n",
    "    with h5py.File(path_, 'w') as f:\n",
    "        f.create_dataset('triple', data=np.delete(triple, slice(from_, to_), 0))\n",
    "        f.create_dataset('triple_raw', data=np.delete(triple_str_np, slice(from_, to_), 0))"
   ],
   "metadata": {
    "collapsed": false,
    "pycharm": {
     "name": "#%%\n"
    }
   }
  },
  {
   "cell_type": "code",
   "execution_count": 14,
   "outputs": [
    {
     "name": "stdout",
     "output_type": "stream",
     "text": [
      "僧坊荘園 1336 1476\n",
      "僧坊荘園 1198 1476\n",
      "僧坊荘園 1115 1476\n",
      "2\n",
      "花婿失踪事件 3374 3568\n",
      "花婿失踪事件 3160 3568\n",
      "花婿失踪事件 3075 3568\n",
      "背中の曲がった男 4891 5016\n",
      "背中の曲がった男 4750 5016\n",
      "背中の曲がった男 4682 5016\n",
      "踊る人形 5810 5885\n",
      "踊る人形 5705 5885\n",
      "踊る人形 5674 5885\n",
      "悪魔の足 7659 7830\n",
      "悪魔の足 7480 7830\n",
      "悪魔の足 7355 7830\n",
      "入院患者 9058 9195\n",
      "入院患者 8919 9195\n",
      "入院患者 8865 9195\n",
      "白銀号事件 10711 10829\n",
      "白銀号事件 10482 10829\n",
      "白銀号事件 10401 10829\n",
      "マダラのひも 12573 12755\n",
      "マダラのひも 12385 12755\n",
      "マダラのひも 12283 12755\n"
     ]
    }
   ],
   "source": [
    "for title_ja, (title_en, l100, l090, l080, l075) in title_info_dict.items():\n",
    "    missing_make(title_ja, title_en, l100, l090, 'l090')\n",
    "    missing_make(title_ja, title_en, l100, l080, 'l080')\n",
    "    missing_make(title_ja, title_en, l100, l075, 'l075')"
   ],
   "metadata": {
    "collapsed": false,
    "pycharm": {
     "name": "#%%\n"
    }
   }
  },
  {
   "cell_type": "code",
   "execution_count": null,
   "outputs": [],
   "source": [],
   "metadata": {
    "collapsed": false,
    "pycharm": {
     "name": "#%%\n"
    }
   }
  }
 ],
 "metadata": {
  "kernelspec": {
   "display_name": "Python 3",
   "language": "python",
   "name": "python3"
  },
  "language_info": {
   "codemirror_mode": {
    "name": "ipython",
    "version": 2
   },
   "file_extension": ".py",
   "mimetype": "text/x-python",
   "name": "python",
   "nbconvert_exporter": "python",
   "pygments_lexer": "ipython2",
   "version": "2.7.6"
  }
 },
 "nbformat": 4,
 "nbformat_minor": 0
}