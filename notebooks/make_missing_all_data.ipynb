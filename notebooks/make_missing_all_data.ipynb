{
 "cells": [
  {
   "cell_type": "code",
   "execution_count": 1,
   "metadata": {
    "collapsed": true,
    "pycharm": {
     "name": "#%%\n"
    }
   },
   "outputs": [],
   "source": [
    "import os\n",
    "os.chdir('../')"
   ]
  },
  {
   "cell_type": "code",
   "execution_count": 2,
   "metadata": {
    "collapsed": false,
    "pycharm": {
     "name": "#%%\n"
    }
   },
   "outputs": [],
   "source": [
    "title_info_dict = {\n",
    "    \"僧坊荘園\": (\"AbbeyGrange\", 414, 372, 331, 310),\n",
    "    \"花婿失踪事件\": (\"ACaseOfIdentity\", 580, 522, 464, 435),\n",
    "    \"背中の曲がった男\": (\"CrookedMan\", 373, 335, 298, 279),\n",
    "    \"踊る人形\": (\"DancingMen\", 231, 207, 184, 173),\n",
    "    \"悪魔の足\": (\"DevilsFoot\", 489, 440, 391, 366),\n",
    "    \"入院患者\": (\"ResidentPatient\", 324, 291, 259, 243),\n",
    "    \"白銀号事件\": (\"SilverBlaze\", 397, 367, 317, 297),\n",
    "    \"マダラのひも\": (\"SpeckledBand\", 401, 360, 320, 300)\n",
    "}"
   ]
  },
  {
   "cell_type": "code",
   "execution_count": 3,
   "metadata": {
    "collapsed": false,
    "pycharm": {
     "name": "#%%\n"
    }
   },
   "outputs": [],
   "source": [
    "from utils.setup import easy_logger\n",
    "from models.datasets.data_helper import MyDataHelper\n",
    "import torch\n",
    "import numpy as np\n",
    "import h5py\n",
    "from utils.hdf5 import str_list_for_hdf5\n",
    "\n",
    "SRO_ALL_INFO_FILE = \"data/processed/KGCdata/All/SRO/info.hdf5\"\n",
    "SRO_ALL_TRAIN_FILE = \"data/processed/KGCdata/All/SRO/train.hdf5\"\n",
    "\n",
    "logger = easy_logger()"
   ]
  },
  {
   "cell_type": "code",
   "execution_count": 4,
   "metadata": {
    "collapsed": false,
    "pycharm": {
     "name": "#%%\n"
    }
   },
   "outputs": [],
   "source": [
    "import h5py\n",
    "def missing_make(data_helper, _title_ja, _title_en, _l100, _l, _l_name):\n",
    "    triple = data_helper.data.train_triple\n",
    "    entities = data_helper.processed_entities\n",
    "    relations = data_helper.processed_relations\n",
    "    triple_str = [(entities[h], relations[r], entities[t]) for h, r, t in triple]\n",
    "    triple_head, triple_relation, triple_tail = zip(*triple_str)\n",
    "    triple_str_np = str_list_for_hdf5(triple_str)\n",
    "\n",
    "    i=1\n",
    "    while f'{_title_en}:{_l+i}' not in triple_head:\n",
    "        i+=1\n",
    "        print(i)\n",
    "    from_ = triple_head.index(f'{_title_en}:{_l+i}')\n",
    "    to_ = len(triple_head)-triple_head[::-1].index(f'{_title_en}:{_l100}')\n",
    "    print(_title_ja, from_, to_)\n",
    "    path_ = SRO_ALL_TRAIN_FILE.replace('train.hdf5', f'train_{_title_en}_{_l_name}.hdf5')\n",
    "    print(\"save path: \"+path_)\n",
    "    with h5py.File(path_, 'w') as f:\n",
    "        f.create_dataset('triple', data=np.delete(triple, slice(from_, to_), 0))\n",
    "        f.create_dataset('triple_raw', data=np.delete(triple_str_np, slice(from_, to_), 0))"
   ]
  },
  {
   "cell_type": "code",
   "execution_count": 5,
   "metadata": {
    "collapsed": false,
    "pycharm": {
     "name": "#%%\n"
    }
   },
   "outputs": [
    {
     "name": "stderr",
     "output_type": "stream",
     "text": [
      "2022-12-30 21:06:34 - INFO - data_helper.py - 207 - ==========Show MyRawData==========\n",
      "2022-12-30 21:06:34 - INFO - data_helper.py - 208 - entity_length: 7844\n",
      "2022-12-30 21:06:34 - INFO - data_helper.py - 209 - relation_length: 63\n",
      "2022-12-30 21:06:34 - INFO - data_helper.py - 212 - ==========Show MyRawData==========\n",
      "2022-12-30 21:06:34 - INFO - data_helper.py - 440 - ==========Show DataHelper==========\n",
      "2022-12-30 21:06:34 - INFO - data_helper.py - 441 - ==========\n",
      "2022-12-30 21:06:34 - INFO - data_helper.py - 207 - ==========Show MyRawData==========\n",
      "2022-12-30 21:06:34 - INFO - data_helper.py - 208 - entity_length: 7844\n",
      "2022-12-30 21:06:34 - INFO - data_helper.py - 209 - relation_length: 63\n",
      "2022-12-30 21:06:34 - INFO - data_helper.py - 212 - ==========Show MyRawData==========\n",
      "2022-12-30 21:06:34 - INFO - data_helper.py - 443 - ==========\n",
      "2022-12-30 21:06:34 - INFO - data_helper.py - 445 - entity_special_num: 0\n",
      "2022-12-30 21:06:34 - INFO - data_helper.py - 446 - relation_special_num: 0\n",
      "2022-12-30 21:06:34 - INFO - data_helper.py - 447 - ==========Show DataHelper==========\n"
     ]
    },
    {
     "name": "stdout",
     "output_type": "stream",
     "text": [
      "僧坊荘園 1619 1791\n",
      "save path: data/processed/KGCdata/All/SRO/train_AbbeyGrange_l090.hdf5\n",
      "僧坊荘園 1443 1791\n",
      "save path: data/processed/KGCdata/All/SRO/train_AbbeyGrange_l080.hdf5\n",
      "僧坊荘園 1342 1791\n",
      "save path: data/processed/KGCdata/All/SRO/train_AbbeyGrange_l075.hdf5\n",
      "2\n",
      "花婿失踪事件 4057 4293\n",
      "save path: data/processed/KGCdata/All/SRO/train_ACaseOfIdentity_l090.hdf5\n",
      "花婿失踪事件 3799 4293\n",
      "save path: data/processed/KGCdata/All/SRO/train_ACaseOfIdentity_l080.hdf5\n",
      "花婿失踪事件 3701 4293\n",
      "save path: data/processed/KGCdata/All/SRO/train_ACaseOfIdentity_l075.hdf5\n",
      "背中の曲がった男 5797 5932\n",
      "save path: data/processed/KGCdata/All/SRO/train_CrookedMan_l090.hdf5\n",
      "背中の曲がった男 5625 5932\n",
      "save path: data/processed/KGCdata/All/SRO/train_CrookedMan_l080.hdf5\n",
      "背中の曲がった男 5538 5932\n",
      "save path: data/processed/KGCdata/All/SRO/train_CrookedMan_l075.hdf5\n",
      "踊る人形 6757 6849\n",
      "save path: data/processed/KGCdata/All/SRO/train_DancingMen_l090.hdf5\n",
      "踊る人形 6639 6849\n",
      "save path: data/processed/KGCdata/All/SRO/train_DancingMen_l080.hdf5\n",
      "踊る人形 6607 6849\n",
      "save path: data/processed/KGCdata/All/SRO/train_DancingMen_l075.hdf5\n",
      "悪魔の足 8899 9112\n",
      "save path: data/processed/KGCdata/All/SRO/train_DevilsFoot_l090.hdf5\n",
      "悪魔の足 8677 9112\n",
      "save path: data/processed/KGCdata/All/SRO/train_DevilsFoot_l080.hdf5\n",
      "悪魔の足 8531 9112\n",
      "save path: data/processed/KGCdata/All/SRO/train_DevilsFoot_l075.hdf5\n",
      "入院患者 10366 10503\n",
      "save path: data/processed/KGCdata/All/SRO/train_ResidentPatient_l090.hdf5\n",
      "入院患者 10225 10503\n",
      "save path: data/processed/KGCdata/All/SRO/train_ResidentPatient_l080.hdf5\n",
      "入院患者 10171 10503\n",
      "save path: data/processed/KGCdata/All/SRO/train_ResidentPatient_l075.hdf5\n",
      "白銀号事件 12060 12178\n",
      "save path: data/processed/KGCdata/All/SRO/train_SilverBlaze_l090.hdf5\n",
      "白銀号事件 11831 12178\n",
      "save path: data/processed/KGCdata/All/SRO/train_SilverBlaze_l080.hdf5\n",
      "白銀号事件 11750 12178\n",
      "save path: data/processed/KGCdata/All/SRO/train_SilverBlaze_l075.hdf5\n",
      "マダラのひも 13966 14153\n",
      "save path: data/processed/KGCdata/All/SRO/train_SpeckledBand_l090.hdf5\n",
      "マダラのひも 13774 14153\n",
      "save path: data/processed/KGCdata/All/SRO/train_SpeckledBand_l080.hdf5\n",
      "マダラのひも 13670 14153\n",
      "save path: data/processed/KGCdata/All/SRO/train_SpeckledBand_l075.hdf5\n"
     ]
    }
   ],
   "source": [
    "def main():\n",
    "    data_helper = MyDataHelper(SRO_ALL_INFO_FILE, None, SRO_ALL_TRAIN_FILE, None, None, logger=logger,\n",
    "                           entity_special_num=0, relation_special_num=0)\n",
    "    \n",
    "    for title_ja, (title_en, l100, l090, l080, l075) in title_info_dict.items():\n",
    "        missing_make(data_helper, title_ja, title_en, l100, l090, 'l090')\n",
    "        missing_make(data_helper, title_ja, title_en, l100, l080, 'l080')\n",
    "        missing_make(data_helper, title_ja, title_en, l100, l075, 'l075')\n",
    "main()"
   ]
  },
  {
   "cell_type": "code",
   "execution_count": null,
   "metadata": {
    "collapsed": false,
    "pycharm": {
     "name": "#%%\n"
    }
   },
   "outputs": [],
   "source": []
  }
 ],
 "metadata": {
  "kernelspec": {
   "display_name": "Python 3",
   "language": "python",
   "name": "python3"
  },
  "language_info": {
   "codemirror_mode": {
    "name": "ipython",
    "version": 3
   },
   "file_extension": ".py",
   "mimetype": "text/x-python",
   "name": "python",
   "nbconvert_exporter": "python",
   "pygments_lexer": "ipython3",
   "version": "3.10.4"
  },
  "vscode": {
   "interpreter": {
    "hash": "aee8b7b246df8f9039afb4144a1f6fd8d2ca17a180786b69acc140d282b71a49"
   }
  }
 },
 "nbformat": 4,
 "nbformat_minor": 0
}
