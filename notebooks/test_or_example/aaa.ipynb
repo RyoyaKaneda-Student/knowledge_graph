{
 "cells": [
  {
   "cell_type": "code",
   "execution_count": 1,
   "outputs": [],
   "source": [
    "#!/usr/bin/python\n",
    "# -*- coding: utf-8 -*-\n",
    "# ========== python ==========\n",
    "import os\n",
    "from pathlib import Path\n",
    "from logging import Logger\n",
    "from typing import List, Dict, Tuple, Optional, Union, Callable, Final, Literal, get_args\n",
    "from operator import itemgetter, attrgetter\n",
    "import itertools\n",
    "from IPython import display\n",
    "\n",
    "from utils.setup import setup_logger, get_device\n",
    "from const.const_values import PROJECT_DIR\n",
    "\n",
    "os.chdir(PROJECT_DIR)\n",
    "logger: Logger = setup_logger(__name__, f'{PROJECT_DIR}/log/jupyter_run.log')\n",
    "device = get_device(device_name='cpu', logger=logger)"
   ],
   "metadata": {
    "collapsed": false,
    "pycharm": {
     "name": "#%%\n"
    }
   }
  },
  {
   "cell_type": "code",
   "execution_count": 14,
   "outputs": [
    {
     "name": "stdout",
     "output_type": "stream",
     "text": [
      "7857\n"
     ]
    }
   ],
   "source": [
    "import h5py\n",
    "with h5py.File(f\"{PROJECT_DIR}/data.tmp2/processed/KGCdata/All/SRO/info.hdf5\", mode='r') as f:\n",
    "    print(f['entity_length'][()])"
   ],
   "metadata": {
    "collapsed": false,
    "pycharm": {
     "name": "#%%\n"
    }
   }
  },
  {
   "cell_type": "code",
   "execution_count": null,
   "outputs": [],
   "source": [],
   "metadata": {
    "collapsed": false,
    "pycharm": {
     "name": "#%%\n"
    }
   }
  }
 ],
 "metadata": {
  "kernelspec": {
   "display_name": "Python 3",
   "language": "python",
   "name": "python3"
  },
  "language_info": {
   "codemirror_mode": {
    "name": "ipython",
    "version": 2
   },
   "file_extension": ".py",
   "mimetype": "text/x-python",
   "name": "python",
   "nbconvert_exporter": "python",
   "pygments_lexer": "ipython2",
   "version": "2.7.6"
  }
 },
 "nbformat": 4,
 "nbformat_minor": 0
}