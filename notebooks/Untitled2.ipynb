{
 "cells": [
  {
   "cell_type": "code",
   "execution_count": 1,
   "id": "9daa7c96",
   "metadata": {},
   "outputs": [],
   "source": [
    "import torch"
   ]
  },
  {
   "cell_type": "code",
   "execution_count": 5,
   "id": "38abd6c8",
   "metadata": {},
   "outputs": [
    {
     "data": {
      "text/plain": [
       "tensor([[[0, 1, 2],\n",
       "         [9, 4, 5],\n",
       "         [6, 7, 8]]])"
      ]
     },
     "execution_count": 5,
     "metadata": {},
     "output_type": "execute_result"
    }
   ],
   "source": [
    "triple: torch.Tensor = torch.tensor([\n",
    "    [\n",
    "        [0, 1, 2],\n",
    "        [3, 4, 5],\n",
    "        [6, 7, 8]\n",
    "    ]\n",
    "])\n",
    "valid_filter: torch.Tensor = torch.tensor([\n",
    "    [\n",
    "        False, True, False\n",
    "    ]\n",
    "])\n",
    "mask_token_e = 9\n",
    "\n",
    "valid_ans_story = triple[:, :, 0][valid_filter]\n",
    "valid_ans_relation = triple[:, :, 1][valid_filter]\n",
    "valid_ans_object = triple[:, :, 2][valid_filter]\n",
    "\n",
    "triple_for_valid = triple.clone()\n",
    "triple_for_valid[:, :, 0][valid_filter] = mask_token_e\n",
    "triple_for_valid"
   ]
  },
  {
   "cell_type": "code",
   "execution_count": 6,
   "id": "761813fc",
   "metadata": {},
   "outputs": [
    {
     "data": {
      "text/plain": [
       "tensor([[[0, 1, 2],\n",
       "         [3, 4, 5],\n",
       "         [6, 7, 8]]])"
      ]
     },
     "execution_count": 6,
     "metadata": {},
     "output_type": "execute_result"
    }
   ],
   "source": [
    "triple"
   ]
  },
  {
   "cell_type": "code",
   "execution_count": 7,
   "id": "04a54767",
   "metadata": {},
   "outputs": [
    {
     "data": {
      "text/plain": [
       "tensor([3])"
      ]
     },
     "execution_count": 7,
     "metadata": {},
     "output_type": "execute_result"
    }
   ],
   "source": [
    "valid_ans_story"
   ]
  },
  {
   "cell_type": "code",
   "execution_count": null,
   "id": "6150e7f9",
   "metadata": {},
   "outputs": [],
   "source": []
  }
 ],
 "metadata": {
  "kernelspec": {
   "display_name": "Python 3 (ipykernel)",
   "language": "python",
   "name": "python3"
  },
  "language_info": {
   "codemirror_mode": {
    "name": "ipython",
    "version": 3
   },
   "file_extension": ".py",
   "mimetype": "text/x-python",
   "name": "python",
   "nbconvert_exporter": "python",
   "pygments_lexer": "ipython3",
   "version": "3.9.12"
  }
 },
 "nbformat": 4,
 "nbformat_minor": 5
}
