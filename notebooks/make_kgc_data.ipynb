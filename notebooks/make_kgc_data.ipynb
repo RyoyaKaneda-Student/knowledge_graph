{
 "cells": [
  {
   "cell_type": "code",
   "execution_count": 1,
   "outputs": [
    {
     "data": {
      "text/plain": "'/Users/ryoyakaneda/Documents/学校/M1Study/knowledge_graph'"
     },
     "execution_count": 1,
     "metadata": {},
     "output_type": "execute_result"
    }
   ],
   "source": [
    "import os\n",
    "os.chdir('../')\n",
    "os.getcwd()"
   ],
   "metadata": {
    "collapsed": false,
    "pycharm": {
     "name": "#%%\n"
    }
   }
  },
  {
   "cell_type": "code",
   "execution_count": 2,
   "outputs": [],
   "source": [
    "title_info_dict = {\n",
    "    \"僧坊荘園\": (\"AbbeyGrange\", 414, 372, 331),\n",
    "    \"花婿失踪事件\": (\"ACaseOfIdentity\", 580, 522, 464),\n",
    "    \"背中の曲がった男\": (\"CrookedMan\", 373, 335, 298),\n",
    "    \"踊る人形\": (\"DancingMen\", 231, 207, 184),\n",
    "    \"悪魔の足\": (\"DevilsFoot\", 489, 440, 391),\n",
    "    \"入院患者\": (\"ResidentPatient\", 324, 291, 259),\n",
    "    \"白銀号事件\": (\"SilverBlaze\", 397, 367, 317),\n",
    "    \"マダラのひも\": (\"SpeckledBand\", 401, 360, 320)\n",
    "}"
   ],
   "metadata": {
    "collapsed": false,
    "pycharm": {
     "name": "#%%\n"
    }
   }
  },
  {
   "cell_type": "code",
   "execution_count": 3,
   "outputs": [],
   "source": [
    "from src.data.preprocess_data import make_triple, make_er_all_tail\n",
    "from utils.setup import easy_logger\n",
    "\n",
    "logger = easy_logger('info')"
   ],
   "metadata": {
    "collapsed": false,
    "pycharm": {
     "name": "#%%\n"
    }
   }
  },
  {
   "cell_type": "code",
   "execution_count": 4,
   "outputs": [
    {
     "name": "stderr",
     "output_type": "stream",
     "text": [
      "2022-11-10 05:21:37 - INFO - preprocess_data.py - 157 - make triple data\n",
      "2022-11-10 05:21:37 - INFO - preprocess_data.py - 157 - make triple data\n",
      "2022-11-10 05:21:37 - INFO - preprocess_data.py - 157 - make triple data\n",
      "2022-11-10 05:21:37 - INFO - preprocess_data.py - 157 - make triple data\n",
      "2022-11-10 05:21:37 - INFO - preprocess_data.py - 157 - make triple data\n",
      "2022-11-10 05:21:37 - INFO - preprocess_data.py - 157 - make triple data\n",
      "2022-11-10 05:21:37 - INFO - preprocess_data.py - 157 - make triple data\n",
      "2022-11-10 05:21:37 - INFO - preprocess_data.py - 157 - make triple data\n",
      "2022-11-10 05:21:37 - INFO - preprocess_data.py - 157 - make triple data\n"
     ]
    }
   ],
   "source": [
    "for title, value in title_info_dict.items():\n",
    "    title_en = value[0]\n",
    "    make_triple(title_en, 'KGCdata', 'all.txt', None, None, logger=logger)\n",
    "\n",
    "make_triple('All', 'KGCdata', 'all.txt', None, None, logger=logger)"
   ],
   "metadata": {
    "collapsed": false,
    "pycharm": {
     "name": "#%%\n"
    }
   }
  },
  {
   "cell_type": "code",
   "execution_count": 5,
   "outputs": [
    {
     "name": "stderr",
     "output_type": "stream",
     "text": [
      "2022-11-10 05:21:38 - INFO - preprocess_data.py - 213 - make all_tail data\n",
      "2022-11-10 05:21:38 - INFO - preprocess_data.py - 213 - make all_tail data\n",
      "2022-11-10 05:21:38 - INFO - preprocess_data.py - 213 - make all_tail data\n",
      "2022-11-10 05:21:38 - INFO - preprocess_data.py - 213 - make all_tail data\n",
      "2022-11-10 05:21:38 - INFO - preprocess_data.py - 213 - make all_tail data\n",
      "2022-11-10 05:21:38 - INFO - preprocess_data.py - 213 - make all_tail data\n",
      "2022-11-10 05:21:38 - INFO - preprocess_data.py - 213 - make all_tail data\n",
      "2022-11-10 05:21:38 - INFO - preprocess_data.py - 213 - make all_tail data\n",
      "2022-11-10 05:21:38 - INFO - preprocess_data.py - 213 - make all_tail data\n"
     ]
    }
   ],
   "source": [
    "for title, value in title_info_dict.items():\n",
    "    title_en = value[0]\n",
    "    make_er_all_tail(title_en, 'KGCdata', logger=logger, do_valid=False, do_test=False)\n",
    "make_er_all_tail('All', 'KGCdata', logger=logger, do_valid=False, do_test=False)"
   ],
   "metadata": {
    "collapsed": false,
    "pycharm": {
     "name": "#%%\n"
    }
   }
  },
  {
   "cell_type": "code",
   "execution_count": null,
   "outputs": [],
   "source": [],
   "metadata": {
    "collapsed": false,
    "pycharm": {
     "name": "#%%\n"
    }
   }
  }
 ],
 "metadata": {
  "kernelspec": {
   "display_name": "Python 3",
   "language": "python",
   "name": "python3"
  },
  "language_info": {
   "codemirror_mode": {
    "name": "ipython",
    "version": 2
   },
   "file_extension": ".py",
   "mimetype": "text/x-python",
   "name": "python",
   "nbconvert_exporter": "python",
   "pygments_lexer": "ipython2",
   "version": "2.7.6"
  }
 },
 "nbformat": 4,
 "nbformat_minor": 0
}