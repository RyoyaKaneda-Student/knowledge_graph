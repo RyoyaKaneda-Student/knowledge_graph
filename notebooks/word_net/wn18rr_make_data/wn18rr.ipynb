{
 "cells": [
  {
   "cell_type": "code",
   "execution_count": 1,
   "outputs": [
    {
     "name": "stdout",
     "output_type": "stream",
     "text": [
      "/Users/ryoyakaneda/Documents/学校/M1Study/knowledge_graph\n"
     ]
    }
   ],
   "source": [
    "#!/usr/bin/python\n",
    "# -*- coding: utf-8 -*-\n",
    "# ========== python ==========\n",
    "import os\n",
    "from pathlib import Path\n",
    "from logging import Logger\n",
    "from typing import List, Dict, Tuple, Optional, Union, Callable, Final, Literal, get_args\n",
    "from operator import itemgetter, attrgetter\n",
    "import itertools\n",
    "import collections\n",
    "\n",
    "import numpy as np\n",
    "\n",
    "from utils.setup import easy_logger, get_device\n",
    "from const.const_values import PROJECT_DIR\n",
    "\n",
    "os.chdir(PROJECT_DIR)\n",
    "logger: Logger = easy_logger(f'{PROJECT_DIR}/log/jupyter_run.log')\n",
    "device = get_device(device_name='cpu', logger=logger)\n",
    "print(PROJECT_DIR)"
   ],
   "metadata": {
    "collapsed": false,
    "pycharm": {
     "name": "#%%\n"
    }
   }
  },
  {
   "cell_type": "code",
   "execution_count": 2,
   "outputs": [],
   "source": [
    "import pandas as pd\n",
    "import numpy as np\n",
    "import matplotlib.pyplot as plt\n",
    "wn18rr_train_file_path = f\"{PROJECT_DIR}/data/external/KGdata/WN18RR/text/train.txt\"\n",
    "wn18rr_valid_file_path = f\"{PROJECT_DIR}/data/external/KGdata/WN18RR/text/valid.txt\"\n",
    "wn18rr_test_file_path = f\"{PROJECT_DIR}/data/external/KGdata/WN18RR/text/test.txt\"\n",
    "HEAD, RELATION, TAIL = 'head', 'relation', 'tail'\n",
    "MODE = 'mode'\n",
    "HYPERNYM = '_hypernym'"
   ],
   "metadata": {
    "collapsed": false,
    "pycharm": {
     "name": "#%%\n"
    }
   }
  },
  {
   "cell_type": "code",
   "execution_count": 3,
   "outputs": [],
   "source": [
    "def get_hypernym_list(key, list_, *, hypernym_dict):\n",
    "    list_ = list_ + [key]\n",
    "    list_list = []\n",
    "    for child_key in hypernym_dict[key]:\n",
    "        if child_key in set(list_):\n",
    "            list_list.append(list_)\n",
    "        else:\n",
    "            list_list.extend(get_hypernym_list(child_key, list_, hypernym_dict=hypernym_dict))\n",
    "    if len(list_list)==0:\n",
    "        list_list = [list_]\n",
    "    return list_list\n",
    "\n",
    "def get_entity_relation(df):\n",
    "    return pd.concat([df[HEAD], df[TAIL]]).sort_values(), df[RELATION].sort_values()\n",
    "\n",
    "def get_hypernym_df(df):\n",
    "    return df[df[RELATION]==HYPERNYM]\n",
    "\n",
    "def get_hypernym_dict(df, entities):\n",
    "    hypernym_df = get_hypernym_df(df)\n",
    "    hypernym_dict = {key: [] for key in entities}\n",
    "    for index, row in hypernym_df.iterrows():\n",
    "        hypernym_dict[row[HEAD]].append(row[TAIL])\n",
    "    return hypernym_dict\n",
    "\n",
    "def get_entity2triples(df):\n",
    "    entities, _ = get_entity_relation(df)\n",
    "    entity2triples = {key: [] for key in entities}\n",
    "    for index, row in df.iterrows():\n",
    "        triple = (row[HEAD], row[RELATION], row[TAIL], (index, row[MODE]))\n",
    "        entity2triples[row[HEAD]].append(triple)\n",
    "    return entity2triples\n",
    "\n",
    "def get_to_top_list_list(df):\n",
    "    hypernym_df = get_hypernym_df(df)\n",
    "    hypernym_bottom_entity_set = set(hypernym_df[HEAD]) - set(hypernym_df[TAIL])\n",
    "    hypernym_df = get_hypernym_df(df)\n",
    "    entities, _ = get_entity_relation(df)\n",
    "    hypernym_dict = get_hypernym_dict(hypernym_df, entities)\n",
    "    to_top_list_list = []\n",
    "    for e in hypernym_bottom_entity_set:\n",
    "        to_top_list = get_hypernym_list(e, [], hypernym_dict=hypernym_dict)\n",
    "        to_top_list_list.extend(to_top_list)\n",
    "    return to_top_list_list\n",
    "\n",
    "def get_to_top_triples_list(df, to_top_list_list):\n",
    "    entity2triples = get_entity2triples(df)\n",
    "    to_top_triples_list = []\n",
    "    for to_top_list in to_top_list_list:\n",
    "        to_top_triples = []\n",
    "        for e in to_top_list:\n",
    "            to_top_triples.extend(entity2triples[e])\n",
    "        to_top_triples_list.append(to_top_triples)\n",
    "    return to_top_triples_list\n",
    "\n",
    "def get_to_top_triples_list_limit_(to_top_triples_list, limit):\n",
    "    to_top_triples_list_limit_ = []\n",
    "    for list_ in to_top_triples_list:\n",
    "        for i in range(0, len(list_), limit):\n",
    "            to_top_triples_list_limit_.append(list_[i: i+limit])\n",
    "    return to_top_triples_list_limit_"
   ],
   "metadata": {
    "collapsed": false,
    "pycharm": {
     "name": "#%%\n"
    }
   }
  },
  {
   "cell_type": "code",
   "execution_count": 4,
   "outputs": [],
   "source": [
    "def func01(df, *, to_top_list_list=None):\n",
    "    df = df.sort_values([HEAD, RELATION, TAIL]).reset_index()\n",
    "\n",
    "    if to_top_list_list is None: to_top_list_list = get_to_top_list_list(df)\n",
    "    to_top_triples_list = get_to_top_triples_list(df, to_top_list_list)\n",
    "\n",
    "    to_top_triples_list_limit32 = get_to_top_triples_list_limit_(to_top_triples_list, 32)\n",
    "    return to_top_list_list, to_top_triples_list, to_top_triples_list_limit32"
   ],
   "metadata": {
    "collapsed": false,
    "pycharm": {
     "name": "#%%\n"
    }
   }
  },
  {
   "cell_type": "code",
   "execution_count": 5,
   "outputs": [],
   "source": [
    "def main():\n",
    "    train_df = pd.read_table(wn18rr_train_file_path, header=None, names=(HEAD, RELATION, TAIL)).assign(**{MODE: 1})\n",
    "    valid_df = pd.read_table(wn18rr_valid_file_path, header=None, names=(HEAD, RELATION, TAIL)).assign(**{MODE: 2})\n",
    "    test_df = pd.read_table(wn18rr_test_file_path, header=None, names=(HEAD, RELATION, TAIL)).assign(**{MODE: 3})\n",
    "    train_to_top_list_list, train_to_top_triples_list, train_to_top_triples_list_limit32 = func01(train_df)\n",
    "    valid_to_top_list_list, valid_to_top_triples_list, valid_to_top_triples_list_limit32 = func01(\n",
    "        pd.concat([train_df, valid_df]), to_top_list_list=train_to_top_list_list)\n",
    "    return (\n",
    "        train_to_top_list_list, train_to_top_triples_list, train_to_top_triples_list_limit32,\n",
    "        valid_to_top_list_list, valid_to_top_triples_list, valid_to_top_triples_list_limit32\n",
    "    )"
   ],
   "metadata": {
    "collapsed": false,
    "pycharm": {
     "name": "#%%\n"
    }
   }
  },
  {
   "cell_type": "code",
   "execution_count": 6,
   "outputs": [],
   "source": [
    "(train_to_top_list_list, train_to_top_triples_list, train_to_top_triples_list_limit32,\n",
    " valid_to_top_list_list, valid_to_top_triples_list, valid_to_top_triples_list_limit32\n",
    ") = main()"
   ],
   "metadata": {
    "collapsed": false,
    "pycharm": {
     "name": "#%%\n"
    }
   }
  },
  {
   "cell_type": "code",
   "execution_count": 7,
   "outputs": [
    {
     "data": {
      "text/plain": "(array([2570., 2344., 3195., 4761., 6458., 4573., 2724., 1809., 1022.,\n         969.]),\n array([ 1. ,  4.1,  7.2, 10.3, 13.4, 16.5, 19.6, 22.7, 25.8, 28.9, 32. ]),\n <BarContainer object of 10 artists>)"
     },
     "execution_count": 7,
     "metadata": {},
     "output_type": "execute_result"
    },
    {
     "data": {
      "text/plain": "<Figure size 640x480 with 1 Axes>",
      "image/png": "[encoded data removed]"
     },
     "metadata": {},
     "output_type": "display_data"
    }
   ],
   "source": [
    "plt.hist([len(list_) for list_ in train_to_top_triples_list_limit32])"
   ],
   "metadata": {
    "collapsed": false,
    "pycharm": {
     "name": "#%%\n"
    }
   }
  },
  {
   "cell_type": "code",
   "execution_count": 8,
   "outputs": [
    {
     "data": {
      "text/plain": "(array([2361., 2381., 3152., 4520., 6239., 4796., 2866., 1993., 1129.,\n        1090.]),\n array([ 1. ,  4.1,  7.2, 10.3, 13.4, 16.5, 19.6, 22.7, 25.8, 28.9, 32. ]),\n <BarContainer object of 10 artists>)"
     },
     "execution_count": 8,
     "metadata": {},
     "output_type": "execute_result"
    },
    {
     "data": {
      "text/plain": "<Figure size 640x480 with 1 Axes>",
      "image/png": "[encoded data removed]"
     },
     "metadata": {},
     "output_type": "display_data"
    }
   ],
   "source": [
    "plt.hist([len(list_) for list_ in valid_to_top_triples_list_limit32])"
   ],
   "metadata": {
    "collapsed": false,
    "pycharm": {
     "name": "#%%\n"
    }
   }
  },
  {
   "cell_type": "code",
   "execution_count": 10,
   "outputs": [
    {
     "data": {
      "text/plain": "(29961, 29961)"
     },
     "execution_count": 10,
     "metadata": {},
     "output_type": "execute_result"
    }
   ],
   "source": [
    "len(train_to_top_triples_list), len(valid_to_top_triples_list)"
   ],
   "metadata": {
    "collapsed": false,
    "pycharm": {
     "name": "#%%\n"
    }
   }
  },
  {
   "cell_type": "code",
   "execution_count": 12,
   "outputs": [
    {
     "data": {
      "text/plain": "[[('spectacle.n.03', '_hypernym', 'blunder.n.01', 1),\n  ('blunder.n.01', '_derivationally_related_form', 'bungle.v.02', 1),\n  ('blunder.n.01', '_derivationally_related_form', 'drop_the_ball.v.01', 1),\n  ('blunder.n.01', '_hypernym', 'mistake.n.01', 1),\n  ('mistake.n.01', '_derivationally_related_form', 'blame.v.01', 1),\n  ('mistake.n.01', '_derivationally_related_form', 'err.v.01', 1),\n  ('mistake.n.01', '_hypernym', 'nonaccomplishment.n.01', 1),\n  ('nonaccomplishment.n.01', '_hypernym', 'act.n.02', 1),\n  ('act.n.02', '_derivationally_related_form', 'act.v.01', 1),\n  ('act.n.02', '_derivationally_related_form', 'motivate.v.01', 1),\n  ('act.n.02', '_derivationally_related_form', 'trip.v.04', 1),\n  ('act.n.02', '_hypernym', 'event.n.01', 1),\n  ('event.n.01', '_hypernym', 'psychological_feature.n.01', 1),\n  ('psychological_feature.n.01', '_hypernym', 'abstraction.n.06', 1),\n  ('abstraction.n.06', '_derivationally_related_form', 'abstract.v.01', 1),\n  ('abstraction.n.06', '_hypernym', 'entity.n.01', 1)],\n [('deflect.v.02', '_derivationally_related_form', 'diversion.n.02', 1),\n  ('deflect.v.02', '_hypernym', 'turn.v.01', 1),\n  ('turn.v.01', '_also_see', 'address.v.01', 1),\n  ('turn.v.01', '_also_see', 'deflect.v.02', 1),\n  ('turn.v.01', '_derivationally_related_form', 'turn.n.02', 2),\n  ('turn.v.01', '_derivationally_related_form', 'turning.n.04', 1),\n  ('turn.v.01', '_hypernym', 'move.v.03', 1),\n  ('turn.v.01', '_verb_group', 'turn.v.04', 1),\n  ('move.v.03', '_also_see', 'move_over.v.01', 1),\n  ('move.v.03', '_derivationally_related_form', 'motion.n.03', 1)],\n [('puffing.n.02', '_derivationally_related_form', 'pant.v.01', 1),\n  ('puffing.n.02', '_derivationally_related_form', 'puff.v.08', 1),\n  ('puffing.n.02', '_derivationally_related_form', 'snort.v.02', 1),\n  ('puffing.n.02', '_hypernym', 'exhalation.n.02', 1),\n  ('exhalation.n.02', '_derivationally_related_form', 'exhale.v.01', 1),\n  ('exhalation.n.02', '_hypernym', 'breath.n.01', 1),\n  ('breath.n.01', '_hypernym', 'bodily_process.n.01', 1),\n  ('bodily_process.n.01', '_derivationally_related_form', 'active.a.01', 1),\n  ('bodily_process.n.01', '_hypernym', 'organic_process.n.01', 1),\n  ('organic_process.n.01', '_hypernym', 'process.n.06', 1),\n  ('process.n.06', '_hypernym', 'physical_entity.n.01', 1),\n  ('physical_entity.n.01', '_hypernym', 'entity.n.01', 1)],\n [('refresher.n.02', '_derivationally_related_form', 'refresh.v.02', 1),\n  ('refresher.n.02', '_hypernym', 'beverage.n.01', 1),\n  ('beverage.n.01', '_derivationally_related_form', 'drink.v.01', 1),\n  ('beverage.n.01', '_hypernym', 'food.n.01', 1),\n  ('beverage.n.01', '_hypernym', 'liquid.n.01', 1),\n  ('food.n.01', '_derivationally_related_form', 'nutrify.v.01', 1),\n  ('food.n.01', '_has_part', 'food.n.02', 1),\n  ('food.n.01', '_hypernym', 'substance.n.07', 1),\n  ('substance.n.07', '_hypernym', 'matter.n.03', 1),\n  ('matter.n.03', '_hypernym', 'physical_entity.n.01', 1),\n  ('physical_entity.n.01', '_hypernym', 'entity.n.01', 1)],\n [('refresher.n.02', '_derivationally_related_form', 'refresh.v.02', 1),\n  ('refresher.n.02', '_hypernym', 'beverage.n.01', 1),\n  ('beverage.n.01', '_derivationally_related_form', 'drink.v.01', 1),\n  ('beverage.n.01', '_hypernym', 'food.n.01', 1),\n  ('beverage.n.01', '_hypernym', 'liquid.n.01', 1)],\n [('investors_club.n.01', '_hypernym', 'club.n.02', 1),\n  ('club.n.02', '_derivationally_related_form', 'club.v.01', 1),\n  ('club.n.02', '_derivationally_related_form', 'club.v.02', 1),\n  ('club.n.02', '_derivationally_related_form', 'ordain.v.02', 1),\n  ('club.n.02', '_member_meronym', 'club_member.n.01', 1)],\n [('type_family.n.01', '_hypernym', 'type.n.04', 1),\n  ('type_family.n.01', '_member_meronym', 'font.n.01', 1),\n  ('type.n.04', '_derivationally_related_form', 'type.v.01', 1),\n  ('type.n.04', '_hypernym', 'character.n.08', 1),\n  ('character.n.08', '_derivationally_related_form', 'character.v.01', 1),\n  ('character.n.08', '_hypernym', 'written_symbol.n.01', 1),\n  ('written_symbol.n.01', '_hypernym', 'symbol.n.01', 1),\n  ('symbol.n.01', '_derivationally_related_form', 'symbolic.a.01', 1),\n  ('symbol.n.01', '_derivationally_related_form', 'typify.v.02', 1),\n  ('symbol.n.01', '_hypernym', 'signal.n.01', 1),\n  ('signal.n.01', '_derivationally_related_form', 'bespeak.v.01', 1),\n  ('signal.n.01', '_derivationally_related_form', 'bless.v.03', 1),\n  ('signal.n.01', '_derivationally_related_form', 'sign.v.05', 1),\n  ('signal.n.01', '_derivationally_related_form', 'signalize.v.01', 1),\n  ('signal.n.01', '_derivationally_related_form', 'signalize.v.03', 1),\n  ('signal.n.01', '_derivationally_related_form', 'signalize.v.04', 1),\n  ('signal.n.01', '_derivationally_related_form', 'signify.v.02', 1),\n  ('signal.n.01', '_hypernym', 'communication.n.02', 1),\n  ('communication.n.02', '_derivationally_related_form', 'commune.v.02', 1),\n  ('communication.n.02',\n   '_derivationally_related_form',\n   'communicate.v.01',\n   1),\n  ('communication.n.02',\n   '_derivationally_related_form',\n   'communicate.v.02',\n   1),\n  ('communication.n.02',\n   '_derivationally_related_form',\n   'communicate.v.05',\n   1),\n  ('communication.n.02', '_derivationally_related_form', 'convey.v.03', 1),\n  ('communication.n.02', '_hypernym', 'abstraction.n.06', 2)],\n [('pipturus.n.01', '_hypernym', 'dicot_genus.n.01', 1),\n  ('dicot_genus.n.01', '_hypernym', 'genus.n.02', 1),\n  ('genus.n.02', '_hypernym', 'taxonomic_group.n.01', 1),\n  ('genus.n.02', '_member_meronym', 'species.n.01', 1),\n  ('genus.n.02', '_member_meronym', 'subgenus.n.01', 1),\n  ('genus.n.02', '_synset_domain_topic_of', 'biology.n.01', 1),\n  ('taxonomic_group.n.01', '_hypernym', 'biological_group.n.01', 1),\n  ('biological_group.n.01', '_hypernym', 'group.n.01', 1),\n  ('group.n.01', '_derivationally_related_form', 'group.v.01', 1),\n  ('group.n.01', '_derivationally_related_form', 'group.v.02', 1),\n  ('group.n.01', '_hypernym', 'abstraction.n.06', 1),\n  ('abstraction.n.06', '_derivationally_related_form', 'abstract.v.01', 1),\n  ('abstraction.n.06', '_hypernym', 'entity.n.01', 1)],\n [('methyl.n.01', '_hypernym', 'alkyl.n.01', 1),\n  ('alkyl.n.01', '_hypernym', 'group.n.02', 1),\n  ('group.n.02', '_hypernym', 'unit.n.05', 1),\n  ('group.n.02', '_synset_domain_topic_of', 'chemistry.n.01', 1),\n  ('unit.n.05', '_derivationally_related_form', 'unitize.v.01', 1),\n  ('unit.n.05', '_derivationally_related_form', 'unitize.v.02', 1),\n  ('unit.n.05', '_derivationally_related_form', 'unitize.v.03', 1),\n  ('unit.n.05', '_has_part', 'part.n.03', 1),\n  ('unit.n.05', '_hypernym', 'thing.n.12', 2)],\n [('milliliter.n.01', '_has_part', 'cubic_millimeter.n.01', 1),\n  ('milliliter.n.01', '_hypernym', 'metric_capacity_unit.n.01', 1),\n  ('metric_capacity_unit.n.01', '_hypernym', 'metric_unit.n.01', 1),\n  ('metric_capacity_unit.n.01', '_hypernym', 'volume_unit.n.01', 1),\n  ('metric_unit.n.01', '_hypernym', 'unit_of_measurement.n.01', 1),\n  ('unit_of_measurement.n.01',\n   '_derivationally_related_form',\n   'unitize.v.03',\n   1),\n  ('unit_of_measurement.n.01', '_hypernym', 'definite_quantity.n.01', 1),\n  ('definite_quantity.n.01', '_hypernym', 'measure.n.02', 1),\n  ('measure.n.02', '_derivationally_related_form', 'measure.v.01', 1),\n  ('measure.n.02', '_derivationally_related_form', 'measure.v.04', 1),\n  ('measure.n.02', '_derivationally_related_form', 'quantify.v.02', 1),\n  ('measure.n.02', '_derivationally_related_form', 'total.v.01', 1),\n  ('measure.n.02', '_hypernym', 'abstraction.n.06', 1),\n  ('abstraction.n.06', '_derivationally_related_form', 'abstract.v.01', 1),\n  ('abstraction.n.06', '_hypernym', 'entity.n.01', 1)]]"
     },
     "execution_count": 12,
     "metadata": {},
     "output_type": "execute_result"
    }
   ],
   "source": [
    "valid_to_top_triples_list[:10]"
   ],
   "metadata": {
    "collapsed": false,
    "pycharm": {
     "name": "#%%\n"
    }
   }
  },
  {
   "cell_type": "code",
   "execution_count": null,
   "outputs": [],
   "source": [],
   "metadata": {
    "collapsed": false,
    "pycharm": {
     "name": "#%%\n"
    }
   }
  }
 ],
 "metadata": {
  "kernelspec": {
   "display_name": "Python 3",
   "language": "python",
   "name": "python3"
  },
  "language_info": {
   "codemirror_mode": {
    "name": "ipython",
    "version": 2
   },
   "file_extension": ".py",
   "mimetype": "text/x-python",
   "name": "python",
   "nbconvert_exporter": "python",
   "pygments_lexer": "ipython2",
   "version": "2.7.6"
  }
 },
 "nbformat": 4,
 "nbformat_minor": 0
}