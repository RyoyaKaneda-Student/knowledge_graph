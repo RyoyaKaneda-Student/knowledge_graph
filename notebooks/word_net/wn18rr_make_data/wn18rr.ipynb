{
 "cells": [
  {
   "cell_type": "code",
   "execution_count": 1,
   "outputs": [
    {
     "name": "stdout",
     "output_type": "stream",
     "text": [
      "/Users/ryoyakaneda/Documents/学校/M1Study/knowledge_graph\n"
     ]
    }
   ],
   "source": [
    "#!/usr/bin/python\n",
    "# -*- coding: utf-8 -*-\n",
    "# ========== python ==========\n",
    "import os\n",
    "from pathlib import Path\n",
    "from logging import Logger\n",
    "from typing import List, Dict, Tuple, Optional, Union, Callable, Final, Literal, get_args\n",
    "from operator import itemgetter, attrgetter\n",
    "import itertools\n",
    "import collections\n",
    "\n",
    "import numpy as np\n",
    "\n",
    "from utils.setup import easy_logger, get_device\n",
    "from const.const_values import PROJECT_DIR\n",
    "\n",
    "os.chdir(PROJECT_DIR)\n",
    "logger: Logger = easy_logger(f'{PROJECT_DIR}/log/jupyter_run.log')\n",
    "device = get_device(device_name='cpu', logger=logger)\n",
    "print(PROJECT_DIR)"
   ],
   "metadata": {
    "collapsed": false,
    "pycharm": {
     "name": "#%%\n"
    }
   }
  },
  {
   "cell_type": "code",
   "execution_count": 2,
   "outputs": [],
   "source": [
    "import pandas as pd\n",
    "import numpy as np\n",
    "import matplotlib.pyplot as plt\n",
    "wn18rr_train_file_path = f\"{PROJECT_DIR}/data/external/KGdata/WN18RR/text/train.txt\"\n",
    "wn18rr_valid_file_path = f\"{PROJECT_DIR}/data/external/KGdata/WN18RR/text/valid.txt\"\n",
    "wn18rr_test_file_path = f\"{PROJECT_DIR}/data/external/KGdata/WN18RR/text/test.txt\"\n",
    "HEAD, RELATION, TAIL = 'head', 'relation', 'tail'\n",
    "MODE = 'mode'\n",
    "HYPERNYM = '_hypernym'"
   ],
   "metadata": {
    "collapsed": false,
    "pycharm": {
     "name": "#%%\n"
    }
   }
  },
  {
   "cell_type": "code",
   "execution_count": 63,
   "outputs": [],
   "source": [
    "def _get_unique_list(series):\n",
    "    item2count = pd.DataFrame(series.value_counts()).reset_index()\n",
    "    item2count.columns=['item', 'count']\n",
    "    item2count = item2count.sort_values(['count', 'item'], ascending=[False, True])\n",
    "    return item2count['item'].to_list()\n",
    "\n",
    "def get_entity_relation(df):\n",
    "    entities, relations = pd.concat([df[HEAD], df[TAIL]]).sort_values(), df[RELATION].sort_values()\n",
    "    entities.columns, relations.columns = ['entity'], ['relation']\n",
    "    return pd.concat([df[HEAD], df[TAIL]]).sort_values(), df[RELATION].sort_values()\n",
    "\n",
    "def get_entity_relation_unique_list(df):\n",
    "    entities, relations = get_entity_relation(df)\n",
    "    return _get_unique_list(entities), _get_unique_list(relations)\n",
    "\n",
    "def get_id2entity_id2relation(df):\n",
    "    entities_list, relations_list = get_entity_relation_unique_list(df)\n",
    "    return {i: e for i, e in enumerate(entities_list)}, {i: r for i, r in enumerate(relations_list)}\n",
    "\n",
    "def get_entity2idx_relation2idx(df):\n",
    "    entities_list, relations_list = get_entity_relation_unique_list(df)\n",
    "    return {e: i for i, e in enumerate(entities_list)}, {r: i for i, r in enumerate(relations_list)}\n",
    "\n",
    "def get_hypernym_df(df):\n",
    "    return df[df[RELATION]==HYPERNYM]\n",
    "\n",
    "def get_hypernym_dict(df, entities):\n",
    "    hypernym_df = get_hypernym_df(df)\n",
    "    hypernym_dict = {key: [] for key in entities}\n",
    "    for index, row in hypernym_df.iterrows():\n",
    "        hypernym_dict[row[HEAD]].append(row[TAIL])\n",
    "    return hypernym_dict\n",
    "\n",
    "def get_entity2triples(df):\n",
    "    entities, _ = get_entity_relation(df)\n",
    "    entity2triples = {key: [] for key in entities}\n",
    "    for index, row in df.iterrows():\n",
    "        triple = (row[HEAD], row[RELATION], row[TAIL], (index, row[MODE]))\n",
    "        entity2triples[row[HEAD]].append(triple)\n",
    "    return entity2triples\n",
    "\n",
    "def get_hypernym_list(key, list_, *, hypernym_dict):\n",
    "    list_ = list_ + [key]\n",
    "    list_list = []\n",
    "    for child_key in hypernym_dict[key]:\n",
    "        if child_key in set(list_):\n",
    "            list_list.append(list_)\n",
    "        else:\n",
    "            list_list.extend(get_hypernym_list(child_key, list_, hypernym_dict=hypernym_dict))\n",
    "    if len(list_list)==0:\n",
    "        list_list = [list_]\n",
    "    return list_list\n",
    "\n",
    "def get_to_top_list_list(df):\n",
    "    hypernym_df = get_hypernym_df(df)\n",
    "    hypernym_bottom_entity_set = set(hypernym_df[HEAD]) - set(hypernym_df[TAIL])\n",
    "    hypernym_df = get_hypernym_df(df)\n",
    "    entities, _ = get_entity_relation(df)\n",
    "    hypernym_dict = get_hypernym_dict(hypernym_df, entities)\n",
    "    to_top_list_list = []\n",
    "    for e in hypernym_bottom_entity_set:\n",
    "        to_top_list = get_hypernym_list(e, [], hypernym_dict=hypernym_dict)\n",
    "        to_top_list_list.extend(to_top_list)\n",
    "    return to_top_list_list\n",
    "\n",
    "def get_to_top_triples_list(df, to_top_list_list):\n",
    "    entity2triples = get_entity2triples(df)\n",
    "    to_top_triples_list = []\n",
    "    for to_top_list in to_top_list_list:\n",
    "        to_top_triples = []\n",
    "        for e in to_top_list:\n",
    "            to_top_triples.extend(entity2triples[e])\n",
    "        to_top_triples_list.append(to_top_triples)\n",
    "    return to_top_triples_list\n",
    "\n",
    "def get_to_top_triples_list_limit_(to_top_triples_list, limit):\n",
    "    to_top_triples_list_limit_ = []\n",
    "    for list_ in to_top_triples_list:\n",
    "        for i in range(0, len(list_), limit):\n",
    "            to_top_triples_list_limit_.append(list_[i: i+limit])\n",
    "    return to_top_triples_list_limit_"
   ],
   "metadata": {
    "collapsed": false,
    "pycharm": {
     "name": "#%%\n"
    }
   }
  },
  {
   "cell_type": "code",
   "execution_count": 45,
   "outputs": [],
   "source": [
    "def func01(df, *, to_top_list_list=None):\n",
    "    df = df.sort_values([HEAD, RELATION, TAIL]).reset_index()\n",
    "\n",
    "    if to_top_list_list is None: to_top_list_list = get_to_top_list_list(df)\n",
    "    to_top_triples_list = get_to_top_triples_list(df, to_top_list_list)\n",
    "\n",
    "    to_top_triples_list_limit32 = get_to_top_triples_list_limit_(to_top_triples_list, 32)\n",
    "    return to_top_list_list, to_top_triples_list, to_top_triples_list_limit32"
   ],
   "metadata": {
    "collapsed": false,
    "pycharm": {
     "name": "#%%\n"
    }
   }
  },
  {
   "cell_type": "code",
   "execution_count": 5,
   "outputs": [],
   "source": [
    "def main():\n",
    "    train_df = pd.read_table(wn18rr_train_file_path, header=None, names=(HEAD, RELATION, TAIL)).assign(**{MODE: 1})\n",
    "    valid_df = pd.read_table(wn18rr_valid_file_path, header=None, names=(HEAD, RELATION, TAIL)).assign(**{MODE: 2})\n",
    "    test_df = pd.read_table(wn18rr_test_file_path, header=None, names=(HEAD, RELATION, TAIL)).assign(**{MODE: 3})\n",
    "\n",
    "    train_to_top_list_list, train_to_top_triples_list, train_to_top_triples_list_limit32 = func01(train_df)\n",
    "    valid_to_top_list_list, valid_to_top_triples_list, valid_to_top_triples_list_limit32 = func01(\n",
    "        pd.concat([train_df, valid_df]), to_top_list_list=train_to_top_list_list)\n",
    "    test_to_top_list_list, test_to_top_triples_list, test_to_top_triples_list_limit32 = func01(\n",
    "        pd.concat([train_df, valid_df, test_df]), to_top_list_list= train_to_top_list_list)\n",
    "\n",
    "    return (\n",
    "        train_to_top_list_list, train_to_top_triples_list, train_to_top_triples_list_limit32, entity2idx, relation2idx,\n",
    "        valid_to_top_list_list, valid_to_top_triples_list, valid_to_top_triples_list_limit32, entity2idx, relation2idx,\n",
    "        test_to_top_list_list, test_to_top_triples_list, test_to_top_triples_list_limit32, entity2idx, relation2idx,\n",
    "    )"
   ],
   "metadata": {
    "collapsed": false,
    "pycharm": {
     "name": "#%%\n"
    }
   }
  },
  {
   "cell_type": "code",
   "execution_count": 8,
   "outputs": [],
   "source": [
    "(train_to_top_list_list, train_to_top_triples_list, train_to_top_triples_list_limit32,\n",
    " valid_to_top_list_list, valid_to_top_triples_list, valid_to_top_triples_list_limit32,\n",
    " test_to_top_list_list, test_to_top_triples_list, test_to_top_triples_list_limit32\n",
    ") = main()"
   ],
   "metadata": {
    "collapsed": false,
    "pycharm": {
     "name": "#%%\n"
    }
   }
  },
  {
   "cell_type": "code",
   "execution_count": null,
   "outputs": [],
   "source": [
    "entity2idx, relation2idx = get_entity2idx_relation2idx()"
   ],
   "metadata": {
    "collapsed": false,
    "pycharm": {
     "name": "#%%\n"
    }
   }
  },
  {
   "cell_type": "code",
   "execution_count": 10,
   "outputs": [
    {
     "data": {
      "text/plain": "[[('baton_twirler.n.01',\n   '_derivationally_related_form',\n   'whirl.v.02',\n   (7214, 1)),\n  ('baton_twirler.n.01', '_hypernym', 'performer.n.01', (7215, 1)),\n  ('performer.n.01',\n   '_derivationally_related_form',\n   'perform.v.03',\n   (57076, 1)),\n  ('performer.n.01',\n   '_derivationally_related_form',\n   'performing_arts.n.01',\n   (57077, 1)),\n  ('performer.n.01', '_hypernym', 'entertainer.n.01', (57078, 1)),\n  ('entertainer.n.01',\n   '_derivationally_related_form',\n   'entertain.v.01',\n   (28053, 1)),\n  ('entertainer.n.01', '_hypernym', 'person.n.01', (28054, 1)),\n  ('person.n.01', '_derivationally_related_form', 'mortal.a.01', (57257, 1)),\n  ('person.n.01',\n   '_derivationally_related_form',\n   'personalize.v.01',\n   (57258, 1)),\n  ('person.n.01',\n   '_derivationally_related_form',\n   'personhood.n.01',\n   (57259, 1)),\n  ('person.n.01',\n   '_derivationally_related_form',\n   'personify.v.03',\n   (57260, 1)),\n  ('person.n.01', '_has_part', 'human_body.n.01', (57261, 1)),\n  ('person.n.01', '_has_part', 'personality.n.01', (57262, 1)),\n  ('person.n.01', '_hypernym', 'causal_agent.n.01', (57263, 1)),\n  ('person.n.01', '_hypernym', 'organism.n.01', (57264, 1)),\n  ('causal_agent.n.01',\n   '_derivationally_related_form',\n   'cause.v.01',\n   (12920, 1)),\n  ('causal_agent.n.01',\n   '_derivationally_related_form',\n   'induce.v.02',\n   (12921, 1)),\n  ('causal_agent.n.01', '_hypernym', 'physical_entity.n.01', (12922, 1)),\n  ('physical_entity.n.01', '_hypernym', 'entity.n.01', (57785, 1))],\n [('baton_twirler.n.01',\n   '_derivationally_related_form',\n   'whirl.v.02',\n   (7214, 1)),\n  ('baton_twirler.n.01', '_hypernym', 'performer.n.01', (7215, 1)),\n  ('performer.n.01',\n   '_derivationally_related_form',\n   'perform.v.03',\n   (57076, 1)),\n  ('performer.n.01',\n   '_derivationally_related_form',\n   'performing_arts.n.01',\n   (57077, 1)),\n  ('performer.n.01', '_hypernym', 'entertainer.n.01', (57078, 1)),\n  ('entertainer.n.01',\n   '_derivationally_related_form',\n   'entertain.v.01',\n   (28053, 1)),\n  ('entertainer.n.01', '_hypernym', 'person.n.01', (28054, 1)),\n  ('person.n.01', '_derivationally_related_form', 'mortal.a.01', (57257, 1)),\n  ('person.n.01',\n   '_derivationally_related_form',\n   'personalize.v.01',\n   (57258, 1)),\n  ('person.n.01',\n   '_derivationally_related_form',\n   'personhood.n.01',\n   (57259, 1)),\n  ('person.n.01',\n   '_derivationally_related_form',\n   'personify.v.03',\n   (57260, 1)),\n  ('person.n.01', '_has_part', 'human_body.n.01', (57261, 1)),\n  ('person.n.01', '_has_part', 'personality.n.01', (57262, 1)),\n  ('person.n.01', '_hypernym', 'causal_agent.n.01', (57263, 1)),\n  ('person.n.01', '_hypernym', 'organism.n.01', (57264, 1)),\n  ('organism.n.01', '_derivationally_related_form', 'be.v.11', (54336, 1)),\n  ('organism.n.01', '_has_part', 'body_part.n.01', (54337, 1)),\n  ('organism.n.01', '_has_part', 'cell.n.02', (54338, 1))]]"
     },
     "execution_count": 10,
     "metadata": {},
     "output_type": "execute_result"
    }
   ],
   "source": [
    "train_to_top_triples_list[:2]"
   ],
   "metadata": {
    "collapsed": false,
    "pycharm": {
     "name": "#%%\n"
    }
   }
  },
  {
   "cell_type": "code",
   "execution_count": null,
   "outputs": [],
   "source": [
    "from torch.nn.utils.rnn import pad_sequence\n",
    "\n",
    "train_to_top_triples_tensor = pad_sequence(pad_sequence)\n"
   ],
   "metadata": {
    "collapsed": false,
    "pycharm": {
     "name": "#%%\n"
    }
   }
  },
  {
   "cell_type": "code",
   "execution_count": null,
   "outputs": [],
   "source": [
    "plt.hist([len(list_) for list_ in train_to_top_triples_list_limit32])"
   ],
   "metadata": {
    "collapsed": false,
    "pycharm": {
     "name": "#%%\n"
    }
   }
  },
  {
   "cell_type": "code",
   "execution_count": null,
   "outputs": [],
   "source": [
    "plt.hist([len(list_) for list_ in valid_to_top_triples_list_limit32])"
   ],
   "metadata": {
    "collapsed": false,
    "pycharm": {
     "name": "#%%\n"
    }
   }
  },
  {
   "cell_type": "code",
   "execution_count": null,
   "outputs": [],
   "source": [
    "len(train_to_top_triples_list), len(valid_to_top_triples_list)"
   ],
   "metadata": {
    "collapsed": false,
    "pycharm": {
     "name": "#%%\n"
    }
   }
  },
  {
   "cell_type": "code",
   "execution_count": null,
   "outputs": [],
   "source": [
    "valid_to_top_triples_list[:10]"
   ],
   "metadata": {
    "collapsed": false,
    "pycharm": {
     "name": "#%%\n"
    }
   }
  },
  {
   "cell_type": "code",
   "execution_count": null,
   "outputs": [],
   "source": [],
   "metadata": {
    "collapsed": false,
    "pycharm": {
     "name": "#%%\n"
    }
   }
  }
 ],
 "metadata": {
  "kernelspec": {
   "display_name": "Python 3",
   "language": "python",
   "name": "python3"
  },
  "language_info": {
   "codemirror_mode": {
    "name": "ipython",
    "version": 2
   },
   "file_extension": ".py",
   "mimetype": "text/x-python",
   "name": "python",
   "nbconvert_exporter": "python",
   "pygments_lexer": "ipython2",
   "version": "2.7.6"
  }
 },
 "nbformat": 4,
 "nbformat_minor": 0
}