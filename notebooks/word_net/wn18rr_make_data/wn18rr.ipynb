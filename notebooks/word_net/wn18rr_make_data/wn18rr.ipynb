{
 "cells": [
  {
   "cell_type": "code",
   "execution_count": 1,
   "outputs": [
    {
     "name": "stdout",
     "output_type": "stream",
     "text": [
      "/Users/ryoyakaneda/Documents/学校/M1Study/knowledge_graph\n"
     ]
    }
   ],
   "source": [
    "#!/usr/bin/python\n",
    "# -*- coding: utf-8 -*-\n",
    "# ========== python ==========\n",
    "import os\n",
    "from pathlib import Path\n",
    "from logging import Logger\n",
    "from typing import List, Dict, Tuple, Optional, Union, Callable, Final, Literal, get_args\n",
    "from operator import itemgetter, attrgetter\n",
    "import itertools\n",
    "import collections\n",
    "\n",
    "import numpy as np\n",
    "\n",
    "from utils.setup import easy_logger, get_device\n",
    "from const.const_values import PROJECT_DIR\n",
    "\n",
    "os.chdir(PROJECT_DIR)\n",
    "logger: Logger = easy_logger(f'{PROJECT_DIR}/log/jupyter_run.log')\n",
    "device = get_device(device_name='cpu', logger=logger)\n",
    "print(PROJECT_DIR)"
   ],
   "metadata": {
    "collapsed": false,
    "pycharm": {
     "name": "#%%\n"
    }
   }
  },
  {
   "cell_type": "code",
   "execution_count": 2,
   "outputs": [],
   "source": [
    "import pandas as pd\n",
    "import numpy as np\n",
    "import torch\n",
    "from torch.nn.utils.rnn import pad_sequence\n",
    "import matplotlib.pyplot as plt\n",
    "wn18rr_train_file_path = f\"{PROJECT_DIR}/data/external/KGdata/WN18RR/text/train.txt\"\n",
    "wn18rr_valid_file_path = f\"{PROJECT_DIR}/data/external/KGdata/WN18RR/text/valid.txt\"\n",
    "wn18rr_test_file_path = f\"{PROJECT_DIR}/data/external/KGdata/WN18RR/text/test.txt\"\n",
    "HEAD, RELATION, TAIL = 'head', 'relation', 'tail'\n",
    "MODE = 'mode'\n",
    "HYPERNYM = '_hypernym'"
   ],
   "metadata": {
    "collapsed": false,
    "pycharm": {
     "name": "#%%\n"
    }
   }
  },
  {
   "cell_type": "code",
   "execution_count": 91,
   "outputs": [],
   "source": [
    "def _get_unique_list(series):\n",
    "    item2count = pd.DataFrame(series.value_counts()).reset_index()\n",
    "    item2count.columns=['item', 'count']\n",
    "    item2count = item2count.sort_values(['count', 'item'], ascending=[False, True])\n",
    "    return item2count['item'].to_list()\n",
    "\n",
    "def get_entity_relation(df):\n",
    "    entities, relations = pd.concat([df[HEAD], df[TAIL]]).sort_values(), df[RELATION].sort_values()\n",
    "    entities.columns, relations.columns = ['entity'], ['relation']\n",
    "    return pd.concat([df[HEAD], df[TAIL]]).sort_values(), df[RELATION].sort_values()\n",
    "\n",
    "def get_entity_relation_unique_list(df):\n",
    "    entities, relations = get_entity_relation(df)\n",
    "    return _get_unique_list(entities), _get_unique_list(relations)\n",
    "\n",
    "def get_id2entity_id2relation(df):\n",
    "    entities_list, relations_list = get_entity_relation_unique_list(df)\n",
    "    return {i: e for i, e in enumerate(entities_list)}, {i: r for i, r in enumerate(relations_list)}\n",
    "\n",
    "def get_entity2idx_relation2idx(df):\n",
    "    entities_list, relations_list = get_entity_relation_unique_list(df)\n",
    "    return {e: i for i, e in enumerate(entities_list)}, {r: i for i, r in enumerate(relations_list)}\n",
    "\n",
    "def change_entity_relation(list_, entity2idx, relation2idx, entity_indexes, relation_indexes):\n",
    "    new_list = []\n",
    "    for i, item in enumerate(list_):\n",
    "        new_list.append(entity2idx[item] if i in entity_indexes else\n",
    "                        relation2idx[item] if i in relation_indexes else item)\n",
    "    return tuple(new_list)\n",
    "\n",
    "def get_hypernym_df(df):\n",
    "    return df[df[RELATION]==HYPERNYM]\n",
    "\n",
    "def get_hypernym_dict(df, entities):\n",
    "    hypernym_df = get_hypernym_df(df)\n",
    "    hypernym_dict = {key: [] for key in entities}\n",
    "    for index, row in hypernym_df.iterrows():\n",
    "        hypernym_dict[row[HEAD]].append(row[TAIL])\n",
    "    return hypernym_dict\n",
    "\n",
    "def get_entity2triples(df)->dict:\n",
    "    entities, _ = get_entity_relation(df)\n",
    "    entity2triples = {key: [] for key in entities}\n",
    "    for index, row in df.iterrows():\n",
    "        triple = (row[HEAD], row[RELATION], row[TAIL], row[MODE])\n",
    "        entity2triples[row[HEAD]].append(triple)\n",
    "    return entity2triples\n",
    "\n",
    "def get_hypernym_list(key, list_, *, hypernym_dict):\n",
    "    list_ = list_ + [key]\n",
    "    list_list = []\n",
    "    for child_key in hypernym_dict[key]:\n",
    "        if child_key in set(list_):\n",
    "            list_list.append(list_)\n",
    "        else:\n",
    "            list_list.extend(get_hypernym_list(child_key, list_, hypernym_dict=hypernym_dict))\n",
    "    if len(list_list)==0:\n",
    "        list_list = [list_]\n",
    "    return list_list\n",
    "\n",
    "def get_to_top_list_list(df):\n",
    "    hypernym_df = get_hypernym_df(df)\n",
    "    hypernym_bottom_entity_set = set(hypernym_df[HEAD]) - set(hypernym_df[TAIL])\n",
    "    hypernym_df = get_hypernym_df(df)\n",
    "    entities, _ = get_entity_relation(df)\n",
    "    hypernym_dict = get_hypernym_dict(hypernym_df, entities)\n",
    "    to_top_list_list = []\n",
    "    for e in hypernym_bottom_entity_set:\n",
    "        to_top_list = get_hypernym_list(e, [], hypernym_dict=hypernym_dict)\n",
    "        to_top_list_list.extend(to_top_list)\n",
    "    return to_top_list_list\n",
    "\n",
    "def get_to_top_triples_list(df, to_top_list_list):\n",
    "    entity2triples = get_entity2triples(df)\n",
    "    to_top_triples_list = []\n",
    "    for to_top_list in to_top_list_list:\n",
    "        to_top_triples = []\n",
    "        for e in to_top_list:\n",
    "            to_top_triples.extend(entity2triples[e])\n",
    "        to_top_triples_list.append(to_top_triples)\n",
    "    return to_top_triples_list\n",
    "\n",
    "def get_to_top_triples_list_limit_(to_top_triples_list, limit):\n",
    "    new_to_top_triples_list_limit = []\n",
    "    for list_ in to_top_triples_list:\n",
    "        for i in range(0, len(list_), limit):\n",
    "            new_to_top_triples_list_limit.append(list_[i: i+limit])\n",
    "    return new_to_top_triples_list_limit\n",
    "\n",
    "def get_to_top_tensor_list(to_top_triples_list, entity2idx, relation2idx):\n",
    "    to_top_tensor_list = [torch.tensor(\n",
    "        [change_entity_relation(_triple, entity2idx, relation2idx, (0,2), (1,)) for _triple in to_top_triples]\n",
    "        , dtype=torch.int64) for to_top_triples in to_top_triples_list]\n",
    "    return to_top_tensor_list\n",
    "\n",
    "def get_sequence_tensor(tensor_list, padding_token, max_len):\n",
    "    sequence_tensor = torch.tensor([[padding_token for _ in range(max_len)] for _ in range(len(tensor_list))\n",
    "                                    ], dtype=torch.int64)\n",
    "    [sequence_tensor[i, :len(_tensor)].copy_(_tensor) for  i, _tensor in enumerate(tensor_list)]\n",
    "    return sequence_tensor"
   ],
   "metadata": {
    "collapsed": false,
    "pycharm": {
     "name": "#%%\n"
    }
   }
  },
  {
   "cell_type": "code",
   "execution_count": 92,
   "outputs": [],
   "source": [
    "def func01(df, *, to_top_list_list=None):\n",
    "    df = df.sort_values([HEAD, RELATION, TAIL]).reset_index()\n",
    "    to_top_list_list = to_top_list_list or get_to_top_list_list(df)\n",
    "    to_top_triples_list = get_to_top_triples_list(df, to_top_list_list)\n",
    "    to_top_triples_list_limit32 = get_to_top_triples_list_limit_(to_top_triples_list, 32)\n",
    "\n",
    "    return to_top_list_list, to_top_triples_list, to_top_triples_list_limit32"
   ],
   "metadata": {
    "collapsed": false,
    "pycharm": {
     "name": "#%%\n"
    }
   }
  },
  {
   "cell_type": "code",
   "execution_count": 93,
   "outputs": [],
   "source": [
    "def main():\n",
    "    train_df = pd.read_table(wn18rr_train_file_path, header=None, names=(HEAD, RELATION, TAIL)).assign(**{MODE: 1})\n",
    "    valid_df = pd.read_table(wn18rr_valid_file_path, header=None, names=(HEAD, RELATION, TAIL)).assign(**{MODE: 2})\n",
    "    test_df = pd.read_table(wn18rr_test_file_path, header=None, names=(HEAD, RELATION, TAIL)).assign(**{MODE: 3})\n",
    "\n",
    "    entity2idx, relation2idx = get_entity2idx_relation2idx(pd.concat([train_df, valid_df, test_df]))\n",
    "\n",
    "    train_to_top_list_list, _, train_to_top_triples_list_limit32 = func01(train_df)\n",
    "    _, _, valid_to_top_triples_list_limit32 = func01(pd.concat([train_df, valid_df]), to_top_list_list=train_to_top_list_list)\n",
    "    _, _, test_to_top_triples_list_limit32 = func01(pd.concat([train_df, valid_df, test_df]), to_top_list_list= train_to_top_list_list)\n",
    "\n",
    "    # print(train_to_top_triples_list_limit32[0])\n",
    "    train_to_top_tensor_list = get_to_top_tensor_list(train_to_top_triples_list_limit32, entity2idx, relation2idx)\n",
    "    sequence_tensor = get_sequence_tensor(train_to_top_tensor_list, [0,0,0,0], 32)\n"
   ],
   "metadata": {
    "collapsed": false,
    "pycharm": {
     "name": "#%%\n"
    }
   }
  },
  {
   "cell_type": "code",
   "execution_count": 94,
   "outputs": [
    {
     "name": "stderr",
     "output_type": "stream",
     "text": [
      "IOPub data rate exceeded.\n",
      "The notebook server will temporarily stop sending output\n",
      "to the client in order to avoid crashing it.\n",
      "To change this limit, set the config variable\n",
      "`--NotebookApp.iopub_data_rate_limit`.\n",
      "\n",
      "Current values:\n",
      "NotebookApp.iopub_data_rate_limit=1000000.0 (bytes/sec)\n",
      "NotebookApp.rate_limit_window=3.0 (secs)\n",
      "\n"
     ]
    },
    {
     "name": "stdout",
     "output_type": "stream",
     "text": [
      "torch.Size([30425, 32, 4])\n"
     ]
    }
   ],
   "source": [
    "main()"
   ],
   "metadata": {
    "collapsed": false,
    "pycharm": {
     "name": "#%%\n"
    }
   }
  },
  {
   "cell_type": "code",
   "execution_count": null,
   "outputs": [],
   "source": [],
   "metadata": {
    "collapsed": false,
    "pycharm": {
     "name": "#%%\n"
    }
   }
  },
  {
   "cell_type": "code",
   "execution_count": null,
   "outputs": [],
   "source": [
    "plt.hist([len(list_) for list_ in train_to_top_triples_list_limit32])"
   ],
   "metadata": {
    "collapsed": false,
    "pycharm": {
     "name": "#%%\n"
    }
   }
  },
  {
   "cell_type": "code",
   "execution_count": null,
   "outputs": [],
   "source": [
    "plt.hist([len(list_) for list_ in valid_to_top_triples_list_limit32])"
   ],
   "metadata": {
    "collapsed": false,
    "pycharm": {
     "name": "#%%\n"
    }
   }
  },
  {
   "cell_type": "code",
   "execution_count": null,
   "outputs": [],
   "source": [
    "len(train_to_top_triples_list), len(valid_to_top_triples_list)"
   ],
   "metadata": {
    "collapsed": false,
    "pycharm": {
     "name": "#%%\n"
    }
   }
  },
  {
   "cell_type": "code",
   "execution_count": null,
   "outputs": [],
   "source": [
    "valid_to_top_triples_list[:10]"
   ],
   "metadata": {
    "collapsed": false,
    "pycharm": {
     "name": "#%%\n"
    }
   }
  },
  {
   "cell_type": "code",
   "execution_count": null,
   "outputs": [],
   "source": [],
   "metadata": {
    "collapsed": false,
    "pycharm": {
     "name": "#%%\n"
    }
   }
  }
 ],
 "metadata": {
  "kernelspec": {
   "display_name": "Python 3",
   "language": "python",
   "name": "python3"
  },
  "language_info": {
   "codemirror_mode": {
    "name": "ipython",
    "version": 2
   },
   "file_extension": ".py",
   "mimetype": "text/x-python",
   "name": "python",
   "nbconvert_exporter": "python",
   "pygments_lexer": "ipython2",
   "version": "2.7.6"
  }
 },
 "nbformat": 4,
 "nbformat_minor": 0
}