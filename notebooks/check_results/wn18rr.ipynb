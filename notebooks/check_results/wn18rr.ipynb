{
 "cells": [
  {
   "cell_type": "code",
   "execution_count": 1,
   "metadata": {
    "collapsed": false,
    "pycharm": {
     "name": "#%%\n"
    }
   },
   "outputs": [],
   "source": [
    "#!/usr/bin/python\n",
    "# -*- coding: utf-8 -*-\n",
    "# ========== python ==========\n",
    "import os\n",
    "import gc\n",
    "from pathlib import Path\n",
    "from logging import Logger\n",
    "from typing import List, Dict, Tuple, Optional, Union, Callable, Final, Literal, get_args\n",
    "from operator import itemgetter, attrgetter\n",
    "import itertools\n",
    "from IPython.display import display, clear_output\n",
    "\n",
    "from utils.setup import setup_logger, get_device\n",
    "from const.const_values import PROJECT_DIR\n",
    "\n",
    "os.chdir(PROJECT_DIR)\n",
    "logger: Logger = setup_logger(__name__, f'{PROJECT_DIR}/log/jupyter_run.log')\n",
    "device = get_device(device_name='cpu', logger=logger)"
   ]
  },
  {
   "cell_type": "code",
   "execution_count": 2,
   "metadata": {
    "collapsed": false,
    "pycharm": {
     "name": "#%%\n"
    }
   },
   "outputs": [],
   "source": [
    "# jupyter\n",
    "import seaborn as sns\n",
    "import matplotlib.pyplot as plt\n",
    "# Machine learning\n",
    "import numpy as np\n",
    "import pandas as pd\n",
    "import h5py\n",
    "import optuna\n",
    "# torch\n",
    "import torch\n",
    "from torch.nn import CrossEntropyLoss\n",
    "from torch.nn import functional as F\n",
    "from torch.utils.data import Dataset\n",
    "from torch.utils.data.dataloader import DataLoader\n",
    "from torch.utils.tensorboard.writer import SummaryWriter\n",
    "# torch ignite\n",
    "from ignite.engine import Engine\n",
    "from ignite.handlers import Checkpoint, EpochOutputStore\n",
    "# My items\n",
    "from models.datasets.data_helper import MyDataHelperForStory, MyDataLoaderHelper, DefaultTokens\n",
    "from models.datasets.datasets_for_sequence import StoryTriple\n",
    "# My utils\n",
    "from utils.setup import load_param\n",
    "from utils.torch import load_model, torch_fix_seed\n",
    "# main function\n",
    "from run_for_WN18RR import main_function, setup_parser"
   ]
  },
  {
   "cell_type": "code",
   "execution_count": 3,
   "outputs": [],
   "source": [
    "pd.set_option('display.max_rows', 500)\n",
    "pd.set_option('display.max_columns', 100)"
   ],
   "metadata": {
    "collapsed": false,
    "pycharm": {
     "name": "#%%\n"
    }
   }
  },
  {
   "cell_type": "code",
   "execution_count": 4,
   "outputs": [
    {
     "name": "stderr",
     "output_type": "stream",
     "text": [
      "usage: ipykernel_launcher.py [-h] [--notebook] [--console-level {info,debug}]\n",
      "                             [--logfile LOGFILE] [--param-file PARAM_FILE]\n",
      "                             [--device-name {cpu,cuda,mps}] [--train-anyway]\n",
      "                             [--tensorboard-dir TENSORBOARD_DIR]\n",
      "                             [--checkpoint-dir CHECKPOINT_DIR] --model-path\n",
      "                             MODEL_PATH [--resume-from-checkpoint]\n",
      "                             [--resume-from-last-point]\n",
      "                             [--only-load-trainer-evaluator]\n",
      "                             [--resume-checkpoint-path RESUME_CHECKPOINT_PATH]\n",
      "                             [--pre-train] [--train-valid-test] [--only-train]\n",
      "                             [--do-optuna] [--optuna-file OPTUNA_FILE]\n",
      "                             [--study-name STUDY_NAME] [--n-trials N_TRIALS]\n",
      "                             [--entity-special-num ENTITY_SPECIAL_NUM]\n",
      "                             [--relation-special-num RELATION_SPECIAL_NUM]\n",
      "                             [--padding-token-e PADDING_TOKEN_E]\n",
      "                             [--cls-token-e CLS_TOKEN_E]\n",
      "                             [--mask-token-e MASK_TOKEN_E]\n",
      "                             [--sep-token-e SEP_TOKEN_E]\n",
      "                             [--bos-token-e BOS_TOKEN_E]\n",
      "                             [--padding-token-r PADDING_TOKEN_R]\n",
      "                             [--cls-token-r CLS_TOKEN_R]\n",
      "                             [--mask-token-r MASK_TOKEN_R]\n",
      "                             [--sep-token-r SEP_TOKEN_R]\n",
      "                             [--bos-token-r BOS_TOKEN_R]\n",
      "                             [--model-version {01,02,03,03a}]\n",
      "                             [--embedding-dim EMBEDDING_DIM]\n",
      "                             [--entity-embedding-dim ENTITY_EMBEDDING_DIM]\n",
      "                             [--relation-embedding-dim RELATION_EMBEDDING_DIM]\n",
      "                             [--separate-head-and-tail]\n",
      "                             [--batch-size BATCH_SIZE] [--max-len MAX-LENGTH]\n",
      "                             [--no-use-pe] [--init-embedding-using-bert]\n",
      "                             [--mask-percent mask-rate]\n",
      "                             [--mask-mask-percent mask-rate]\n",
      "                             [--mask-random-percent random-rate]\n",
      "                             [--mask-nomask-percent nomask-rate]\n",
      "                             [--skip-head-mask] [--skip-relation-mask]\n",
      "                             [--skip-tail-mask] [--nhead N] [--num-layers NUM]\n",
      "                             [--dim-feedforward DIM]\n",
      "                             [--transformer-drop DROP_RATE]\n",
      "                             [--position-encoder-drop DROP_RATE] [--lr LR]\n",
      "                             [--lr-head LR_HEAD] [--lr-relation LR_RELATION]\n",
      "                             [--lr-tail LR_TAIL]\n",
      "                             [--loss-function {cross_entropy_loss,focal_loss}]\n",
      "                             [--epoch EPOCH] [--early-stopping]\n",
      "                             [--early-stopping-count EARLY_STOPPING_COUNT]\n",
      "                             [--valid-interval VALID_INTERVAL] [--gamma GAMMA]\n",
      "ipykernel_launcher.py: error: the following arguments are required: --model-path\n"
     ]
    },
    {
     "ename": "SystemExit",
     "evalue": "2",
     "output_type": "error",
     "traceback": [
      "An exception has occurred, use %tb to see the full traceback.\n",
      "\u001B[0;31mSystemExit\u001B[0m\u001B[0;31m:\u001B[0m 2\n"
     ]
    },
    {
     "name": "stderr",
     "output_type": "stream",
     "text": [
      "/Users/ryoyakaneda/Library/Caches/pypoetry/virtualenvs/knowledge-graph-GsKW7g2h-py3.10/lib/python3.10/site-packages/IPython/core/interactiveshell.py:3450: UserWarning: To exit: use 'exit', 'quit', or Ctrl-D.\n",
      "  warn(\"To exit: use 'exit', 'quit', or Ctrl-D.\", stacklevel=1)\n"
     ]
    }
   ],
   "source": [
    "args=setup_parser([\"--notebook\", \"--only-load-trainer-evaluator\", \"--train-valid-test\"\n",
    "                   \"--model-path\", \"log/test.pth\",\n",
    "                   ])\n",
    "args"
   ],
   "metadata": {
    "collapsed": false,
    "pycharm": {
     "name": "#%%\n"
    }
   }
  },
  {
   "cell_type": "code",
   "execution_count": null,
   "outputs": [],
   "source": [
    "return_dict = main_function(args, logger=logger)"
   ],
   "metadata": {
    "collapsed": false,
    "pycharm": {
     "name": "#%%\n"
    }
   }
  },
  {
   "cell_type": "code",
   "execution_count": null,
   "outputs": [],
   "source": [],
   "metadata": {
    "collapsed": false,
    "pycharm": {
     "name": "#%%\n"
    }
   }
  }
 ],
 "metadata": {
  "kernelspec": {
   "display_name": "Python 3 (ipykernel)",
   "language": "python",
   "name": "python3"
  },
  "language_info": {
   "codemirror_mode": {
    "name": "ipython",
    "version": 3
   },
   "file_extension": ".py",
   "mimetype": "text/x-python",
   "name": "python",
   "nbconvert_exporter": "python",
   "pygments_lexer": "ipython3",
   "version": "3.10.4"
  },
  "varInspector": {
   "cols": {
    "lenName": 16,
    "lenType": 16,
    "lenVar": 40
   },
   "kernels_config": {
    "python": {
     "delete_cmd_postfix": "",
     "delete_cmd_prefix": "del ",
     "library": "var_list.py",
     "varRefreshCmd": "print(var_dic_list())"
    },
    "r": {
     "delete_cmd_postfix": ") ",
     "delete_cmd_prefix": "rm(",
     "library": "var_list.r",
     "varRefreshCmd": "cat(var_dic_list()) "
    }
   },
   "types_to_exclude": [
    "module",
    "function",
    "builtin_function_or_method",
    "instance",
    "_Feature"
   ],
   "window_display": false
  },
  "vscode": {
   "interpreter": {
    "hash": "aee8b7b246df8f9039afb4144a1f6fd8d2ca17a180786b69acc140d282b71a49"
   }
  }
 },
 "nbformat": 4,
 "nbformat_minor": 5
}