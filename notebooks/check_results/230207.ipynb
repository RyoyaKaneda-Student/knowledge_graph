{
 "cells": [
  {
   "cell_type": "code",
   "execution_count": 1,
   "metadata": {
    "collapsed": false,
    "pycharm": {
     "name": "#%%\n"
    }
   },
   "outputs": [],
   "source": [
    "#!/usr/bin/python\n",
    "# -*- coding: utf-8 -*-\n",
    "# ========== python ==========\n",
    "import os\n",
    "from pathlib import Path\n",
    "from logging import Logger\n",
    "from typing import List, Dict, Tuple, Optional, Union, Callable, Final, Literal, get_args\n",
    "from operator import itemgetter, attrgetter\n",
    "import itertools\n",
    "from IPython.display import display\n",
    "\n",
    "from utils.setup import setup_logger, get_device\n",
    "from const.const_values import PROJECT_DIR\n",
    "\n",
    "os.chdir(PROJECT_DIR)\n",
    "logger: Logger = setup_logger(__name__, f'{PROJECT_DIR}/log/jupyter_run.log')\n",
    "device = get_device(device_name='cpu', logger=logger)"
   ]
  },
  {
   "cell_type": "code",
   "execution_count": 2,
   "metadata": {
    "collapsed": false,
    "pycharm": {
     "name": "#%%\n"
    }
   },
   "outputs": [],
   "source": [
    "# jupyter\n",
    "import seaborn as sns\n",
    "import matplotlib.pyplot as plt\n",
    "# Machine learning\n",
    "import numpy as np\n",
    "import pandas as pd\n",
    "import h5py\n",
    "import optuna\n",
    "# torch\n",
    "import torch\n",
    "from torch.nn import CrossEntropyLoss\n",
    "from torch.utils.data import Dataset\n",
    "from torch.utils.data.dataloader import DataLoader\n",
    "from torch.utils.tensorboard.writer import SummaryWriter\n",
    "# torch ignite\n",
    "from ignite.engine import Engine\n",
    "from ignite.handlers import Checkpoint, EpochOutputStore\n",
    "# My items\n",
    "from models.datasets.data_helper import MyDataHelper, MyDataLoaderHelper, DefaultTokens\n",
    "from models.datasets.datasets_for_sequence import StoryTriple\n",
    "# My utils\n",
    "from utils.setup import load_param\n",
    "from utils.torch import load_model, torch_fix_seed\n",
    "# main function\n",
    "from run_for_KGC import main_function, fix_args"
   ]
  },
  {
   "cell_type": "code",
   "execution_count": 3,
   "metadata": {
    "collapsed": false,
    "pycharm": {
     "name": "#%%\n"
    }
   },
   "outputs": [],
   "source": [
    "pd.set_option('display.max_rows', 500)\n",
    "pd.set_option('display.max_columns', 100)"
   ]
  },
  {
   "cell_type": "code",
   "execution_count": 4,
   "metadata": {
    "collapsed": false,
    "pycharm": {
     "name": "#%%\n"
    }
   },
   "outputs": [],
   "source": [
    "from const.const_values import CPU, MODEL\n",
    "from models.KGModel.kg_model import HEAD, RELATION, TAIL\n",
    "from utils.torch_ignite import TRAINER, EVALUATOR\n",
    "from const.const_values import DATASETS, DATA_HELPER, DATA_LOADERS, TRAIN_RETURNS"
   ]
  },
  {
   "cell_type": "code",
   "execution_count": 5,
   "metadata": {
    "collapsed": false,
    "pycharm": {
     "name": "#%%\n"
    }
   },
   "outputs": [],
   "source": [
    "SEED: Final[int] = 42\n",
    "args_path = f'{PROJECT_DIR}/models/230205/01/param.pkl'\n",
    "model_path = f'{PROJECT_DIR}/models/230205/01/model.pth'"
   ]
  },
  {
   "cell_type": "code",
   "execution_count": 6,
   "outputs": [
    {
     "name": "stderr",
     "output_type": "stream",
     "text": [
      "/Users/ryoyakaneda/Documents/学校/M1Study/knowledge_graph/src/run_for_KGC.py:112: UserWarning: The parameter --lr-story is deprecated. please use --lr-head\n",
      "  warnings.warn(\"The parameter --lr-story is deprecated. please use --lr-head\")\n",
      "/Users/ryoyakaneda/Documents/学校/M1Study/knowledge_graph/src/run_for_KGC.py:117: UserWarning: The parameter --lr-entity is deprecated. please use --lr-tail\n",
      "  warnings.warn(\"The parameter --lr-entity is deprecated. please use --lr-tail\")\n"
     ]
    }
   ],
   "source": [
    "args = load_param(args_path)\n",
    "\n",
    "# args.pre_train = True\n",
    "args.logger = logger\n",
    "# args.device = device\n",
    "args.batch_size = 16\n",
    "args.pre_train=False\n",
    "args.init_embedding_using_bert = False\n",
    "args.model_path = model_path\n",
    "args.only_load_trainer_evaluator = True\n",
    "args.train_anyway=True\n",
    "args.non_blocking=False\n",
    "args.lr_head = None\n",
    "args.lr_tail = None\n",
    "\n",
    "args = fix_args(args)\n",
    "\n",
    "del args.optuna_file, args.device_name, args.pid, args.study_name, args.n_trials"
   ],
   "metadata": {
    "collapsed": false,
    "pycharm": {
     "name": "#%%\n"
    }
   }
  },
  {
   "cell_type": "code",
   "execution_count": 7,
   "outputs": [
    {
     "data": {
      "text/plain": "Namespace(notebook=False, console_level='info', logfile='models/230205/01/log.log', param_file='models/230205/01/param.pkl', train_anyway=True, old_data=0, tensorboard_dir='models/230205/01/tensorboard', checkpoint_dir='models/230205/01/checkpoint/', model_path='/Users/ryoyakaneda/Documents/学校/M1Study/knowledge_graph/models/230205/01/model.pth', resume_from_checkpoint=False, resume_from_last_point=False, only_load_trainer_evaluator=True, resume_checkpoint_path=None, pre_train=False, train_valid_test=True, only_train=False, use_for_challenge100=False, use_for_challenge090=False, use_for_challenge075=False, use_title=None, do_optuna=False, story_special_num=5, relation_special_num=5, entity_special_num=5, padding_token_e=0, cls_token_e=1, mask_token_e=2, sep_token_e=3, bos_token_e=4, padding_token_r=0, cls_token_r=1, mask_token_r=2, sep_token_r=3, bos_token_r=4, padding_token_s=0, cls_token_s=1, mask_token_s=2, sep_token_s=3, bos_token_s=4, model_version='03', embedding_dim=128, entity_embedding_dim=768, relation_embedding_dim=64, separate_head_and_tail=False, batch_size=16, max_len=512, no_use_pe=False, init_embedding_using_bert=False, mask_percent=0.3, mask_mask_percent=0.6, mask_random_percent=0.1, mask_nomask_percent=0.3, nhead=4, num_layers=4, dim_feedforward=1028, transformer_drop=0.1, position_encoder_drop=0.1, lr=0.0001, lr_relation=1e-06, loss_function='focal_loss', loss_weight_story=1.0, loss_weight_relation=1.0, loss_weight_entity=1.0, epoch=1500, early_stopping=True, early_stopping_count=10, valid_interval=50, gamma=2.5, project_dir=PosixPath('/var/www'), logger=<Logger __main__ (DEBUG)>, device=device(type='cuda'), non_blocking=False, lr_head=5e-05, lr_tail=1e-06, skip_head_mask=False, skip_relation_mask=False, skip_tail_mask=False)"
     },
     "execution_count": 7,
     "metadata": {},
     "output_type": "execute_result"
    }
   ],
   "source": [
    "args"
   ],
   "metadata": {
    "collapsed": false,
    "pycharm": {
     "name": "#%%\n"
    }
   }
  },
  {
   "cell_type": "code",
   "execution_count": 8,
   "outputs": [
    {
     "name": "stderr",
     "output_type": "stream",
     "text": [
      "2023-02-09 00:42:55 - WARNING - run_for_KGC.py - 623 - This process do not have reproducible.\n",
      "2023-02-09 00:42:55 - INFO - run_for_KGC.py - 989 - ----- make datahelper start. -----\n",
      "2023-02-09 00:42:55 - INFO - data_helper.py - 333 - ====== Show MyRawData ======\n",
      "2023-02-09 00:42:55 - INFO - data_helper.py - 334 - entity num: 7812\n",
      "2023-02-09 00:42:55 - INFO - data_helper.py - 335 - relation num: 62\n",
      "2023-02-09 00:42:55 - INFO - data_helper.py - 336 - ====== Show MyRawData ======\n",
      "2023-02-09 00:42:55 - INFO - data_helper.py - 607 - ========== Show DataHelper ==========\n",
      "2023-02-09 00:42:55 - INFO - data_helper.py - 333 - ====== Show MyRawData ======\n",
      "2023-02-09 00:42:55 - INFO - data_helper.py - 334 - entity num: 7812\n",
      "2023-02-09 00:42:55 - INFO - data_helper.py - 335 - relation num: 62\n",
      "2023-02-09 00:42:55 - INFO - data_helper.py - 336 - ====== Show MyRawData ======\n",
      "2023-02-09 00:42:55 - INFO - data_helper.py - 609 - entity_special_dicts: {0: '<pad_e>', 1: '<cls_e>', 2: '<mask_e>', 3: '<sep_e>', 4: '<bos_e>'}\n",
      "2023-02-09 00:42:55 - INFO - data_helper.py - 610 - relation_special_dicts: {0: '<pad_r>', 1: '<cls_r>', 2: '<mask_r>', 3: '<sep_r>', 4: '<bos_r>'}\n",
      "2023-02-09 00:42:55 - INFO - data_helper.py - 611 - processed entity num: 7817\n",
      "2023-02-09 00:42:55 - INFO - data_helper.py - 612 - processed relation num: 67\n",
      "2023-02-09 00:42:55 - INFO - data_helper.py - 613 - ========== Show DataHelper ==========\n",
      "2023-02-09 00:42:55 - INFO - run_for_KGC.py - 991 - ----- make datahelper complete. -----\n",
      "2023-02-09 00:42:55 - INFO - run_for_KGC.py - 993 - ----- make datasets start. -----\n",
      "2023-02-09 00:42:55 - INFO - run_for_KGC.py - 778 - ----- Sequence triple data. -----\n",
      "2023-02-09 00:42:55 - INFO - run_for_KGC.py - 995 - ----- make datasets complete. -----\n",
      "2023-02-09 00:42:55 - INFO - run_for_KGC.py - 997 - ----- make dataloader start. -----\n",
      "2023-02-09 00:42:55 - INFO - run_for_KGC.py - 999 - ----- make dataloader complete. -----\n",
      "2023-02-09 00:42:55 - INFO - run_for_KGC.py - 1001 - ----- do train start -----\n",
      "2023-02-09 00:42:55 - INFO - run_for_KGC.py - 832 - \n",
      "KgSequenceTransformer03(\n",
      "  (entity_embeddings): Embedding(7817, 768, padding_idx=0)\n",
      "  (relation_embeddings): Embedding(67, 64, padding_idx=0)\n",
      "  (head_maskdlm): Feedforward(\n",
      "    (linear1): Linear(in_features=128, out_features=128, bias=True)\n",
      "    (norm): Identity()\n",
      "    (activation): GELU(approximate='none')\n",
      "    (linear2): Linear(in_features=128, out_features=7817, bias=True)\n",
      "  )\n",
      "  (relation_maskdlm): Feedforward(\n",
      "    (linear1): Linear(in_features=128, out_features=128, bias=True)\n",
      "    (norm): Identity()\n",
      "    (activation): GELU(approximate='none')\n",
      "    (linear2): Linear(in_features=128, out_features=67, bias=True)\n",
      "  )\n",
      "  (tail_maskdlm): Feedforward(\n",
      "    (linear1): Linear(in_features=128, out_features=128, bias=True)\n",
      "    (norm): Identity()\n",
      "    (activation): GELU(approximate='none')\n",
      "    (linear2): Linear(in_features=128, out_features=7817, bias=True)\n",
      "  )\n",
      "  (pe): PositionalEncoding(\n",
      "    (dropout): Dropout(p=0.1, inplace=False)\n",
      "  )\n",
      "  (transformer): TransformerEncoder(\n",
      "    (layers): ModuleList(\n",
      "      (0): TransformerEncoderLayer(\n",
      "        (self_attn): MultiheadAttention(\n",
      "          (out_proj): NonDynamicallyQuantizableLinear(in_features=128, out_features=128, bias=True)\n",
      "        )\n",
      "        (linear1): Linear(in_features=128, out_features=1028, bias=True)\n",
      "        (dropout): Dropout(p=0.1, inplace=False)\n",
      "        (linear2): Linear(in_features=1028, out_features=128, bias=True)\n",
      "        (norm1): LayerNorm((128,), eps=1e-05, elementwise_affine=True)\n",
      "        (norm2): LayerNorm((128,), eps=1e-05, elementwise_affine=True)\n",
      "        (dropout1): Dropout(p=0.1, inplace=False)\n",
      "        (dropout2): Dropout(p=0.1, inplace=False)\n",
      "        (activation): GELU(approximate='none')\n",
      "      )\n",
      "      (1): TransformerEncoderLayer(\n",
      "        (self_attn): MultiheadAttention(\n",
      "          (out_proj): NonDynamicallyQuantizableLinear(in_features=128, out_features=128, bias=True)\n",
      "        )\n",
      "        (linear1): Linear(in_features=128, out_features=1028, bias=True)\n",
      "        (dropout): Dropout(p=0.1, inplace=False)\n",
      "        (linear2): Linear(in_features=1028, out_features=128, bias=True)\n",
      "        (norm1): LayerNorm((128,), eps=1e-05, elementwise_affine=True)\n",
      "        (norm2): LayerNorm((128,), eps=1e-05, elementwise_affine=True)\n",
      "        (dropout1): Dropout(p=0.1, inplace=False)\n",
      "        (dropout2): Dropout(p=0.1, inplace=False)\n",
      "        (activation): GELU(approximate='none')\n",
      "      )\n",
      "      (2): TransformerEncoderLayer(\n",
      "        (self_attn): MultiheadAttention(\n",
      "          (out_proj): NonDynamicallyQuantizableLinear(in_features=128, out_features=128, bias=True)\n",
      "        )\n",
      "        (linear1): Linear(in_features=128, out_features=1028, bias=True)\n",
      "        (dropout): Dropout(p=0.1, inplace=False)\n",
      "        (linear2): Linear(in_features=1028, out_features=128, bias=True)\n",
      "        (norm1): LayerNorm((128,), eps=1e-05, elementwise_affine=True)\n",
      "        (norm2): LayerNorm((128,), eps=1e-05, elementwise_affine=True)\n",
      "        (dropout1): Dropout(p=0.1, inplace=False)\n",
      "        (dropout2): Dropout(p=0.1, inplace=False)\n",
      "        (activation): GELU(approximate='none')\n",
      "      )\n",
      "      (3): TransformerEncoderLayer(\n",
      "        (self_attn): MultiheadAttention(\n",
      "          (out_proj): NonDynamicallyQuantizableLinear(in_features=128, out_features=128, bias=True)\n",
      "        )\n",
      "        (linear1): Linear(in_features=128, out_features=1028, bias=True)\n",
      "        (dropout): Dropout(p=0.1, inplace=False)\n",
      "        (linear2): Linear(in_features=1028, out_features=128, bias=True)\n",
      "        (norm1): LayerNorm((128,), eps=1e-05, elementwise_affine=True)\n",
      "        (norm2): LayerNorm((128,), eps=1e-05, elementwise_affine=True)\n",
      "        (dropout1): Dropout(p=0.1, inplace=False)\n",
      "        (dropout2): Dropout(p=0.1, inplace=False)\n",
      "        (activation): GELU(approximate='none')\n",
      "      )\n",
      "    )\n",
      "  )\n",
      "  (norm_after_transformer): LayerNorm((128,), eps=1e-05, elementwise_affine=True)\n",
      "  (input_activate): Feedforward(\n",
      "    (linear1): Linear(in_features=1600, out_features=128, bias=False)\n",
      "    (norm): LayerNorm((128,), eps=1e-05, elementwise_affine=True)\n",
      "    (activation): GELU(approximate='none')\n",
      "    (linear2): Linear(in_features=128, out_features=128, bias=True)\n",
      "  )\n",
      ")\n",
      "2023-02-09 00:42:55 - INFO - run_for_KGC.py - 548 - metric names: ['loss', 'head_loss', 'head_accuracy', 'head_top1', 'head_top3', 'head_top10', 'relation_loss', 'relation_accuracy', 'relation_top1', 'relation_top3', 'relation_top10', 'tail_loss', 'tail_accuracy', 'tail_top1', 'tail_top3', 'tail_top10']\n",
      "2023-02-09 00:42:55 - INFO - run_for_KGC.py - 606 - load trainer and evaluator. then end\n",
      "2023-02-09 00:42:55 - INFO - run_for_KGC.py - 1004 - ----- do train complete -----\n"
     ]
    }
   ],
   "source": [
    "args.device = get_device(device_name='cpu', logger=logger)\n",
    "torch_fix_seed(seed=SEED)\n",
    "return_dict = main_function(args, logger=logger)\n",
    "\n",
    "model = return_dict[MODEL]\n",
    "\n",
    "dataset_train: StoryTriple = return_dict[DATASETS][0]\n",
    "triple: torch.Tensor = dataset_train.triple\n",
    "data_helper: MyDataHelper = return_dict[DATA_HELPER]\n",
    "evaluator: Checkpoint = return_dict[TRAIN_RETURNS][EVALUATOR]\n",
    "\n",
    "load_model(model, args.model_path, args.device)\n",
    "model.eval()\n",
    "\n",
    "entities, relations = data_helper.processed_entities, data_helper.processed_relations\n",
    "d_e, d_r = {e: i for i, e in enumerate(entities)}, {r: i for i, r in enumerate(relations)}\n",
    "\n",
    "triple_df = pd.DataFrame([(entities[_t[0]], relations[_t[1]], entities[_t[2]]) for _t in triple], columns=[HEAD, RELATION, TAIL])\n",
    "story_entities = triple_df[HEAD].tolist()"
   ],
   "metadata": {
    "collapsed": false,
    "pycharm": {
     "name": "#%%\n"
    }
   }
  },
  {
   "cell_type": "code",
   "execution_count": null,
   "outputs": [],
   "source": [
    "eos = EpochOutputStore()\n",
    "eos.attach(evaluator, 'output')\n",
    "\n",
    "with torch.no_grad():\n",
    "    model.eval()\n",
    "    valid = return_dict['data_loaders'].test_dataloader\n",
    "    evaluator = return_dict['train_returns']['evaluator']\n",
    "    evaluator.run(valid)\n",
    "    display(evaluator.state.metrics)\n",
    "    display(evaluator.state.output)"
   ],
   "metadata": {
    "collapsed": false,
    "pycharm": {
     "name": "#%%\n",
     "is_executing": true
    }
   }
  },
  {
   "cell_type": "code",
   "execution_count": null,
   "outputs": [],
   "source": [
    "with torch.no_grad():\n",
    "    model.eval()\n",
    "    valid = return_dict['data_loaders'].test_dataloader\n",
    "    evaluator = return_dict['train_returns']['evaluator']\n",
    "    evaluator.run(valid)\n",
    "    display(evaluator.state.metrics)"
   ],
   "metadata": {
    "collapsed": false,
    "pycharm": {
     "name": "#%%\n"
    }
   }
  },
  {
   "cell_type": "code",
   "execution_count": 17,
   "outputs": [
    {
     "name": "stdout",
     "output_type": "stream",
     "text": [
      "[1, 6, 1, 6, 1, 6, 1, 4, 1, 5, 1, 3, 1, 5, 1, 5, 1, 2, 1, 5, 1, 2, 1, 3, 1, 3, 1, 3, 1, 5, 1, 3, 1, 2, 1, 3, 1, 4, 1, 6, 1, 9, 1, 2, 1, 7, 1, 5, 1, 3, 1, 2, 1, 4, 1, 3, 1, 2, 1, 2, 1, 3, 1, 2, 1, 2, 1, 1, 1, 2, 1, 1, 1, 3, 1, 2, 1, 5, 1, 5, 1, 4, 1, 7, 1, 4, 1, 3, 1, 1, 1, 3, 1, 4, 1, 7, 1, 6, 1, 5, 1, 4, 1, 8, 1, 4, 1, 2, 1, 6, 1, 5, 1, 6, 1, 4, 1, 4, 1, 4, 1, 3, 1, 3, 1, 4, 1, 3, 1, 2, 1, 4, 1, 3, 1, 3, 1, 3, 1, 3, 1, 3, 1, 3, 1, 2, 1, 4, 1, 4, 1, 3, 1, 1, 1, 3, 1, 4, 1, 5, 1, 3, 1, 2, 1, 3, 1, 7, 1, 6, 1, 3, 1, 4, 1, 3, 1, 4, 1, 3, 1, 4, 1, 2, 1, 3, 1, 2, 1, 1, 1, 2, 1, 2, 1, 4, 1, 4, 1, 4, 1, 5, 1, 3, 1, 3, 1, 4, 1, 3, 1, 5, 1, 2, 1, 3, 1, 3, 1, 3, 1, 5, 1, 3, 1, 3, 1, 2, 1, 2, 1, 3, 1, 1, 1, 4, 1, 5, 1, 3, 1, 4, 1, 4, 1, 2, 1, 1, 1, 2, 1, 4, 1, 3, 1, 4, 1, 2, 1, 2, 1, 3, 1, 3, 1, 3, 1, 3, 1, 2, 1, 4, 1, 5, 1, 3, 1, 2, 1, 3, 1, 2, 1, 4, 1, 4, 1, 5, 1, 4, 1, 1, 1, 2, 1, 2, 1, 3, 1, 4, 1, 3, 1, 4, 1, 5, 1, 4, 1, 3, 1, 4, 1, 3, 1, 3, 1, 3, 1, 2, 1, 5, 1, 4, 1, 3, 1, 4, 1, 4, 1, 3, 1, 3, 1, 2, 1, 2, 1, 3, 1, 2, 1, 3, 1, 4, 1, 4, 1, 3, 1, 3, 1, 4, 1, 3, 1, 4, 1, 5, 1, 3, 1, 4, 1, 4, 1, 4, 1, 1, 1, 2, 1, 2, 1, 3, 1, 4, 1, 2, 1, 3, 1, 1, 1, 3, 1, 2, 1, 4, 1, 4, 1, 2, 1, 3, 1, 3, 1, 4, 1, 3, 1, 4, 1, 5, 1, 3, 1, 4, 1, 2, 1, 4, 1, 3, 1, 2, 1, 5, 1, 2, 1, 2, 1, 2, 1, 4, 1, 1, 1, 2, 1, 2, 1, 4, 1, 2, 1, 3, 1, 3, 1, 3, 1, 5, 1, 1, 1, 2, 1, 3, 1, 4, 1, 3, 1, 3, 1, 2, 1, 6, 1, 3, 1, 3, 1, 1, 1, 3, 1, 1, 1, 4, 1, 2, 1, 2, 1, 1, 1, 2, 1, 1, 1, 2, 1, 5, 1, 2, 1, 2, 1, 2, 1, 3, 1, 2, 1, 3, 1, 4, 1, 5, 1, 3, 1, 4, 1, 6, 1, 6, 1, 4, 1, 4, 1, 3, 2, 3, 1, 3, 1, 2, 1, 4, 1, 4, 2, 4, 1, 2, 1, 3, 1, 1, 1, 4, 1, 2, 1, 2, 1, 1, 1, 4, 1, 2, 1, 2, 1, 3, 1, 3, 1, 3, 1, 4, 1, 5, 1, 5, 1, 3, 1, 5, 1, 4, 1, 3, 1, 3, 1, 2, 1, 4, 1, 2, 1, 1, 1, 2, 1, 4, 1, 4, 1, 4, 1, 3, 1, 1, 1, 4, 1, 3, 1, 3, 1, 4, 1, 3, 1, 2, 1, 3, 1, 2, 1, 4, 1, 4, 1, 3, 1, 3, 1, 4, 1, 4, 1, 4, 1, 6, 1, 3, 1, 8, 1, 2, 1, 2, 1, 3, 1, 3, 2, 2, 1, 3, 1, 2, 1, 5, 1, 5, 1, 2, 1, 1, 1, 2, 1, 4, 1, 3, 1, 3, 1, 2, 1, 4, 1, 4, 1, 3, 1, 3, 1, 4, 1, 5, 1, 4, 1, 3, 1, 4, 1, 4, 1, 3, 1, 4, 1, 2, 1, 6, 1, 4, 1, 2, 1, 4, 1, 3, 1, 4, 1, 3, 1, 4, 1, 4, 1, 3, 1, 3, 1, 4, 1, 3, 1, 3, 1, 4, 1, 5, 1, 5, 1, 3, 1, 2, 1, 3, 1, 3, 1, 3, 1, 3, 1, 4, 1, 3, 1, 3, 1, 3, 1, 4, 1, 4, 1, 4, 1, 3, 1, 3, 1, 2, 1, 3, 1, 3, 1, 3, 1, 3, 1, 4, 1, 4, 1, 6, 1, 3, 1, 3, 1, 3, 1, 3, 1, 2, 1, 2, 1, 4, 1, 4, 1, 4, 1, 2, 1, 3, 1, 4, 1, 3, 1, 2, 1, 2, 1, 3, 1, 3, 1, 3, 1, 4, 1, 2, 1, 4, 1, 5, 1, 2, 1, 1, 1, 5, 1, 2, 1, 2, 1, 2, 1, 4, 1, 2, 1, 3, 1, 2, 1, 4, 1, 4, 1, 2, 1, 4, 1, 4, 1, 4, 1, 4, 1, 3, 1, 2, 1, 3, 1, 3, 1, 3, 1, 2, 1, 4, 1, 3, 1, 5, 1, 3, 1, 2, 1, 3, 1, 2, 1, 1, 1, 2, 1, 2, 1, 2, 1, 2, 1, 3, 1, 2, 1, 3, 1, 6, 1, 8, 1, 3, 1, 1, 1, 4, 1, 3, 1, 1, 1, 4, 1, 8, 1, 5, 1, 4, 1, 3, 1, 6, 1, 1, 1, 2, 1, 4, 1, 3, 1, 1, 1, 1, 1, 4, 1, 4, 1, 3, 1, 2, 1, 1, 1, 2, 1, 2, 1, 2, 1, 3, 1, 4, 1, 3, 1, 4, 1, 3, 1, 2, 1, 2, 1, 4, 2, 2, 1, 23, 1, 2, 1, 3, 1, 2, 1, 1, 1, 5, 1, 3, 1, 4, 1, 5, 1, 4, 1, 3, 1, 2, 1, 4, 1, 4, 1, 4, 1, 3, 1, 4, 1, 2, 1, 3, 1, 3, 1, 2, 1, 2, 1, 5, 1, 5, 1, 2, 1, 3, 1, 1, 1, 4, 1, 4, 1, 3, 1, 3, 1, 1, 1, 2, 1, 4, 1, 3, 1, 7, 1, 2, 1, 2, 1, 2, 1, 2, 1, 2, 1, 2, 1, 4, 1, 6, 1, 2, 1, 4, 1, 2, 1, 4, 1, 3, 1, 10, 1, 2, 1, 3, 1, 6, 1, 3, 1, 5, 1, 4, 1, 2, 1, 5, 1, 4, 1, 3, 1, 3, 1, 3, 1, 12, 1, 4, 1, 6, 1, 4, 1, 4, 1, 5, 1, 2, 1, 3, 1, 4, 1, 2, 1, 4, 1, 3, 1, 4, 1, 2, 1, 4, 1, 3, 1, 4, 1, 4, 1, 2, 1, 5, 1, 3, 1, 4, 1, 3, 1, 3, 1, 4, 1, 3, 1, 3, 1, 2, 1, 3, 1, 3, 1, 2, 1, 9, 1, 3, 1, 4, 1, 5, 1, 4, 1, 4, 1, 4, 1, 3, 1, 4, 1, 3, 1, 2, 1, 4, 1, 2, 1, 3, 1, 4, 1, 3, 1, 3, 1, 4, 1, 16, 1, 4, 1, 5, 1, 3, 1, 4, 1, 2, 1, 4, 1, 4, 1, 5, 1, 3, 1, 5, 1, 7, 1, 3, 1, 2, 1, 2, 1, 1, 1, 3, 1, 4, 1, 2, 1, 4, 1, 3, 1, 3, 1, 3, 1, 44, 1, 1, 1, 3, 1, 3, 1, 3, 1, 5, 1, 3, 1, 3, 1, 3, 1, 3, 1, 3, 1, 3, 1, 3, 1, 5, 1, 3, 1, 6, 1, 3, 1, 3, 1, 4, 1, 4, 1, 4, 1, 3, 1, 7, 1, 3, 1, 5, 1, 3, 1, 4, 1, 3, 1, 4, 1, 2, 1, 4, 1, 6, 1, 4, 1, 5, 1, 5, 1, 4, 1, 7, 1, 6, 1, 4, 1, 3, 1, 4, 1, 3, 1, 5, 1, 1, 1, 3, 1, 2, 1, 4, 1, 3, 1, 4, 1, 4, 1, 3, 1, 4, 1, 3, 1, 6, 1, 4, 1, 2, 1, 3, 1, 5, 1, 4, 1, 2, 1, 4, 1, 4, 1, 3, 1, 5, 1, 3, 1, 4, 1, 3, 1, 2, 1, 4, 1, 3, 1, 4, 1, 3, 1, 3, 1, 3, 1, 7, 1, 4, 1, 3, 1, 3, 1, 3, 1, 3, 1, 3, 1, 2, 1, 6, 1, 4, 1, 4, 1, 6, 1, 3, 1, 3, 1, 2, 1, 4, 1, 1, 1, 3, 1, 4, 1, 3, 1, 4, 1, 4, 1, 5, 1, 3, 1, 2, 1, 2, 1, 6, 1, 3, 1, 2, 1, 7, 1, 6, 1, 3, 1, 2, 1, 4, 1, 5, 1, 4, 1, 2, 1, 2, 1, 4, 1, 15, 1, 3, 1, 4, 1, 1, 1, 3, 1, 4, 1, 3, 1, 3, 1, 3, 1, 3, 1, 2, 1, 3, 1, 2, 1, 3, 1, 2, 1, 2, 1, 2, 1, 11, 1, 3, 1, 3, 1, 3, 1, 4, 1, 2, 1, 4, 1, 3, 1, 4, 1, 3, 1, 3, 1, 2, 1, 2, 1, 3, 1, 2, 1, 2, 1, 4, 1, 1, 1, 6, 1, 2, 1, 3, 1, 4, 1, 5, 1, 7, 1, 7, 1, 4, 1, 3, 1, 14, 1, 14, 1, 5, 1, 3, 1, 1, 1, 2, 1, 3, 1, 3, 1, 4, 1, 4, 1, 2, 1, 6, 1, 2, 1, 3, 1, 5, 1, 4, 1, 3, 1, 2, 1, 6, 1, 3, 1, 3, 1, 4, 1, 3, 1, 3, 1, 3, 1, 5, 1, 3, 1, 6, 1, 2, 1, 1, 1, 4, 1, 4, 1, 4, 1, 4, 1, 3, 1, 6, 1, 3, 1, 6, 1, 2, 1, 4, 1, 3, 1, 3, 1, 4, 1, 4, 1, 2, 1, 3, 1, 1, 1, 2, 1, 1, 1, 1, 1, 3, 1, 2, 1, 2, 1, 2, 1, 4, 1, 4, 1, 3, 1, 2, 1, 1, 1, 3, 1, 13, 1, 4, 1, 3, 1, 3, 1, 3, 1, 4, 1, 4, 1, 2, 1, 1, 1, 2, 1, 4, 1, 2, 1, 4, 1, 2, 1, 1, 1, 2, 1, 2, 1, 2, 1, 2, 1, 3, 1, 7, 1, 3, 1, 4, 1, 3, 1, 4, 1, 3, 1, 4, 1, 3, 1, 7, 1, 5, 1, 4, 1, 3, 1, 4, 1, 4, 1, 2, 1, 2, 1, 2, 1, 3, 1, 4, 1, 3, 1, 4, 1, 3, 1, 2, 1, 3, 1, 3, 1, 4, 1, 1, 1, 3, 1, 2, 1, 3, 1, 2, 1, 2, 1, 3, 1, 2, 1, 2, 1, 27, 1, 2, 1, 4, 1, 2, 1, 4, 1, 3, 1, 2, 1, 4, 1, 1, 1, 5, 1, 2, 1, 3, 1, 1, 1, 4, 1, 5, 1, 3, 1, 2, 1, 3, 1, 4, 1, 3, 1, 4, 1, 4, 1, 2, 1, 3, 1, 3, 1, 3, 1, 3, 1, 2, 1, 2, 1, 5, 1, 2, 1, 1, 1, 4, 1, 25, 1, 4, 1, 2, 1, 4, 1, 3, 1, 4, 1, 2, 1, 4, 1, 4, 1, 2, 1, 4, 1, 3, 1, 5, 1, 1, 1, 4, 1, 3, 1, 4, 1, 5, 1, 2, 1, 1, 1, 3, 1, 4, 1, 4, 1, 3, 1, 3, 1, 2, 1, 2, 1, 6, 1, 3, 1, 4, 1, 5, 1, 4, 1, 2, 1, 2, 1, 2, 1, 2, 1, 4, 1, 5, 1, 2, 1, 3, 1, 3, 1, 2, 1, 1, 1, 20, 1, 2, 1, 4, 1, 3, 1, 3, 1, 4, 1, 4, 1, 3, 1, 3, 1, 2, 1, 3, 1, 7, 1, 4, 1, 3, 1, 3, 1, 3, 1, 4, 1, 3, 1, 4, 1, 3, 1, 3, 1, 6, 1, 3, 1, 3, 1, 3, 1, 3, 1, 5, 1, 2, 1, 2, 1, 2, 1, 4, 1, 2, 1, 5, 1, 7, 1, 5, 1, 3, 1, 2, 1, 3, 1, 3, 1, 2, 1, 4, 1, 18, 1, 2, 1, 1, 1, 2, 1, 4, 1, 1, 1, 5, 1, 3, 1, 3, 1, 4, 1, 4, 1, 3, 1, 4, 1, 2, 1, 3, 1, 4, 1, 3, 1, 4, 1, 2, 1, 2, 1, 1, 1, 3, 1, 2, 1, 2, 1, 6, 1, 1, 1, 3, 1, 5, 1, 3, 1, 2, 1, 3, 1, 4, 1, 2, 1, 1, 1, 2, 1, 3, 1, 5, 1, 4, 1, 6, 1, 5, 1, 4, 1, 2, 1, 2, 1, 3, 1, 2, 1, 2, 1, 3, 1, 2, 1, 4, 1, 2, 1, 4, 1, 3, 1, 3, 1, 3, 1, 1, 1, 3, 1, 2, 1, 2, 1, 7, 1, 3, 1, 3, 1, 2, 1, 2, 1, 2, 1, 3, 1, 7, 1, 3, 1, 2, 1, 2, 1, 1, 1, 2, 1, 2, 1, 3, 1, 4, 1, 2, 1, 2, 1, 3, 1, 3, 1, 4, 1, 4, 1, 1, 1, 3, 1, 1, 1, 4, 1, 3, 1, 3, 1, 3, 1, 2, 1, 4, 1, 3, 1, 4, 1, 3, 1, 3, 1, 4, 1, 4, 1, 2, 1, 2, 1, 2, 1, 3, 1, 3, 1, 3, 1, 3, 1, 4, 1, 3, 1, 4, 1, 3, 1, 4, 1, 4, 1, 3, 1, 4, 1, 3, 1, 4, 1, 3, 1, 3, 1, 3, 1, 2, 1, 3, 1, 3, 1, 2, 1, 3, 1, 4, 1, 1, 1, 2, 1, 3, 1, 4, 1, 3, 1, 4, 1, 4, 1, 5, 1, 4, 1, 4, 1, 4, 1, 5, 1, 2, 1, 4, 1, 2, 1, 4, 1, 6, 1, 4, 1, 2, 1, 2, 1, 2, 1, 2, 1, 2, 1, 2, 1, 1, 1, 4, 1, 26, 1, 4, 1, 4, 1, 5, 1, 8, 1, 4, 1, 3, 1, 6, 1, 2, 1, 2, 1, 3, 1, 2, 1, 3, 1, 2, 1, 2, 1, 4, 1, 3, 1, 3, 1, 3, 1, 6, 1, 3, 1, 2, 1, 2, 1, 2, 1, 2, 1, 5, 1, 4, 1, 4, 1, 2, 1, 7, 1, 3, 1, 5, 1, 4, 1, 1, 1, 4, 1, 4, 1, 4, 1, 6, 1, 4, 1, 5, 1, 3, 1, 3, 1, 6, 1, 6, 1, 2, 1, 9, 1, 4, 1, 5, 1, 3, 1, 2, 1, 4, 1, 4, 1, 1, 1, 3, 1, 10, 1, 3, 1, 4, 1, 4, 1, 3, 1, 4, 1, 3, 1, 2, 1, 3, 1, 4, 1, 4, 1, 1, 1, 3, 1, 3, 1, 7, 1, 4, 1, 5, 1, 5, 1, 2, 1, 2, 1, 2, 1, 2, 1, 3, 1, 2, 1, 2, 1, 3, 1, 2, 1, 4, 1, 2, 1, 4, 1, 5, 1, 2, 1, 4, 1, 3, 1, 37, 1, 3, 1, 3, 1, 3, 1, 4, 1, 5, 1, 4, 1, 7, 1, 4, 1, 2, 1, 6, 1, 5, 1, 5, 1, 3, 1, 5, 1, 4, 1, 1, 1, 5, 1, 4, 1, 5, 1, 6, 1, 6, 1, 4, 1, 5, 1, 6, 1, 6, 1, 2, 1, 3, 1, 5, 1, 3, 1, 3, 1, 4, 1, 2, 1, 5, 1, 4, 1, 4, 1, 2, 1, 4, 1, 4, 1, 4, 1, 3, 1, 3, 1, 2, 1, 2, 1, 3, 1, 2, 1, 3, 1, 2, 1, 2, 1, 1, 1, 4, 1, 5, 1, 4, 1, 19, 1, 3, 1, 5, 1, 4, 1, 3, 1, 4, 1, 3, 1, 7, 1, 4, 1, 2, 1, 5, 1, 4, 1, 3, 1, 3, 1, 4, 1, 4, 1, 5, 1, 3, 1, 4, 1, 4, 1, 4, 1, 3, 1, 2, 1, 3, 1, 3, 1, 3, 1, 3, 1, 3, 1, 3, 1, 3, 1, 2, 1, 2, 1, 2, 1, 1, 1, 2, 1, 2, 1, 3, 1, 1, 1, 3, 1, 3, 1, 4, 1, 1, 1, 3, 1, 2, 1, 4, 1, 2, 1, 3, 1, 3, 1, 1, 1, 3, 1, 3, 1, 2, 1, 3, 1, 4, 1, 4, 1, 4, 1, 2, 1, 5, 1, 4, 1, 5, 1, 3, 1, 2, 1, 4, 1, 4, 1, 3, 1, 2, 1, 5, 1, 2, 1, 1, 1, 1, 1, 3, 1, 3, 1, 2, 1, 2, 1, 6, 1, 2, 2, 3, 1, 2, 1, 6, 1, 2, 1, 4, 1, 2, 1, 6, 1, 5, 1, 2, 1, 2, 1, 3, 1, 4, 1, 2, 1, 2, 2, 6, 1, 1, 1, 4, 1, 3, 1, 4, 1, 4, 1, 4, 1, 4, 1, 1, 1, 6, 1, 3, 1, 3, 1, 3, 1, 3, 1, 3, 1, 5, 1, 4, 1, 3, 1, 6, 1, 2, 1, 3, 1, 3, 1, 2, 1, 5, 1, 5, 1, 1, 1, 3, 1, 4, 1, 2, 1, 2, 1, 3, 1, 6, 1, 2, 1, 3, 1, 2, 1, 5, 1, 4, 1, 1, 1, 4, 1, 5, 1, 2, 1, 2, 1, 3, 1, 5, 1, 4, 1, 4, 1, 5, 1, 1, 1, 4, 1, 5, 1, 5, 1, 5, 1, 6, 1, 3, 1, 2, 1, 3, 1, 2, 1, 5, 1, 6, 1, 2, 1, 3, 1, 4, 1, 2, 1, 5, 1, 4, 1, 2, 1, 3, 1, 5, 1, 5, 1, 3, 1, 4, 1, 3, 1, 4, 1, 3, 1, 1, 1, 6, 1, 5, 1, 2, 1, 5, 1, 4, 1, 3, 1, 4, 1, 3, 1, 4, 1, 4, 1, 1, 1, 2, 1, 2, 1, 3, 1, 4, 1, 3, 1, 5, 1, 3, 1, 4, 1, 2, 1, 2, 1, 4, 1, 4, 1, 5, 1, 4, 1, 5, 1, 5, 1, 5, 1, 4, 1, 1, 1, 3, 1, 5, 1, 3, 1, 2, 1, 3, 1, 2, 1, 2, 1, 2, 1, 2, 1, 2, 1, 2, 1, 3, 1, 5, 1, 2, 1, 4, 1, 3, 1, 1, 2, 4, 1, 6, 1, 2, 1, 3, 1, 2, 1, 5, 1, 2, 1, 3, 1, 3, 1, 2, 1, 3, 1, 2, 1, 3, 1, 3, 1, 4, 1, 3, 1, 2, 1, 6, 1, 2, 1, 3, 1, 4, 1, 4, 1, 4, 1, 4, 1, 6, 1, 6, 1, 4, 1, 6, 1, 6, 1, 24, 1, 5, 1, 3, 1, 2, 1, 4, 1, 3, 1, 5, 1, 4, 1, 2, 1, 4, 1, 5, 1, 4, 1, 5, 1, 5, 1, 4, 1, 4, 1, 7, 1, 7, 1, 6, 1, 5, 1, 3, 1, 4, 1, 2, 1, 3, 1, 3, 1, 4, 1, 3, 1, 3, 1, 4, 1, 2, 1, 1, 1, 4, 1, 3, 1, 6, 1, 2, 1, 2, 1, 1, 1, 2, 1, 3, 1, 4, 1, 3, 1, 5, 1, 2, 1, 5, 1, 5, 1, 2, 1, 2, 1, 1, 1, 3, 1, 3, 1, 2, 1, 3, 1, 2, 1, 35, 1, 4, 1, 3, 1, 3, 1, 8, 1, 6, 1, 5, 1, 6, 1, 4, 1, 3, 1, 3, 1, 4, 1, 4, 1, 1, 1, 4, 1, 2, 1, 2, 1, 3, 1, 2, 1, 3, 1, 1, 1, 4, 1, 3, 1, 4, 1, 4, 1, 6, 1, 4, 1, 2, 1, 2, 1, 5, 1, 5, 1, 7, 1, 5, 1, 1, 1, 4, 1, 3, 1, 2, 1, 4, 1, 8, 1, 3, 1, 5, 1, 3, 1, 3, 1, 2, 1, 1, 1, 2, 1, 4, 1, 2, 1, 3, 1, 28, 1, 4, 1, 4, 1, 3, 1, 7, 1, 4, 1, 5, 1, 3, 1, 1, 1, 3, 1, 4, 1, 3, 1, 3, 1, 3, 1, 3, 1, 6, 1, 2, 1, 6, 1, 4, 1, 4, 1, 2, 1, 3, 1, 4, 1, 5, 1, 6, 1, 6, 1, 1, 1, 3, 1, 4, 1, 2, 1, 1, 1, 6, 1, 6, 1, 8, 1, 4, 1, 25, 1, 12, 1, 6, 1, 3, 1, 4, 1, 3, 1, 2, 1, 3, 1, 3, 1, 3, 1, 4, 1, 4, 1, 4, 1, 3, 1, 4, 1, 3, 1, 3, 1, 6, 1, 6, 1, 3, 1, 3, 1, 4, 1, 5, 1, 5, 1, 4, 1, 4, 1, 1, 1, 3, 1, 3, 1, 5, 1, 5, 1, 5, 1, 2, 1, 3, 1, 2, 1, 7, 1, 5, 1, 3, 1, 4, 1, 4, 1, 3, 1, 3, 1, 3, 1, 5, 1, 2, 1, 2, 1, 1, 1, 1, 1, 3, 1, 2, 1, 3, 1, 13, 1, 4, 1, 5, 1, 4, 1, 6, 1, 3, 1, 3, 1, 3, 1, 4, 1, 3, 1, 5, 1, 2, 1, 4, 1, 5, 1, 5, 1, 2, 1, 2, 1, 4, 1, 4, 1, 2, 1, 4, 1, 5, 1, 3, 1, 2, 1, 3, 1, 3, 1, 6, 1, 3, 1, 2, 1, 5, 1, 1, 1, 5, 1, 5, 1, 3, 1, 6, 1, 4, 1, 3, 1, 4, 1, 4, 1, 2, 1, 3, 1, 2, 1, 5, 1, 5, 1, 4, 1, 3, 1, 3, 1, 3, 1, 3, 1, 2, 1, 2, 1, 7, 1, 3, 2, 2, 1, 5, 1, 2, 1, 2, 1, 4, 1, 10, 1, 4, 1, 3, 1, 2, 1, 3, 1, 5, 1, 3, 1, 4, 1, 5, 1, 3, 1, 4, 1, 4, 1, 3, 1, 3, 1, 3, 1, 3, 1, 3, 1, 3, 1, 3, 1, 1, 1, 6, 1, 3, 1, 5, 1, 4, 1, 3, 1, 4, 1, 4, 1, 5, 1, 3, 1, 3, 1, 6, 1, 3, 1, 2, 1, 1, 1, 3, 1, 3, 1, 3, 1, 3, 1, 2, 1, 3, 1, 4, 1, 3, 1, 3, 1, 3, 1, 4, 1, 3, 1, 4, 1, 3, 1, 2, 1, 2, 1, 2, 1, 3, 1, 3, 1, 2, 1, 3, 1, 3, 1, 5, 1, 2, 1, 4, 1, 3, 1, 3, 1, 2, 1, 2, 1, 2, 1, 3, 1, 2, 1, 2, 1, 4, 1, 4, 1, 1, 1, 2, 1, 2, 1, 3, 1, 3, 1, 3, 1, 3, 1, 4, 1, 4, 1, 3, 1, 3, 1, 2, 1, 3, 1, 3, 1, 11, 1, 3, 1, 2, 1, 1, 1, 3, 1, 4, 1, 4, 1, 3, 1, 4, 1, 4, 1, 4, 1, 4, 1, 3, 1, 5, 1, 3, 1, 3, 1, 6, 1, 14, 1, 4, 1, 5, 1, 4, 1, 3, 1, 2, 1, 3, 1, 4, 1, 2, 1, 3, 1, 4, 1, 3, 1, 4, 1, 2, 1, 3, 1, 3, 1, 4, 1, 3, 1, 4, 1, 2, 1, 3, 1, 2, 1, 4, 1, 1, 1, 2, 1, 2, 1, 2, 1, 4, 1, 3, 1, 15, 1, 3, 1, 2, 1, 3, 1, 1, 1, 2, 1, 2, 1, 2, 1, 4, 1, 3, 1, 5, 1, 4, 1, 3, 1, 3, 1, 3, 1, 4, 1, 4, 1, 3, 1, 3, 1, 3, 1, 6, 1, 2, 1, 4, 1, 4, 1, 4, 1, 3, 1, 4, 1, 6, 1, 5, 1, 29, 1, 4, 1, 4, 1, 2, 1, 3, 1, 5, 1, 3, 1, 3, 1, 2, 1, 3, 1, 4, 1, 3, 1, 5, 1, 6, 1, 4, 1, 3, 1, 3, 1, 3, 1, 3, 1, 3, 1, 5, 1, 4, 1, 2, 1, 2, 1, 3, 1, 3, 1, 3, 1, 4, 1, 3, 1, 3, 1, 2, 1, 4, 1, 3, 1, 3, 1, 1, 1, 15, 1, 4, 1, 3, 1, 3, 1, 2, 1, 3, 1, 6, 1, 4, 1, 4, 1, 3, 1, 7, 1, 4, 1, 3, 1, 1, 1, 4, 1, 1, 1, 3, 1, 4, 1, 3, 1, 3, 1, 1, 1, 3, 1, 5, 1, 2, 1, 5, 1, 4, 1, 3, 1, 7, 1, 4, 1, 3, 1, 4, 1, 2, 1, 4, 1, 4, 1, 10, 1, 2, 1, 4, 1, 3, 1, 1, 1, 4, 1, 3, 1, 1, 1, 3, 1, 3, 1, 1, 1, 3, 1, 3, 1, 3, 1, 3, 1, 4, 1, 3, 1, 5, 1, 4, 1, 1, 1, 1, 1, 3, 1, 3, 1, 3, 1, 2, 1, 6, 1, 5, 1, 13, 1, 3, 1, 3, 1, 4, 1, 3, 1, 2, 1, 2, 1, 2, 1, 4, 1, 5, 1, 2, 1, 2, 1, 2, 1, 3, 1, 3, 1, 2, 1, 3, 1, 5, 1, 3, 1, 3, 1, 2, 1, 4, 1, 2, 1, 2, 1, 3, 1, 8, 1, 3, 1, 3, 1, 4, 1, 3, 1, 3, 1, 2, 1, 3, 1, 4, 1, 4, 1, 2, 1, 3, 1, 2, 1, 3, 1, 4, 1, 2, 1, 1, 1, 5, 1, 3, 1, 2, 1, 3, 1, 5, 1, 102, 1, 4, 1, 1, 1, 4, 1, 3, 1, 3, 1, 4, 1, 2, 1, 3, 1, 2, 1, 3, 1, 6, 1, 3, 1, 2, 1, 1, 1, 11, 1, 4, 1, 1, 1, 2, 1, 3, 1, 2, 1, 4, 1, 2, 1, 2, 1, 1, 1, 2, 1, 7, 1, 3, 1, 2, 1, 2, 1, 2, 1, 4, 1, 3, 1, 3, 1, 10, 1, 3, 1, 1, 1, 1, 1, 5, 1, 3, 1, 1, 1, 3, 1, 3, 1, 3, 1, 5, 1, 2, 1, 3, 1, 3, 1, 2, 1, 2, 1, 5, 1, 5, 1, 3, 1, 3, 1, 2, 1, 2, 1, 1, 1, 3, 1, 2, 1, 4, 1, 4, 1, 3, 1, 6, 1, 2, 1, 3, 1, 1, 1, 3, 1, 5, 1, 4, 1, 6, 1, 4, 1, 1, 1, 2, 1, 2, 1, 2, 1, 2, 1, 2, 1, 2, 1, 3, 1, 3, 1, 2, 1, 2, 1, 2, 1, 2, 1, 2, 1, 3, 1, 4, 1, 3, 1, 2, 1, 2, 1, 2, 1, 3, 1, 5, 1, 3, 1, 1, 1, 2, 1, 5, 1, 1, 1, 4, 1, 4, 1, 6, 1, 2, 1, 2, 1, 3, 1, 1, 1, 1, 1, 3, 1, 2, 1, 4, 1, 3, 1, 6, 1, 3, 1, 3, 1, 3, 1, 2, 1, 4, 1, 3, 1, 3, 1, 3, 1, 2, 1, 1, 1, 1, 1, 2, 1, 2, 1, 2, 1, 2, 1, 5, 1, 2, 1, 2, 1, 2, 1, 3, 1, 3, 1, 2, 2, 3, 1, 2, 1, 1, 1, 1, 1, 3, 1, 6, 1, 1, 1, 2, 1, 3, 1, 3, 1, 3, 1, 2, 1, 3, 1, 4, 1, 3, 1, 3, 1, 3, 1, 2, 1, 3, 1, 3, 1, 3, 1, 5, 1, 3, 1, 3, 1, 1, 1, 5, 1, 4, 1, 2, 1, 3, 1, 2, 2, 3, 1, 2, 1, 3, 1, 3, 1, 2, 1, 1, 1, 2, 1, 2, 1, 2, 1, 11, 1, 4, 1, 3, 1, 3, 1, 2, 1, 2, 1, 2, 2, 1, 1, 2, 1, 3, 1, 1, 1, 2, 1, 2, 1, 2, 1, 3, 1, 3, 1, 2, 1, 3, 1, 7, 1, 1, 1, 2, 1, 3, 1, 2, 1, 7, 1, 2, 1, 4, 1, 2, 1, 5, 1, 2, 1, 2, 1, 2, 1, 3, 1, 1, 1, 1, 1, 2, 1, 5, 1, 1, 1, 3, 1, 4, 1, 2, 1, 4, 1, 7, 1, 3, 1, 2, 1, 2, 1, 3, 1, 3, 1, 3, 1, 3, 1, 12, 1, 2, 1, 2, 1, 3, 1, 1, 1, 1, 1, 3, 1, 3, 1, 3, 1, 1, 1, 3, 1, 5, 1, 3, 1, 6, 1, 3, 1, 4, 1, 4, 2, 1, 1, 2, 1, 6, 1, 3, 1, 1, 1, 2, 1, 7, 1, 4, 1, 2, 1, 2, 1, 3, 1, 20, 1, 2, 1, 5, 1, 3, 1, 2, 1, 1, 1, 4, 1, 2, 1, 3, 1, 2, 1, 2, 1, 5, 1, 3, 1, 2, 1, 3, 1, 4, 1, 4, 1, 2, 1, 3, 1, 2, 1, 1, 1, 4, 1, 4, 1, 3, 1, 3, 1, 3, 1, 3, 1, 4, 1, 5, 1, 3, 1, 4, 1, 4, 1, 5, 1, 3, 1, 5, 2, 3, 1, 2, 2, 3, 1, 2, 1, 1, 1, 4, 1, 1, 1, 3, 1, 2, 1, 2, 1, 3, 1, 3, 1, 4, 1, 4, 1, 4, 1, 3, 1, 2, 1, 2, 1, 3, 1, 3, 1, 3, 1, 3, 1, 6, 1, 2, 1, 2, 1, 2, 1, 1, 1, 2, 1, 1, 1, 2, 1, 3, 1, 3, 1, 3, 1, 3, 1, 3, 1, 3, 1, 2, 1, 2, 1, 3, 1, 2, 1, 2, 1, 5, 1, 5, 1, 3, 1, 2, 1, 2, 1, 1, 1, 3, 1, 3, 1, 2, 1, 2, 1, 1, 1, 3, 1, 4, 1, 4, 1, 2, 1, 3, 1, 2, 1, 3, 1, 3, 1, 4, 1, 2, 1, 5, 1, 4, 1, 5, 1, 6, 1, 5, 1, 2, 1, 3, 1, 5, 1, 1, 1, 2, 1, 5, 1, 2, 1, 3, 1, 2, 1, 5, 1, 2, 1, 1, 1, 2, 1, 4, 1, 5, 1, 3, 1, 4, 1, 3, 1, 3, 1, 3, 1, 3, 1, 3, 1, 4, 1, 3, 1, 5, 1, 3, 1, 1, 1, 2, 1, 2, 1, 14, 1, 2, 1, 3, 1, 4, 1, 3, 1, 3, 1, 4, 1, 4, 1, 4, 1, 2, 1, 2, 1, 2, 1, 5, 1, 3, 1, 4, 1, 4, 1, 3, 1, 3, 1, 5, 1, 4, 1, 3, 1, 3, 1, 3, 1, 3, 1, 5, 1, 2, 1, 2, 1, 2, 1, 3, 1, 2, 1, 3, 1, 4, 1, 2, 1, 2, 1, 4, 1, 2, 1, 3, 1, 41, 1, 3, 1, 3, 1, 3, 1, 2, 1, 3, 1, 2, 1, 4, 1, 4, 1, 3, 1, 4, 1, 5, 1, 7, 1, 4, 1, 2, 1, 2, 1, 2, 1, 2, 1, 2, 1, 1, 1, 3, 1, 5, 1, 3, 1, 4, 1, 3, 1, 3, 1, 3, 1, 3, 1, 3, 1, 2, 1, 2, 1, 1, 1, 4, 1, 3, 1, 3, 1, 5, 1, 1, 1, 2, 1, 2, 1, 2, 1, 2, 1, 3, 1, 2, 1, 2, 1, 5, 1, 1, 1, 2, 1, 2, 1, 3, 1, 3, 1, 4, 1, 3, 1, 2, 1, 4, 1, 2, 1, 2, 1, 2, 1, 2, 1, 4, 1, 2, 1, 3, 1, 2, 1, 3, 1, 4, 1, 4, 1, 4, 1, 6, 1, 2, 1, 2, 1, 3, 1, 3, 1, 3, 1, 3, 1, 10, 1, 3, 1, 2, 1, 2, 1, 4, 1, 4, 1, 4, 1, 3, 1, 4, 1, 4, 1, 2, 1, 3, 1, 2, 1, 3, 1, 1, 1, 3, 1, 6, 1, 2, 1, 3, 1, 2, 1, 3, 1, 2, 1, 3, 1, 8, 1, 2, 1, 3, 1, 4, 1, 12, 1, 3, 1, 3, 1, 4, 1, 3, 1, 4, 1, 2, 1, 2, 1, 6, 1, 3, 1, 3, 1, 2, 1, 3, 2, 2, 1, 2, 1, 1, 1, 3, 1, 3, 1, 1, 1, 2, 1, 4, 1, 3, 1, 9, 1, 2, 1, 1, 1, 3, 1, 2, 1, 3, 1, 3, 1, 2, 1, 2, 1, 2, 1, 3, 1, 3, 1, 4, 1, 3, 1, 2, 1, 2, 1, 4, 1, 2, 1, 3, 1, 3, 1, 2, 1, 2, 1, 2, 1, 3, 1, 5, 1, 3, 1, 2, 1, 4, 1, 3, 1, 4, 1, 2, 1, 3, 1, 1, 1, 2, 1, 2, 1, 3, 1, 3, 1, 4, 1, 3, 1, 1, 1, 6, 1, 4, 1, 2, 1, 3, 1, 3, 1, 4, 1, 3, 1, 3, 1, 2, 1, 7, 1, 2, 2, 2, 1, 6, 1, 3, 1, 4, 1, 2, 1, 2, 1, 4, 1, 4, 1, 3, 1, 2, 1, 3, 1, 5, 1, 2, 1, 4, 1, 4, 1, 1, 1, 4, 1, 3, 1, 2, 1, 4, 1, 2, 1, 3, 1, 2, 1, 2, 1, 2, 1, 3, 1, 2, 1, 3, 1, 4, 1, 2, 1, 3, 1, 2, 1, 3, 1, 4, 1, 4, 1, 2, 1, 4, 1, 3, 1, 2, 1, 13, 1, 3, 1, 4, 1, 2, 1, 3, 1, 5, 1, 2, 1, 2, 1, 2, 1, 4, 1, 2, 1, 3, 1, 4, 1, 3, 1, 2, 1, 3, 1, 4, 1, 4, 1, 3, 1, 2, 1, 4, 1, 3, 1, 2, 1, 3, 1, 3, 1, 3, 1, 4, 1, 4, 1, 2, 1, 2, 1, 2, 1, 3, 1, 2, 1, 3, 1, 2, 1, 1, 1, 3, 1, 4, 1, 3, 1, 9, 1, 1, 1, 3, 1, 3, 1, 2, 1, 2, 1, 1, 1, 3, 1, 2, 1, 2, 1, 36, 1, 4, 1, 3, 1, 4, 1, 1, 1, 3, 1, 1, 1, 2, 1, 6, 1, 2, 1, 3, 1, 3, 1, 2, 1, 2, 1, 3, 1, 3, 1, 2, 1, 1, 1, 2, 1, 3, 1, 3, 1, 2, 1, 3, 1, 5, 1, 3, 1, 4, 1, 1, 1, 5, 1, 3, 1, 5, 1, 2, 1, 3, 1, 2, 1, 3, 1, 3, 1, 4, 1, 3, 1, 3, 1, 3, 1, 3, 1, 2, 1, 2, 1, 2, 1, 3, 1, 3, 1, 3, 1, 3, 1, 4, 1, 4, 1, 3, 1, 5, 1, 3, 1, 3, 1, 4, 1, 3, 1, 4, 1, 7, 1, 3, 1, 3, 1, 6, 1, 5, 1, 2, 1, 6, 1, 3, 1, 4, 1, 4, 1, 3, 1, 3, 2, 4, 1, 5, 1, 2, 1, 1, 1, 1, 1, 2, 1, 1, 1, 4, 1, 3, 1, 3, 1, 5, 1, 2, 1, 5, 1, 3, 1, 3, 1, 2, 1, 3, 1, 6, 1, 4, 1, 4, 1, 3, 1, 2, 1, 4, 1, 4, 1, 3, 1, 4, 1, 4, 1, 6, 1, 5, 1, 5, 1, 5, 1, 1, 1, 5, 1, 5, 1, 5, 1, 3, 1, 5, 1, 6, 1, 3, 1, 5, 1, 6, 1, 6, 1, 4, 1, 6, 1, 7, 1, 4, 1, 4, 1, 4, 1, 5, 1, 5, 1, 5, 1, 3, 1, 4, 1, 2, 1, 2, 1, 4, 1, 3, 1, 3, 1, 4, 1, 3, 1, 3, 1, 4, 1, 4, 1, 2, 1, 3, 1, 5, 1, 4, 1, 3, 2, 2, 1, 4, 1, 4, 1, 3, 1, 3, 1, 4, 1, 4, 1, 2, 1, 3, 1, 5, 1, 2, 1, 4, 1, 1, 1, 1, 2, 4, 1, 5, 1, 4, 1, 3, 1, 5, 1, 2, 1, 2, 1, 6, 1, 3, 1, 6, 1, 3, 1, 5, 1, 1, 1, 4, 1, 6, 1, 5, 1, 4, 1, 5, 1, 5, 1, 5, 1, 6, 1, 5, 2, 2, 1, 5, 1, 7, 1, 6, 1, 1, 1, 5, 1, 8, 1, 7, 1, 5, 1, 1, 1, 3, 1, 6, 1, 4, 1, 5, 1, 4, 1, 5, 1, 4, 1, 2, 1, 4, 1, 5, 1, 4, 1, 2, 1, 2, 1, 6, 1, 3, 1, 7, 1, 3, 1, 5, 1, 6, 1, 4, 1, 9, 1, 3, 1, 2, 1, 1, 1, 7, 1, 2, 1, 2, 1, 2, 1, 2, 1, 2, 1, 5, 1, 4, 1, 2, 1, 4, 1, 4, 1, 3, 1, 4, 1, 4, 1, 3, 1, 3, 1, 5, 1, 3, 1, 5, 1, 3, 1, 3, 1, 5, 1, 5, 1, 4, 1, 6, 1, 3, 1, 7, 1, 7, 1, 10, 1, 4, 1, 4, 1, 4, 1, 5, 1, 4, 1, 1, 1, 4, 1, 3, 1, 4, 1, 4, 1, 3, 1, 3, 1, 5, 1, 5, 1, 3, 1, 3, 1, 5, 1, 5, 1, 3, 1, 1, 1, 2, 1, 6, 1, 4, 1, 1, 1, 5, 1, 5, 1, 4, 1, 5, 1, 4, 1, 4, 1, 3, 1, 4, 1, 5, 1, 5, 1, 6, 1, 4, 1, 2, 1, 3, 1, 5, 1, 6, 1, 3, 1, 6, 1, 4, 1, 4, 1, 1, 1, 3, 1, 4, 1, 3, 1, 4, 1, 5, 1, 4, 1, 4, 1, 5, 1, 5, 1, 5, 1, 3, 1, 4, 1, 5, 1, 2, 1, 5, 1, 4, 1, 3, 1, 1, 1, 4, 1, 5, 1, 5, 1, 4, 1, 4, 1, 4, 1, 4, 1, 4, 1, 10, 1, 3, 1, 1, 1, 7, 1, 1, 1, 3, 1, 7, 1, 6, 1, 5, 1, 6, 1, 4, 1, 5, 1, 5, 1, 4, 1, 3, 1, 1, 1, 2, 1, 3, 1, 4, 1, 6, 1, 4, 1, 4, 1, 1, 1, 4, 1, 4, 1, 5, 1, 5, 1, 5, 1, 4, 1, 5, 1, 4, 1, 4, 1, 6, 1, 6, 1, 4, 1, 2, 1, 1, 1, 1, 1, 5, 1, 3, 1, 4, 1, 3, 1, 4, 1, 4, 1, 5, 1, 5, 1, 3, 1, 4, 1, 6, 1, 5, 1, 5, 1, 4, 1, 1, 1, 4, 1, 2, 1, 4, 1, 5, 1, 3, 1, 3, 1, 4, 1, 6, 1, 4, 1, 3, 1, 1, 1, 4, 1, 4, 1, 5, 1, 3, 1, 5, 1, 5, 1, 5, 1, 2, 1, 5, 1, 4, 1, 4, 1, 3, 1, 6, 1, 4, 1, 4, 1, 5, 1, 2, 1, 5, 1, 5, 1, 3, 1, 5, 1, 4, 1, 2, 1, 4, 1, 4, 1, 5, 1, 4, 1, 4, 1, 5, 1, 3, 1, 4, 1, 3, 1, 3, 1, 2, 1, 5, 1, 3, 1, 4, 1, 4, 1, 3, 1, 4, 1, 4, 1, 2, 1, 5, 1, 5, 1, 5, 1, 5, 1, 5, 1, 4, 1, 5, 1, 5, 1, 4, 1, 2, 1, 4, 1, 6, 1, 5, 1, 4, 1, 3, 1, 5, 1, 1, 1, 2, 1, 2, 1, 6, 1, 2, 1, 3, 1, 2, 1, 4, 1, 3, 1, 3, 1, 4, 1, 3, 1, 2, 1, 4, 1, 4, 1, 3, 1, 4, 1, 4, 1, 5, 1, 4, 1, 4, 1, 2, 1, 6, 1, 6, 1, 6, 1, 4, 1, 5, 1, 3, 1, 5, 1, 5, 1, 2, 1, 5, 1, 2, 1, 3, 1, 3, 1, 3, 1, 5, 1, 3, 1, 2, 1, 3, 1, 4, 1, 6, 1, 9, 1, 2, 1, 7, 1, 5, 1, 3, 1, 2, 1, 4, 1, 3, 1, 2, 1, 2, 1, 3, 1, 2, 1, 2, 1, 1, 1, 2, 1, 1, 1, 3, 1, 2, 1, 5, 1, 5, 1, 4, 1, 7, 1, 4, 1, 3, 1, 1, 1, 3, 1, 4, 1, 7, 1, 6, 1, 5, 1, 4, 1, 8, 1, 4, 1, 2, 1, 6, 1, 5, 1, 6, 1, 4, 1, 4, 1, 4, 1, 3, 1, 3, 1, 4, 1, 3, 1, 2, 1, 4, 1, 3, 1, 3, 1, 3, 1, 3, 1, 3, 1, 3, 1, 2, 1, 4, 1, 4, 1, 3, 1, 1, 1, 3, 1, 4, 1, 5, 1, 3, 1, 2, 1, 3, 1, 7, 1, 6, 1, 3, 1, 4, 1, 3, 1, 4, 1, 3, 1, 4, 1, 2, 1, 3, 1, 2, 1, 1, 1, 2, 1, 2, 1, 4, 1, 4, 1, 4, 1, 5, 1, 3, 1, 3, 1, 4, 1, 3, 1, 5, 1, 2, 1, 3, 1, 3, 1, 3, 1, 1]\n"
     ]
    }
   ],
   "source": [
    "print([len(list(g)) for k, g in itertools.groupby(story_entities)])"
   ],
   "metadata": {
    "collapsed": false,
    "pycharm": {
     "name": "#%%\n"
    }
   }
  },
  {
   "cell_type": "code",
   "execution_count": null,
   "outputs": [],
   "source": [
    "most_frequency_percent_list = []\n",
    "num_list = []\n",
    "\n",
    "for tensor in dataset_train:\n",
    "    head_unique, head_unique_count = torch.unique(tensor[:, 0], return_counts=True)\n",
    "    relation_unique, relation_unique_count = torch.unique(tensor[:, 1], return_counts=True)\n",
    "    tail_unique, tail_unique_count = torch.unique(tensor[:, 2], return_counts=True)\n",
    "    entity_unique, entity_unique_count = torch.unique(tensor[:, (0,2)], return_counts=True)\n",
    "\n",
    "    head_unique, head_unique_count = [_tensor[head_unique!=4] for _tensor in (head_unique, head_unique_count)]\n",
    "    relation_unique, relation_unique_count = [_tensor[relation_unique!=4] for _tensor in (relation_unique, relation_unique_count)]\n",
    "    tail_unique, tail_unique_count = [_tensor[tail_unique!=4] for _tensor in (tail_unique, tail_unique_count)]\n",
    "    entity_unique, entity_unique_count =  [_tensor[entity_unique!=4] for _tensor in (entity_unique, entity_unique_count)]\n",
    "\n",
    "    head_most_frequency = torch.max(head_unique_count)\n",
    "    relation_most_frequency = torch.max(relation_unique_count)\n",
    "    tail_most_frequency = torch.max(tail_unique_count)\n",
    "    entity_most_frequency = torch.max(entity_unique_count)\n",
    "\n",
    "    print(entities[tail_unique[torch.argmax(tail_unique_count)]])\n",
    "    most_frequency_percent_list.append(\n",
    "        [(value/len(tensor)).item() for value in (head_most_frequency, relation_most_frequency, tail_most_frequency, entity_most_frequency) ])\n",
    "    num_list.append([1/len(value) for value in (head_unique, relation_unique, tail_unique, entity_unique)])\n",
    "\n",
    "torch.tensor(most_frequency_percent_list).mean(dim=0), torch.tensor(num_list).mean(dim=0)"
   ],
   "metadata": {
    "collapsed": false,
    "pycharm": {
     "name": "#%%\n"
    }
   }
  },
  {
   "cell_type": "markdown",
   "source": [
    "#### Note that the data presented in the previous section are part of this series below."
   ],
   "metadata": {
    "collapsed": false,
    "pycharm": {
     "name": "#%% md\n"
    }
   }
  },
  {
   "cell_type": "markdown",
   "metadata": {
    "collapsed": false,
    "pycharm": {
     "name": "#%% md\n"
    }
   },
   "source": [
    "This is the model made by Pytorch."
   ]
  },
  {
   "cell_type": "code",
   "execution_count": null,
   "metadata": {
    "collapsed": false,
    "pycharm": {
     "name": "#%%\n"
    }
   },
   "outputs": [],
   "source": [
    "model"
   ]
  },
  {
   "cell_type": "markdown",
   "metadata": {
    "collapsed": false,
    "pycharm": {
     "name": "#%% md\n"
    }
   },
   "source": [
    "This function is used to visualize Attention. The description is skipped."
   ]
  },
  {
   "cell_type": "code",
   "execution_count": null,
   "metadata": {
    "collapsed": false,
    "pycharm": {
     "name": "#%%\n"
    }
   },
   "outputs": [],
   "source": [
    "# This is sub functions for getting Attention.\n",
    "def extract(_model, target, inputs):\n",
    "    \"\"\"This is sub functions for getting Attention.\n",
    "\n",
    "    \"\"\"\n",
    "    features = None\n",
    "\n",
    "    def forward_hook(_module, _inputs, _):\n",
    "        nonlocal features\n",
    "        x, _, _ = _inputs\n",
    "        outputs = _module.forward(x, x, x, need_weights=True)[1]\n",
    "        features = outputs.detach().clone()\n",
    "\n",
    "    handle = target.register_forward_hook(forward_hook)\n",
    "\n",
    "    _model.eval()\n",
    "    _model(inputs, torch.LongTensor([[]]), torch.LongTensor([[]]), torch.LongTensor([[]]))\n",
    "\n",
    "    handle.remove()\n",
    "\n",
    "    return features\n",
    "\n",
    "# This is main functions for getting Attention.\n",
    "def get_attention(input_):\n",
    "    \"\"\"This is main functions for getting Attention.\n",
    "\n",
    "    \"\"\"\n",
    "    assert len(input_) == 1\n",
    "    features = extract(model, model.transformer.layers[-1].self_attn, input_)[0]\n",
    "    df_attention = pd.DataFrame([[entities[h], relations[r], entities[t]]+[features[j, i].item() for j in range(len(features))] for i, (h, r, t) in enumerate(input_[0])])\n",
    "    df_attention.columns=[HEAD, RELATION, TAIL] + [f'atten_from{i}' for i in range(len(df_attention.columns)-3)]\n",
    "    return df_attention\n",
    "\n",
    "def show_attention_heatmap(df_attention):\n",
    "    sns.heatmap(df_attention.iloc[:,3:])\n",
    "    plt.show()"
   ]
  },
  {
   "cell_type": "code",
   "execution_count": null,
   "metadata": {
    "collapsed": false,
    "pycharm": {
     "name": "#%%\n"
    }
   },
   "outputs": [],
   "source": [
    "MASK_E = DefaultTokens.MASK_E\n",
    "KILL = 'word.predicate:kill'\n",
    "\n",
    "TAKE = 'word.predicate:take'\n",
    "BRING = 'word.predicate:bring'\n",
    "DIE = 'word.predicate:die'\n",
    "HIDE = 'word.predicate:hide'"
   ]
  },
  {
   "cell_type": "markdown",
   "metadata": {
    "collapsed": false,
    "pycharm": {
     "name": "#%% md\n"
    }
   },
   "source": [
    "The input to the model is the following function's \"question_\".\n",
    "There are some last scenes and criminal scene after last scene.\n",
    "Each part of criminal scene are changed into a victim or <mask>, and the MASK part is estimated."
   ]
  },
  {
   "cell_type": "code",
   "execution_count": null,
   "metadata": {
    "collapsed": false,
    "pycharm": {
     "name": "#%%\n"
    }
   },
   "outputs": [],
   "source": [
    "bos_triple = [d_e[DefaultTokens.BOS_E], d_r[DefaultTokens.BOS_R],d_e[DefaultTokens.BOS_E]]\n",
    "mask_e_id = d_e[DefaultTokens.MASK_E]\n",
    "Holmes_id =d_e['AllTitle:Holmes']\n",
    "\n",
    "def make_ranking(from_story_name, to_story_name, predicate_, whom_, subject_, why_, what_, where_):\n",
    "    if not (from_story_name is None and to_story_name is None):\n",
    "        _start_index = story_entities.index(from_story_name)-1\n",
    "        _end_index = len(story_entities) - story_entities[::-1].index(to_story_name)\n",
    "    else:\n",
    "        _start_index = 0\n",
    "        _end_index = 0\n",
    "    question_ = torch.tensor(\n",
    "        [\n",
    "            # [... last 80 scenes ...],\n",
    "            # ...\n",
    "            bos_triple,\n",
    "            [mask_e_id, d_r['kgc:infoSource'],     Holmes_id      ],\n",
    "            [mask_e_id, d_r['kgc:hasPredicate'],   d_e[predicate_]],\n",
    "            [mask_e_id, d_r['kgc:whom'],           d_e[whom_     ]],\n",
    "            [mask_e_id, d_r['kgc:subject'],        d_e[subject_  ]],\n",
    "            [mask_e_id, d_r['kgc:why'],            d_e[why_      ]],\n",
    "            [mask_e_id, d_r['kgc:what'],           d_e[what_     ]],\n",
    "            [mask_e_id, d_r['kgc:where'],          d_e[where_    ]],\n",
    "        ]\n",
    "    )\n",
    "    mask_ = torch.zeros_like(question_, dtype=torch.bool) # not mask all position\n",
    "    mask_[1:, 0] = True                                   # where head position without bos token\n",
    "    mask_[1:, 2] = True                                   # where tail position without bos token\n",
    "\n",
    "    last_triples = triple[_start_index: _end_index]\n",
    "\n",
    "    questions = torch.cat([last_triples, question_], dim=0).unsqueeze(0)\n",
    "    masks = torch.cat([torch.zeros_like(last_triples), mask_], dim=0).to(torch.bool).transpose(1,0).unsqueeze(0)\n",
    "\n",
    "    data_list = []\n",
    "    with torch.no_grad():\n",
    "        _, (story_pred, relation_pred, entity_pred) = model(questions, masks[:,0], masks[:,1], masks[:,2])\n",
    "        sorted_ = torch.argsort(entity_pred, dim=1, descending=True)\n",
    "        for i in range(sorted_.shape[1]):\n",
    "            ans_= sorted_[:, i]\n",
    "            info_source_, predicate_pred, whom_pred, subject_pred, why_pred, what_pred, where_pred = ans_\n",
    "            data_list.append([entities[predicate_pred], entities[whom_pred], entities[subject_pred], entities[why_pred], entities[what_pred], entities[where_pred]])\n",
    "    df_ranking = pd.DataFrame(data_list, columns=['predicate', 'whom', 'subject', 'why', 'what', 'where'])\n",
    "    df_attension = get_attention(questions)\n",
    "\n",
    "    return df_ranking, df_attension"
   ]
  },
  {
   "cell_type": "code",
   "execution_count": null,
   "metadata": {
    "collapsed": false,
    "pycharm": {
     "name": "#%%\n"
    }
   },
   "outputs": [],
   "source": [
    "def main_func01(_title, _victim_name, criminal, predicate, _last_index, _story_len):\n",
    "    from_ = f'{_title}:{_last_index-_story_len+1}'\n",
    "    to_ = f'{_title}:{_last_index}'\n",
    "    predicate = predicate\n",
    "    victim = f'{_title}:{_victim_name}'\n",
    "    criminal = f'{_title}:{criminal}'\n",
    "    df_ranking, df_attention = make_ranking(\n",
    "        from_, to_, predicate, victim, MASK_E, MASK_E, MASK_E, MASK_E)\n",
    "    df_ranking.index.name='ranking'\n",
    "\n",
    "    pred_rank = df_ranking.index[df_ranking['subject']==criminal].tolist()\n",
    "    pred_rank = pred_rank[0] if len(pred_rank)==1 else -1\n",
    "    logger.info(f\"The pred ranking about {criminal} is {pred_rank}\")\n",
    "    display(df_ranking.iloc[:max(20, pred_rank)])\n",
    "    len_ = len(df_attention)\n",
    "    for i in range(len_-10, len_):\n",
    "        print(f\"index={i}, triple={df_attention.iloc[i,:3].tolist()}, attention list\")\n",
    "        display(df_attention.sort_values(f'atten_from{i}', ascending=False).iloc[:,[0,1,2,3+i]],)\n",
    "    return df_ranking, df_attention\n",
    "\n",
    "def check_killer(_title, _victim_name, _killer_name, _last_index, _story_len):\n",
    "    return main_func01(_title, _victim_name, _killer_name, KILL, _last_index, _story_len)"
   ]
  },
  {
   "cell_type": "markdown",
   "metadata": {
    "collapsed": false,
    "pycharm": {
     "name": "#%% md\n"
    }
   },
   "source": [
    "# Estimate Criminals"
   ]
  },
  {
   "cell_type": "markdown",
   "id": "27b1a803",
   "metadata": {
    "pycharm": {
     "name": "#%% md\n"
    }
   },
   "source": [
    "### SpeckledBand(まだらの紐)\n",
    "Who killed Julia? (criminal & explanation)\n",
    "被害者: Julia\n",
    "犯人: Roylott\n",
    "犯行に用いたもの: snake\n",
    "犯行動機: 母の相続財産を独占したい"
   ]
  },
  {
   "cell_type": "markdown",
   "metadata": {
    "collapsed": false,
    "pycharm": {
     "name": "#%% md\n"
    }
   },
   "source": [
    "### Input sequence is like this."
   ]
  },
  {
   "cell_type": "markdown",
   "metadata": {
    "collapsed": false,
    "pycharm": {
     "name": "#%% md\n"
    }
   },
   "source": [
    "\n",
    "|     head     | relation  |            tail            |\n",
    "|:------------:|:---------:|:--------------------------:|\n",
    "| SpeckledBand |  stories  |            ...             |\n",
    "|     ...      |    ...    |            ...             |\n",
    "|    \\<bos>    |  \\<bos>   |           \\<bos>           |\n",
    "|  \\<unknown>  | predicate |            kill            |\n",
    "|  \\<unknown>  |   whom    |           Julia            |\n",
    "|  \\<unknown>  |  subject  | \\<mask(Answer is Roylott)> |\n",
    "|  \\<unknown>  |    why    |          \\<mask>           |\n",
    "|  \\<unknown>  |   what    |          \\<mask>           |\n",
    "|  \\<unknown>  |    why    |          \\<mask>           |"
   ]
  },
  {
   "cell_type": "code",
   "execution_count": null,
   "id": "939399ea",
   "metadata": {
    "pycharm": {
     "name": "#%%\n"
    },
    "scrolled": true
   },
   "outputs": [],
   "source": [
    "def do_SpeckledBand_pred():\n",
    "    title = 'SpeckledBand'\n",
    "    victim_name = 'Julia'\n",
    "    killer_name = 'Roylott'\n",
    "    last_index = 401\n",
    "    story_len = 80\n",
    "\n",
    "    df_ranking, df_attention = check_killer(title, victim_name, killer_name, last_index, story_len)\n",
    "    return df_ranking, df_attention\n",
    "do_SpeckledBand_pred()\n",
    "pass"
   ]
  },
  {
   "cell_type": "markdown",
   "id": "bb5bd2f2",
   "metadata": {
    "pycharm": {
     "name": "#%% md\n"
    }
   },
   "source": [
    "### DevilsFoot(悪魔の足跡１)\n",
    "Who killed the victims? (criminal & explanation)\n",
    "被害者: Brenda\n",
    "犯人: Mortimer\n",
    "犯行動機: 財産"
   ]
  },
  {
   "cell_type": "code",
   "execution_count": null,
   "id": "ce4f9c94",
   "metadata": {
    "pycharm": {
     "name": "#%%\n"
    }
   },
   "outputs": [],
   "source": [
    "def do_devil1_pred():\n",
    "    title = 'DevilsFoot'\n",
    "    victim_name = 'Brenda'\n",
    "    killer_name = 'Mortimer'\n",
    "    last_index = 489\n",
    "    story_len = 80\n",
    "    df_ranking, df_attention = check_killer(title, victim_name, killer_name, last_index, story_len)\n",
    "    return df_ranking, df_attention\n",
    "\n",
    "do_devil1_pred()\n",
    "pass"
   ]
  },
  {
   "cell_type": "markdown",
   "id": "1829a4d7",
   "metadata": {
    "pycharm": {
     "name": "#%% md\n"
    }
   },
   "source": [
    "### DevilsFoot(悪魔の足跡2)\n",
    "Who killed the victims? (criminal & explanation)\n",
    "被害者: Mortimer\n",
    "犯人: \n",
    "犯行動機: 恋人の敵"
   ]
  },
  {
   "cell_type": "code",
   "execution_count": null,
   "id": "d70bc435",
   "metadata": {
    "pycharm": {
     "name": "#%%\n"
    },
    "scrolled": true
   },
   "outputs": [],
   "source": [
    "def do_devil2_pred():\n",
    "    title = 'DevilsFoot'\n",
    "    victim_name = 'Mortimer'\n",
    "    killer_name = 'Sterndale'\n",
    "    last_index = 489\n",
    "    story_len = 80\n",
    "    df_ranking, df_attention = check_killer(title, victim_name, killer_name, last_index, story_len)\n",
    "    return df_ranking, df_attention\n",
    "\n",
    "do_devil2_pred()\n",
    "pass"
   ]
  },
  {
   "cell_type": "markdown",
   "id": "b701af65",
   "metadata": {
    "pycharm": {
     "name": "#%% md\n"
    }
   },
   "source": [
    "### AbbeyGrange(僧坊荘園)\n",
    "Who killed Lord Blackenstall? (criminal & explanation)\n",
    "被害者: Sir_Eustace_Brackenstall\n",
    "犯人: \n",
    "犯行動機:"
   ]
  },
  {
   "cell_type": "code",
   "execution_count": null,
   "id": "975f95c0",
   "metadata": {
    "pycharm": {
     "name": "#%%\n"
    },
    "scrolled": true
   },
   "outputs": [],
   "source": [
    "def do_AbbeyGrange_pred():\n",
    "    title = 'AbbeyGrange'\n",
    "    victim_name = 'Sir_Eustace_Brackenstall'\n",
    "    killer_name = 'Jack_Croker'\n",
    "    last_index = 414\n",
    "    story_len = 80\n",
    "\n",
    "    df_ranking, df_attention = check_killer(title, victim_name, killer_name, last_index, story_len)\n",
    "    return df_ranking, df_attention\n",
    "\n",
    "do_AbbeyGrange_pred()\n",
    "pass"
   ]
  },
  {
   "cell_type": "markdown",
   "id": "5fc40f5d",
   "metadata": {
    "pycharm": {
     "name": "#%% md\n"
    }
   },
   "source": [
    "### 入院患者\n",
    "Who killed Blessington? (criminal & explanation)\n",
    "被害者: Blessington\n",
    "犯人: 3人\n",
    "犯行動機:"
   ]
  },
  {
   "cell_type": "code",
   "execution_count": null,
   "id": "60ca76b3",
   "metadata": {
    "pycharm": {
     "name": "#%%\n"
    }
   },
   "outputs": [],
   "source": [
    "def do_ResidentPatient_pred():\n",
    "    title = 'ResidentPatient'\n",
    "    victim_name = 'Blessington'\n",
    "    killer_name = ''\n",
    "    last_index = 324\n",
    "    story_len = 80\n",
    "\n",
    "    df_ranking, df_attention = check_killer(title, victim_name, killer_name, last_index, story_len)\n",
    "    return df_ranking, df_attention\n",
    "\n",
    "do_ResidentPatient_pred()"
   ]
  },
  {
   "cell_type": "markdown",
   "id": "20fe5d84",
   "metadata": {
    "pycharm": {
     "name": "#%% md\n"
    }
   },
   "source": [
    "### 白銀\n",
    "Who took out the White Silver Blaze? (criminal & explanation) \n",
    "被害者: Silver_Blaze\n",
    "犯人: \n",
    "犯行動機:"
   ]
  },
  {
   "cell_type": "code",
   "execution_count": null,
   "id": "f4154837",
   "metadata": {
    "pycharm": {
     "name": "#%%\n"
    },
    "scrolled": true
   },
   "outputs": [],
   "source": [
    "victim = 'SilverBlaze:Silver_Blaze'\n",
    "df_ranking_SilverBlaze, df_attension_SilverBlaze = make_ranking(\n",
    "    'SilverBlaze:330', 'SilverBlaze:396', BRING, MASK_E, MASK_E, MASK_E, victim, MASK_E)\n",
    "\n",
    "display(df_ranking_SilverBlaze.iloc[:20,:])\n",
    "# display(df_attension_SpeckledBand)\n",
    "# ヒートマップの作成\n",
    "# sns.heatmap(df_atten.iloc[:,3:].iloc[:32,:32])\n",
    "len_ = len(df_attension_SilverBlaze)\n",
    "for i in range(len_-20, len_):\n",
    "    display(i, df_attension_SilverBlaze.iloc[i,:3].tolist())\n",
    "    display(df_attension_SilverBlaze.sort_values(f'atten_from{i}', ascending=False).iloc[:20,[0,1,2,3+i]])\n",
    "    print(\"----------\")"
   ]
  },
  {
   "cell_type": "markdown",
   "id": "56abf88a",
   "metadata": {
    "pycharm": {
     "name": "#%% md\n"
    }
   },
   "source": [
    "### CrookedMan(背中の曲がった男):\n",
    "Why did Barclay die?\n",
    "被害者: Barclay\n",
    "犯人:\n",
    "犯行動機:"
   ]
  },
  {
   "cell_type": "code",
   "execution_count": null,
   "id": "54f85cf5",
   "metadata": {
    "pycharm": {
     "name": "#%%\n"
    }
   },
   "outputs": [],
   "source": [
    "victim = 'CrookedMan:Barclay'\n",
    "df_ranking_CrookedMan, df_attension_CrookedMan = make_ranking(\n",
    "    f'CrookedMan:{373-80+1}', 'CrookedMan:373', DIE, MASK_E, victim, MASK_E, MASK_E, MASK_E)\n",
    "\n",
    "display(df_ranking_CrookedMan.iloc[:20,:])\n",
    "# display(df_attension_SpeckledBand)\n",
    "# ヒートマップの作成\n",
    "# sns.heatmap(df_atten.iloc[:,3:].iloc[:32,:32])\n",
    "len_ = len(df_attension_CrookedMan)\n",
    "for i in range(len_-20, len_):\n",
    "    display(i, df_attension_CrookedMan.iloc[i,:3].tolist())\n",
    "    display(df_attension_CrookedMan.sort_values(f'atten_from{i}', ascending=False).iloc[:20,[0,1,2,3+i]])\n",
    "    print(\"----------\")"
   ]
  },
  {
   "cell_type": "markdown",
   "id": "bd192c2e",
   "metadata": {
    "pycharm": {
     "name": "#%% md\n"
    }
   },
   "source": [
    "### 花嫁失踪事件（同一事件）\n",
    "hozmaの失踪の名瀬を探る\n",
    "被害者: ACaseOfIdentity:Hozma\n",
    "犯人: \n",
    "犯行動機: "
   ]
  },
  {
   "cell_type": "code",
   "execution_count": null,
   "id": "da437d1f",
   "metadata": {
    "pycharm": {
     "name": "#%%\n"
    }
   },
   "outputs": [],
   "source": [
    "victim = 'ACaseOfIdentity:Hosmer'\n",
    "df_ranking_ACaseOfIdentity, df_attension_ACaseOfIdentity = make_ranking(\n",
    "    'ACaseOfIdentity:510', 'ACaseOfIdentity:578', HIDE, victim, MASK_E, MASK_E, MASK_E, MASK_E)\n",
    "\n",
    "display(df_ranking_ACaseOfIdentity.iloc[:20,:])\n",
    "# display(df_attension_SpeckledBand)\n",
    "# ヒートマップの作成\n",
    "# sns.heatmap(df_atten.iloc[:,3:].iloc[:32,:32])\n",
    "len_ = len(df_attension_ACaseOfIdentity)\n",
    "for i in range(len_-20, len_):\n",
    "    display(i, df_attension_ACaseOfIdentity.iloc[i,:3].tolist())\n",
    "    display(df_attension_ACaseOfIdentity.sort_values(f'atten_from{i}', ascending=False).iloc[:20,[0,1,2,3+i]])\n",
    "    print(\"----------\")\n"
   ]
  },
  {
   "cell_type": "code",
   "execution_count": null,
   "id": "da4ef63c",
   "metadata": {
    "pycharm": {
     "name": "#%%\n"
    }
   },
   "outputs": [],
   "source": []
  }
 ],
 "metadata": {
  "kernelspec": {
   "display_name": "Python 3 (ipykernel)",
   "language": "python",
   "name": "python3"
  },
  "language_info": {
   "codemirror_mode": {
    "name": "ipython",
    "version": 3
   },
   "file_extension": ".py",
   "mimetype": "text/x-python",
   "name": "python",
   "nbconvert_exporter": "python",
   "pygments_lexer": "ipython3",
   "version": "3.10.4"
  },
  "varInspector": {
   "cols": {
    "lenName": 16,
    "lenType": 16,
    "lenVar": 40
   },
   "kernels_config": {
    "python": {
     "delete_cmd_postfix": "",
     "delete_cmd_prefix": "del ",
     "library": "var_list.py",
     "varRefreshCmd": "print(var_dic_list())"
    },
    "r": {
     "delete_cmd_postfix": ") ",
     "delete_cmd_prefix": "rm(",
     "library": "var_list.r",
     "varRefreshCmd": "cat(var_dic_list()) "
    }
   },
   "types_to_exclude": [
    "module",
    "function",
    "builtin_function_or_method",
    "instance",
    "_Feature"
   ],
   "window_display": false
  },
  "vscode": {
   "interpreter": {
    "hash": "aee8b7b246df8f9039afb4144a1f6fd8d2ca17a180786b69acc140d282b71a49"
   }
  }
 },
 "nbformat": 4,
 "nbformat_minor": 5
}