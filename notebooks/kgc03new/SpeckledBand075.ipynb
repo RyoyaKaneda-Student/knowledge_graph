{
 "cells": [
  {
   "cell_type": "code",
   "execution_count": 1,
   "id": "54b2dca8",
   "metadata": {
    "hide_input": false,
    "pycharm": {
     "name": "#%%\n"
    },
    "slideshow": {
     "slide_type": "-"
    }
   },
   "outputs": [],
   "source": [
    "#!/usr/bin/python\n",
    "# -*- coding: utf-8 -*-\n",
    "# ========== python ==========\n",
    "import os\n",
    "from pathlib import Path\n",
    "from logging import Logger\n",
    "from typing import List, Dict, Tuple, Optional, Union, Callable, Final, Literal, get_args\n",
    "from operator import itemgetter, attrgetter\n",
    "import itertools\n",
    "from IPython.display import display\n",
    "\n",
    "from utils.setup import setup_logger, get_device\n",
    "from const.const_values import PROJECT_DIR\n",
    "\n",
    "os.chdir(PROJECT_DIR)\n",
    "logger: Logger = setup_logger(__name__, f'{PROJECT_DIR}/log/jupyter_run.log')\n",
    "device = get_device(device_name='cpu', logger=logger)"
   ]
  },
  {
   "cell_type": "code",
   "execution_count": 2,
   "id": "b0d6167a",
   "metadata": {
    "pycharm": {
     "name": "#%%\n"
    }
   },
   "outputs": [],
   "source": [
    "# jupyter\n",
    "import seaborn as sns\n",
    "import matplotlib.pyplot as plt\n",
    "# Machine learning\n",
    "import numpy as np\n",
    "import pandas as pd\n",
    "import h5py\n",
    "import optuna\n",
    "# torch\n",
    "import torch\n",
    "from torch.nn import CrossEntropyLoss\n",
    "from torch.utils.data import Dataset\n",
    "from torch.utils.data.dataloader import DataLoader\n",
    "from torch.utils.tensorboard.writer import SummaryWriter\n",
    "# torch ignite\n",
    "from ignite.engine import Engine\n",
    "from ignite.handlers import Checkpoint\n",
    "# My items\n",
    "from models.datasets.data_helper import MyDataHelper, MyDataLoaderHelper, DefaultTokens\n",
    "from models.datasets.datasets_for_story import StoryTriple\n",
    "# My utils\n",
    "from utils.setup import load_param\n",
    "from utils.torch import load_model, torch_fix_seed\n",
    "# main function\n",
    "from run_for_KGC import main_function\n"
   ]
  },
  {
   "cell_type": "code",
   "execution_count": 3,
   "outputs": [],
   "source": [
    "pd.set_option('display.max_rows', 500)\n",
    "pd.set_option('display.max_columns', 100)"
   ],
   "metadata": {
    "collapsed": false,
    "pycharm": {
     "name": "#%%\n"
    }
   }
  },
  {
   "cell_type": "code",
   "execution_count": 4,
   "id": "8dc4b193",
   "metadata": {
    "pycharm": {
     "name": "#%%\n"
    }
   },
   "outputs": [],
   "source": [
    "from const.const_values import CPU, MODEL\n",
    "from models.KGModel.kg_model import HEAD, RELATION, TAIL\n",
    "from utils.torch_ignite import TRAINER, EVALUATOR\n",
    "from const.const_values import DATASETS, DATA_HELPER, DATA_LOADERS, TRAIN_RETURNS"
   ]
  },
  {
   "cell_type": "code",
   "execution_count": 5,
   "id": "dc2ac743",
   "metadata": {
    "pycharm": {
     "name": "#%%\n"
    }
   },
   "outputs": [],
   "source": [
    "SEED: Final[int] = 42\n",
    "args_path = f'{PROJECT_DIR}/models/kgc03/SpeckledBand075/param.pkl'\n",
    "model_path = f'{PROJECT_DIR}/models/kgc03/SpeckledBand075/model.pth'"
   ]
  },
  {
   "cell_type": "code",
   "execution_count": 6,
   "id": "bac36f2a",
   "metadata": {
    "pycharm": {
     "name": "#%%\n"
    }
   },
   "outputs": [
    {
     "name": "stderr",
     "output_type": "stream",
     "text": [
      "2023-02-04 05:42:16 - INFO - 929291086.py - 13 - Namespace(notebook=False, console_level='info', logfile='models/kgc03/SpeckledBand075/log.log', param_file='models/kgc03/SpeckledBand075/param.pkl', train_anyway=False, old_data=0, tensorboard_dir='models/kgc03/SpeckledBand075/tensorboard', checkpoint_dir='models/kgc03/SpeckledBand075/checkpoint/', model_path='/Users/ryoyakaneda/Documents/学校/M1Study/knowledge_graph/models/kgc03/SpeckledBand075/model.pth', resume_from_checkpoint=False, resume_from_last_point=False, only_load_trainer_evaluator=True, resume_checkpoint_path=None, pre_train=False, train_valid_test=False, only_train=True, use_for_challenge100=False, use_for_challenge090=False, use_for_challenge075=True, use_title='SpeckledBand', do_optuna=False, story_special_num=5, relation_special_num=5, entity_special_num=5, padding_token_e=0, cls_token_e=1, mask_token_e=2, sep_token_e=3, bos_token_e=4, padding_token_r=0, cls_token_r=1, mask_token_r=2, sep_token_r=3, bos_token_r=4, padding_token_s=0, cls_token_s=1, mask_token_s=2, sep_token_s=3, bos_token_s=4, model_version='03', embedding_dim=128, entity_embedding_dim=128, relation_embedding_dim=64, separate_head_and_tail=False, batch_size=1, max_len=512, no_use_pe=False, init_embedding_using_bert=False, mask_percent=0.15, mask_mask_percent=0.8, mask_random_percent=0.1, mask_nomask_percent=0.1, nhead=4, num_layers=4, dim_feedforward=1028, transformer_drop=0.1, position_encoder_drop=0.1, lr=5e-05, lr_story=0.0001, lr_relation=1e-06, lr_entity=1e-06, loss_function='cross_entropy_loss', loss_weight_story=1.0, loss_weight_relation=1.0, loss_weight_entity=1.0, epoch=1500, early_stopping=False, early_stopping_count=10, valid_interval=10000, gamma=None, project_dir=PosixPath('/var/www'), logger=<Logger __main__ (DEBUG)>, device=device(type='cpu'))\n"
     ]
    }
   ],
   "source": [
    "args = load_param(args_path)\n",
    "\n",
    "# args.pre_train = True\n",
    "args.logger = logger\n",
    "args.device = device\n",
    "args.batch_size = 1\n",
    "args.pre_train=False\n",
    "args.init_embedding_using_bert = False\n",
    "args.model_path = model_path\n",
    "args.only_load_trainer_evaluator = True\n",
    "\n",
    "del args.optuna_file, args.device_name, args.pid, args.study_name, args.n_trials\n",
    "logger.info(args)"
   ]
  },
  {
   "cell_type": "code",
   "execution_count": 7,
   "id": "8faf7204",
   "metadata": {
    "pycharm": {
     "name": "#%%\n"
    }
   },
   "outputs": [
    {
     "name": "stderr",
     "output_type": "stream",
     "text": [
      "2023-02-04 05:42:16 - INFO - run_for_KGC.py - 893 - ----- make datahelper start. -----\n",
      "2023-02-04 05:42:16 - INFO - data_helper.py - 333 - ====== Show MyRawData ======\n",
      "2023-02-04 05:42:16 - INFO - data_helper.py - 334 - entity num: 7812\n",
      "2023-02-04 05:42:16 - INFO - data_helper.py - 335 - relation num: 62\n",
      "2023-02-04 05:42:16 - INFO - data_helper.py - 336 - ====== Show MyRawData ======\n",
      "2023-02-04 05:42:16 - INFO - data_helper.py - 607 - ========== Show DataHelper ==========\n",
      "2023-02-04 05:42:16 - INFO - data_helper.py - 333 - ====== Show MyRawData ======\n",
      "2023-02-04 05:42:16 - INFO - data_helper.py - 334 - entity num: 7812\n",
      "2023-02-04 05:42:16 - INFO - data_helper.py - 335 - relation num: 62\n",
      "2023-02-04 05:42:16 - INFO - data_helper.py - 336 - ====== Show MyRawData ======\n",
      "2023-02-04 05:42:16 - INFO - data_helper.py - 609 - entity_special_dicts: {0: '<pad_e>', 1: '<cls_e>', 2: '<mask_e>', 3: '<sep_e>', 4: '<bos_e>'}\n",
      "2023-02-04 05:42:16 - INFO - data_helper.py - 610 - relation_special_dicts: {0: '<pad_r>', 1: '<cls_r>', 2: '<mask_r>', 3: '<sep_r>', 4: '<bos_r>'}\n",
      "2023-02-04 05:42:16 - INFO - data_helper.py - 611 - processed entity num: 7817\n",
      "2023-02-04 05:42:16 - INFO - data_helper.py - 612 - processed relation num: 67\n",
      "2023-02-04 05:42:16 - INFO - data_helper.py - 613 - ========== Show DataHelper ==========\n",
      "2023-02-04 05:42:16 - INFO - run_for_KGC.py - 895 - ----- make datahelper complete. -----\n",
      "2023-02-04 05:42:16 - INFO - run_for_KGC.py - 897 - ----- make datasets start. -----\n",
      "2023-02-04 05:42:16 - INFO - run_for_KGC.py - 899 - ----- make datasets complete. -----\n",
      "2023-02-04 05:42:16 - INFO - run_for_KGC.py - 901 - ----- make dataloader start. -----\n",
      "2023-02-04 05:42:16 - INFO - run_for_KGC.py - 903 - ----- make dataloader complete. -----\n",
      "2023-02-04 05:42:16 - INFO - run_for_KGC.py - 905 - ----- make model start -----\n",
      "2023-02-04 05:42:16 - INFO - run_for_KGC.py - 748 - \n",
      "KgStoryTransformer03(\n",
      "  (entity_embeddings): Embedding(7817, 128, padding_idx=0)\n",
      "  (relation_embeddings): Embedding(67, 64, padding_idx=0)\n",
      "  (pe): PositionalEncoding(\n",
      "    (dropout): Dropout(p=0.1, inplace=False)\n",
      "  )\n",
      "  (transformer): TransformerEncoder(\n",
      "    (layers): ModuleList(\n",
      "      (0): TransformerEncoderLayer(\n",
      "        (self_attn): MultiheadAttention(\n",
      "          (out_proj): NonDynamicallyQuantizableLinear(in_features=128, out_features=128, bias=True)\n",
      "        )\n",
      "        (linear1): Linear(in_features=128, out_features=1028, bias=True)\n",
      "        (dropout): Dropout(p=0.1, inplace=False)\n",
      "        (linear2): Linear(in_features=1028, out_features=128, bias=True)\n",
      "        (norm1): LayerNorm((128,), eps=1e-05, elementwise_affine=True)\n",
      "        (norm2): LayerNorm((128,), eps=1e-05, elementwise_affine=True)\n",
      "        (dropout1): Dropout(p=0.1, inplace=False)\n",
      "        (dropout2): Dropout(p=0.1, inplace=False)\n",
      "        (activation): GELU(approximate='none')\n",
      "      )\n",
      "      (1): TransformerEncoderLayer(\n",
      "        (self_attn): MultiheadAttention(\n",
      "          (out_proj): NonDynamicallyQuantizableLinear(in_features=128, out_features=128, bias=True)\n",
      "        )\n",
      "        (linear1): Linear(in_features=128, out_features=1028, bias=True)\n",
      "        (dropout): Dropout(p=0.1, inplace=False)\n",
      "        (linear2): Linear(in_features=1028, out_features=128, bias=True)\n",
      "        (norm1): LayerNorm((128,), eps=1e-05, elementwise_affine=True)\n",
      "        (norm2): LayerNorm((128,), eps=1e-05, elementwise_affine=True)\n",
      "        (dropout1): Dropout(p=0.1, inplace=False)\n",
      "        (dropout2): Dropout(p=0.1, inplace=False)\n",
      "        (activation): GELU(approximate='none')\n",
      "      )\n",
      "      (2): TransformerEncoderLayer(\n",
      "        (self_attn): MultiheadAttention(\n",
      "          (out_proj): NonDynamicallyQuantizableLinear(in_features=128, out_features=128, bias=True)\n",
      "        )\n",
      "        (linear1): Linear(in_features=128, out_features=1028, bias=True)\n",
      "        (dropout): Dropout(p=0.1, inplace=False)\n",
      "        (linear2): Linear(in_features=1028, out_features=128, bias=True)\n",
      "        (norm1): LayerNorm((128,), eps=1e-05, elementwise_affine=True)\n",
      "        (norm2): LayerNorm((128,), eps=1e-05, elementwise_affine=True)\n",
      "        (dropout1): Dropout(p=0.1, inplace=False)\n",
      "        (dropout2): Dropout(p=0.1, inplace=False)\n",
      "        (activation): GELU(approximate='none')\n",
      "      )\n",
      "      (3): TransformerEncoderLayer(\n",
      "        (self_attn): MultiheadAttention(\n",
      "          (out_proj): NonDynamicallyQuantizableLinear(in_features=128, out_features=128, bias=True)\n",
      "        )\n",
      "        (linear1): Linear(in_features=128, out_features=1028, bias=True)\n",
      "        (dropout): Dropout(p=0.1, inplace=False)\n",
      "        (linear2): Linear(in_features=1028, out_features=128, bias=True)\n",
      "        (norm1): LayerNorm((128,), eps=1e-05, elementwise_affine=True)\n",
      "        (norm2): LayerNorm((128,), eps=1e-05, elementwise_affine=True)\n",
      "        (dropout1): Dropout(p=0.1, inplace=False)\n",
      "        (dropout2): Dropout(p=0.1, inplace=False)\n",
      "        (activation): GELU(approximate='none')\n",
      "      )\n",
      "    )\n",
      "  )\n",
      "  (norm_after_transformer): LayerNorm((128,), eps=1e-05, elementwise_affine=True)\n",
      "  (head_maskdlm): Feedforward(\n",
      "    (linear1): Linear(in_features=128, out_features=128, bias=True)\n",
      "    (norm): Identity()\n",
      "    (activation): GELU(approximate='none')\n",
      "    (linear2): Linear(in_features=128, out_features=7817, bias=True)\n",
      "  )\n",
      "  (relation_maskdlm): Feedforward(\n",
      "    (linear1): Linear(in_features=128, out_features=128, bias=True)\n",
      "    (norm): Identity()\n",
      "    (activation): GELU(approximate='none')\n",
      "    (linear2): Linear(in_features=128, out_features=67, bias=True)\n",
      "  )\n",
      "  (tail_maskdlm): Feedforward(\n",
      "    (linear1): Linear(in_features=128, out_features=128, bias=True)\n",
      "    (norm): Identity()\n",
      "    (activation): GELU(approximate='none')\n",
      "    (linear2): Linear(in_features=128, out_features=7817, bias=True)\n",
      "  )\n",
      "  (input_activate): Feedforward(\n",
      "    (linear1): Linear(in_features=320, out_features=128, bias=False)\n",
      "    (norm): LayerNorm((128,), eps=1e-05, elementwise_affine=True)\n",
      "    (activation): GELU(approximate='none')\n",
      "    (linear2): Linear(in_features=128, out_features=128, bias=True)\n",
      "  )\n",
      ")\n",
      "2023-02-04 05:42:16 - INFO - run_for_KGC.py - 907 - ----- make model complete. -----\n",
      "2023-02-04 05:42:16 - INFO - run_for_KGC.py - 909 - ----- do train start -----\n",
      "2023-02-04 05:42:16 - INFO - run_for_KGC.py - 551 - load trainer and evaluator. then end\n",
      "2023-02-04 05:42:16 - INFO - run_for_KGC.py - 912 - ----- do train complete -----\n"
     ]
    }
   ],
   "source": [
    "torch_fix_seed(seed=SEED)\n",
    "return_dict = main_function(args, logger=logger)"
   ]
  },
  {
   "cell_type": "code",
   "execution_count": 8,
   "id": "d6300cb9",
   "metadata": {
    "hide_input": false,
    "pycharm": {
     "name": "#%%\n"
    }
   },
   "outputs": [],
   "source": [
    "model = return_dict[MODEL]\n",
    "\n",
    "dataset_train: StoryTriple = return_dict[DATASETS][0]\n",
    "triple: torch.Tensor = dataset_train.triple\n",
    "data_helper: MyDataHelper = return_dict[DATA_HELPER]\n",
    "evaluator: Checkpoint = return_dict[TRAIN_RETURNS][EVALUATOR]\n",
    "\n",
    "load_model(model, args.model_path, device)\n",
    "model.eval()\n",
    "\n",
    "entities, relations = data_helper.processed_entities, data_helper.processed_relations\n",
    "d_e, d_r = {e: i for i, e in enumerate(entities)}, {r: i for i, r in enumerate(relations)}\n",
    "\n",
    "triple_df = pd.DataFrame([(entities[_t[0]], relations[_t[1]], entities[_t[2]]) for _t in triple], columns=[HEAD, RELATION, TAIL])\n",
    "story_entities = triple_df[HEAD].tolist()"
   ]
  },
  {
   "cell_type": "code",
   "execution_count": 9,
   "id": "8b0a93c2",
   "metadata": {
    "pycharm": {
     "name": "#%%\n"
    }
   },
   "outputs": [
    {
     "data": {
      "text/plain": "                  head          relation  \\\n0              <bos_e>           <bos_r>   \n1      AbbeyGrange:001       kgc:subject   \n2      AbbeyGrange:001  kgc:hasPredicate   \n3      AbbeyGrange:001          kgc:whom   \n4      AbbeyGrange:001    kgc:infoSource   \n...                ...               ...   \n17303  AbbeyGrange:084       kgc:subject   \n17304  AbbeyGrange:084  kgc:hasPredicate   \n17305  AbbeyGrange:084         kgc:where   \n17306          <bos_e>           <bos_r>   \n17307  AbbeyGrange:085       kgc:subject   \n\n                                        tail  \n0                                    <bos_e>  \n1                            AllTitle:Holmes  \n2                      word.predicate:wakeUp  \n3                            AllTitle:Watson  \n4                            AllTitle:Watson  \n...                                      ...  \n17303                    AbbeyGrange:Theresa  \n17304                    word.predicate:rest  \n17305  AbbeyGrange:room_of_Lady_Brackenstall  \n17306                                <bos_e>  \n17307          AbbeyGrange:Lady_Brackenstall  \n\n[17308 rows x 3 columns]",
      "text/html": "<div>\n<style scoped>\n    .dataframe tbody tr th:only-of-type {\n        vertical-align: middle;\n    }\n\n    .dataframe tbody tr th {\n        vertical-align: top;\n    }\n\n    .dataframe thead th {\n        text-align: right;\n    }\n</style>\n<table border=\"1\" class=\"dataframe\">\n  <thead>\n    <tr style=\"text-align: right;\">\n      <th></th>\n      <th>head</th>\n      <th>relation</th>\n      <th>tail</th>\n    </tr>\n  </thead>\n  <tbody>\n    <tr>\n      <th>0</th>\n      <td>&lt;bos_e&gt;</td>\n      <td>&lt;bos_r&gt;</td>\n      <td>&lt;bos_e&gt;</td>\n    </tr>\n    <tr>\n      <th>1</th>\n      <td>AbbeyGrange:001</td>\n      <td>kgc:subject</td>\n      <td>AllTitle:Holmes</td>\n    </tr>\n    <tr>\n      <th>2</th>\n      <td>AbbeyGrange:001</td>\n      <td>kgc:hasPredicate</td>\n      <td>word.predicate:wakeUp</td>\n    </tr>\n    <tr>\n      <th>3</th>\n      <td>AbbeyGrange:001</td>\n      <td>kgc:whom</td>\n      <td>AllTitle:Watson</td>\n    </tr>\n    <tr>\n      <th>4</th>\n      <td>AbbeyGrange:001</td>\n      <td>kgc:infoSource</td>\n      <td>AllTitle:Watson</td>\n    </tr>\n    <tr>\n      <th>...</th>\n      <td>...</td>\n      <td>...</td>\n      <td>...</td>\n    </tr>\n    <tr>\n      <th>17303</th>\n      <td>AbbeyGrange:084</td>\n      <td>kgc:subject</td>\n      <td>AbbeyGrange:Theresa</td>\n    </tr>\n    <tr>\n      <th>17304</th>\n      <td>AbbeyGrange:084</td>\n      <td>kgc:hasPredicate</td>\n      <td>word.predicate:rest</td>\n    </tr>\n    <tr>\n      <th>17305</th>\n      <td>AbbeyGrange:084</td>\n      <td>kgc:where</td>\n      <td>AbbeyGrange:room_of_Lady_Brackenstall</td>\n    </tr>\n    <tr>\n      <th>17306</th>\n      <td>&lt;bos_e&gt;</td>\n      <td>&lt;bos_r&gt;</td>\n      <td>&lt;bos_e&gt;</td>\n    </tr>\n    <tr>\n      <th>17307</th>\n      <td>AbbeyGrange:085</td>\n      <td>kgc:subject</td>\n      <td>AbbeyGrange:Lady_Brackenstall</td>\n    </tr>\n  </tbody>\n</table>\n<p>17308 rows × 3 columns</p>\n</div>"
     },
     "execution_count": 9,
     "metadata": {},
     "output_type": "execute_result"
    }
   ],
   "source": [
    "triple_df"
   ]
  },
  {
   "cell_type": "code",
   "execution_count": 10,
   "id": "3573be3a",
   "metadata": {
    "pycharm": {
     "name": "#%%\n"
    }
   },
   "outputs": [],
   "source": [
    "# This is sub functions for getting Attention.\n",
    "def extract(_model, target, inputs):\n",
    "    \"\"\"This is sub functions for getting Attention.\n",
    "\n",
    "    \"\"\"\n",
    "    features = None\n",
    "\n",
    "    def forward_hook(_module, _inputs, _):\n",
    "        nonlocal features\n",
    "        x, _, _ = _inputs\n",
    "        outputs = _module.forward(x, x, x, need_weights=True)[1]\n",
    "        features = outputs.detach().clone()\n",
    "\n",
    "    handle = target.register_forward_hook(forward_hook)\n",
    "\n",
    "    _model.eval()\n",
    "    _model(inputs, torch.LongTensor([[]]), torch.LongTensor([[]]), torch.LongTensor([[]]))\n",
    "\n",
    "    handle.remove()\n",
    "\n",
    "    return features\n",
    "\n",
    "# This is main functions for getting Attention.\n",
    "def get_attention(input_):\n",
    "    \"\"\"This is main functions for getting Attention.\n",
    "\n",
    "    \"\"\"\n",
    "    assert len(input_) == 1\n",
    "    features = extract(model, model.transformer.layers[-1].self_attn, input_)[0]\n",
    "    df_attention = pd.DataFrame([[entities[h], relations[r], entities[t]]+[features[j, i].item() for j in range(len(features))] for i, (h, r, t) in enumerate(input_[0])])\n",
    "    df_attention.columns=[HEAD, RELATION, TAIL] + [f'atten_from{i}' for i in range(len(df_attention.columns)-3)]\n",
    "    return df_attention\n",
    "\n",
    "def show_attention_heatmap(df_attention):\n",
    "    sns.heatmap(df_attention.iloc[:,3:])\n",
    "    plt.show()"
   ]
  },
  {
   "cell_type": "code",
   "execution_count": 11,
   "outputs": [],
   "source": [
    "MASK_E = DefaultTokens.MASK_E\n",
    "KILL = 'word.predicate:kill'\n",
    "\n",
    "TAKE = 'word.predicate:take'\n",
    "BRING = 'word.predicate:bring'\n",
    "DIE = 'word.predicate:die'\n",
    "HIDE = 'word.predicate:hide'"
   ],
   "metadata": {
    "collapsed": false,
    "pycharm": {
     "name": "#%%\n"
    }
   }
  },
  {
   "cell_type": "code",
   "execution_count": 12,
   "id": "b8832fe9",
   "metadata": {
    "pycharm": {
     "name": "#%%\n"
    }
   },
   "outputs": [],
   "source": [
    "bos_triple = [d_e[DefaultTokens.BOS_E], d_r[DefaultTokens.BOS_R],d_e[DefaultTokens.BOS_E]]\n",
    "mask_e_id = d_e[DefaultTokens.MASK_E]\n",
    "Holmes_id =d_e['AllTitle:Holmes']\n",
    "\n",
    "def make_ranking(from_story_name, to_story_name, predicate_, whom_, subject_, why_, what_, where_):\n",
    "    if not (from_story_name is None and to_story_name is None):\n",
    "        _start_index = story_entities.index(from_story_name)-1\n",
    "        _end_index = len(story_entities) - story_entities[::-1].index(to_story_name)\n",
    "    else:\n",
    "        _start_index = 0\n",
    "        _end_index = 0\n",
    "    question_ = torch.tensor(\n",
    "        [\n",
    "            # [... last 80 scenes ...],\n",
    "            # ...\n",
    "            bos_triple,\n",
    "            [mask_e_id, d_r['kgc:infoSource'],     Holmes_id      ],\n",
    "            [mask_e_id, d_r['kgc:hasPredicate'],   d_e[predicate_]],\n",
    "            [mask_e_id, d_r['kgc:whom'],           d_e[whom_     ]],\n",
    "            [mask_e_id, d_r['kgc:subject'],        d_e[subject_  ]],\n",
    "            [mask_e_id, d_r['kgc:why'],            d_e[why_      ]],\n",
    "            [mask_e_id, d_r['kgc:what'],           d_e[what_     ]],\n",
    "            [mask_e_id, d_r['kgc:where'],          d_e[where_    ]],\n",
    "        ]\n",
    "    )\n",
    "    mask_ = torch.zeros_like(question_, dtype=torch.bool) # not mask all position\n",
    "    mask_[1:, 0] = True                                   # where head position without bos token\n",
    "    mask_[1:, 2] = True                                   # where tail position without bos token\n",
    "\n",
    "    last_triples = triple[_start_index: _end_index]\n",
    "\n",
    "    questions = torch.cat([last_triples, question_], dim=0).unsqueeze(0)\n",
    "    masks = torch.cat([torch.zeros_like(last_triples), mask_], dim=0).to(torch.bool).transpose(1,0).unsqueeze(0)\n",
    "\n",
    "    data_list = []\n",
    "    with torch.no_grad():\n",
    "        _, (story_pred, relation_pred, entity_pred) = model(questions, masks[:,0], masks[:,1], masks[:,2])\n",
    "        sorted_ = torch.argsort(entity_pred, dim=1, descending=True)\n",
    "        for i in range(sorted_.shape[1]):\n",
    "            ans_= sorted_[:, i]\n",
    "            info_source_, predicate_pred, whom_pred, subject_pred, why_pred, what_pred, where_pred = ans_\n",
    "            data_list.append([entities[predicate_pred], entities[whom_pred], entities[subject_pred], entities[why_pred], entities[what_pred], entities[where_pred]])\n",
    "    df_ranking = pd.DataFrame(data_list, columns=['predicate', 'whom', 'subject', 'why', 'what', 'where'])\n",
    "    df_attension = get_attention(questions)\n",
    "\n",
    "    return df_ranking, df_attension"
   ]
  },
  {
   "cell_type": "code",
   "execution_count": 13,
   "id": "51885798",
   "metadata": {
    "pycharm": {
     "name": "#%%\n"
    }
   },
   "outputs": [],
   "source": [
    "def main_func01(_title, _victim_name, criminal, predicate, _last_index, _story_len):\n",
    "    from_ = f'{_title}:{_last_index-_story_len+1}'\n",
    "    to_ = f'{_title}:{_last_index}'\n",
    "    predicate = predicate\n",
    "    victim = f'{_title}:{_victim_name}'\n",
    "    criminal = f'{_title}:{criminal}'\n",
    "    df_ranking, df_attension = make_ranking(\n",
    "        from_, to_, predicate, victim, MASK_E, MASK_E, MASK_E, MASK_E)\n",
    "    df_ranking.index.name='ranking'\n",
    "\n",
    "    pred_rank = df_ranking.index[df_ranking['subject']==criminal].tolist()\n",
    "    pred_rank = pred_rank[0] if len(pred_rank)==1 else -1\n",
    "    logger.info(f\"The pred ranking about {criminal} is {pred_rank}\")\n",
    "    display(df_ranking.iloc[:max(20, pred_rank)])\n",
    "    len_ = len(df_attension)\n",
    "    for i in range(len_-10, len_):\n",
    "        print(f\"index={i}, triple={df_attension.iloc[i,:3].tolist()}, attention list\")\n",
    "        display(df_attension.sort_values(f'atten_from{i}', ascending=False).iloc[:,[0,1,2,3+i]],)\n",
    "    return df_ranking, df_attension\n",
    "\n",
    "def check_killer(_title, _victim_name, _killer_name, _last_index, _story_len):\n",
    "    return main_func01(_title, _victim_name, _killer_name, KILL, _last_index, _story_len)"
   ]
  },
  {
   "cell_type": "code",
   "execution_count": 14,
   "outputs": [],
   "source": [
    "pd.set_option('display.max_rows', 500)\n",
    "pd.set_option('display.max_columns', 100)"
   ],
   "metadata": {
    "collapsed": false,
    "pycharm": {
     "name": "#%%\n"
    }
   }
  },
  {
   "cell_type": "markdown",
   "id": "27b1a803",
   "metadata": {
    "pycharm": {
     "name": "#%% md\n"
    }
   },
   "source": [
    "### SpeckledBand(まだらの紐)\n",
    "Who killed Julia? (criminal & explanation)\n",
    "被害者: Julia\n",
    "犯人: Roylott\n",
    "犯行に用いたもの: snake\n",
    "犯行動機: 母の相続財産を独占したい"
   ]
  },
  {
   "cell_type": "code",
   "execution_count": 15,
   "id": "939399ea",
   "metadata": {
    "pycharm": {
     "name": "#%%\n"
    },
    "scrolled": true
   },
   "outputs": [
    {
     "name": "stderr",
     "output_type": "stream",
     "text": [
      "2023-02-04 05:42:18 - INFO - 3696358453.py - 13 - The pred ranking about SpeckledBand:Roylott is 3\n"
     ]
    },
    {
     "data": {
      "text/plain": "                           predicate                           whom  \\\nranking                                                               \n0                  word.predicate:go                AllTitle:Watson   \n1                word.predicate:send                AllTitle:Holmes   \n2                    AllTitle:Holmes  AbbeyGrange:Lady_Brackenstall   \n3               word.predicate:enter    AbbeyGrange:Stanley_Hopkins   \n4                word.predicate:kill           AbbeyGrange:Criminal   \n5               word.predicate:think             SpeckledBand:Julia   \n6                 CrookedMan:Barclay         ACaseOfIdentity:Hosmer   \n7                word.predicate:want           SpeckledBand:Roylott   \n8                 word.predicate:sit     SpeckledBand:1883-04-02T00   \n9                word.predicate:come            word.predicate:live   \n10               word.predicate:meet           DevilsFoot:Sterndale   \n11                   AllTitle:Watson             SpeckledBand:Helen   \n12       SilverBlaze:Fitzroy_Simpson              DancingMen:Cubitt   \n13              word.predicate:shoot        AbbeyGrange:Jack_Croker   \n14                word.predicate:say             AbbeyGrange:corpse   \n15               word.predicate:have             CrookedMan:Barclay   \n16              word.predicate:goOut             word.predicate:sit   \n17               word.predicate:live               DancingMen:Elsie   \n18             word.predicate:notSay              DevilsFoot:George   \n19          SilverBlaze:Colonel_Ross    SilverBlaze:Fitzroy_Simpson   \n\n                               subject                              why  \\\nranking                                                                   \n0                      AllTitle:Watson       SpeckledBand:1883-04-02T00   \n1                      AllTitle:Holmes               CrookedMan:Barclay   \n2          AbbeyGrange:Stanley_Hopkins          AbbeyGrange:Jack_Croker   \n3                 SpeckledBand:Roylott      SilverBlaze:Fitzroy_Simpson   \n4                  DevilsFoot:Mortimer     DateTime:1883-04-02T00:00:00   \n5        AbbeyGrange:Lady_Brackenstall                  AllTitle:Holmes   \n6               word.predicate:examine               SpeckledBand:Julia   \n7                   SpeckledBand:Helen               SpeckledBand:Helen   \n8                  word.predicate:have               CrookedMan:Rasheen   \n9           ACaseOfIdentity:Sutherland     DateTime:1898-08-13T03:00:00   \n10           ACaseOfIdentity:Windibank            SpeckledBand:corridor   \n11                AbbeyGrange:Criminal  SpeckledBand:mansion_of_Roylott   \n12                   DevilsFoot:George     SpeckledBand:Julia_s_bedroom   \n13                 word.predicate:wear              DevilsFoot:Roundhay   \n14                 DevilsFoot:Roundhay                DancingMen:Cubitt   \n15              ACaseOfIdentity:Hosmer          DancingMen:Local_doctor   \n16                  SpeckledBand:Julia     SpeckledBand:Helen_s_bedroom   \n17                   word.predicate:go   SpeckledBand:Roylott_s_bedroom   \n18                     DevilsFoot:Owen       SpeckledBand:1883-04-01T06   \n19          SpeckledBand:1883-04-02T00               word.predicate:sit   \n\n                                   what                             where  \nranking                                                                    \n0                       AllTitle:Holmes      SpeckledBand:Julia_s_bedroom  \n1                       AllTitle:Watson        ACaseOfIdentity:Sutherland  \n2                    SpeckledBand:Helen                   AllTitle:Holmes  \n3                  DevilsFoot:Sterndale    SpeckledBand:Roylott_s_bedroom  \n4           ResidentPatient:Elderly_man            word.predicate:examine  \n5         AbbeyGrange:Lady_Brackenstall      DateTime:1883-04-01T15:00:00  \n6               DancingMen:Local_doctor         ACaseOfIdentity:Windibank  \n7        SpeckledBand:Roylott_s_bedroom       AbbeyGrange:Stanley_Hopkins  \n8           AbbeyGrange:Stanley_Hopkins                  CrookedMan:Nancy  \n9                SpeckledBand:Crown_Inn               word.predicate:wear  \n10                   word.predicate:sit             word.predicate:return  \n11               ACaseOfIdentity:Hosmer      DateTime:1898-08-13T11:00:00  \n12                    DancingMen:Cubitt      SpeckledBand:Helen_s_bedroom  \n13                      CrookedMan:Jane                word.predicate:say  \n14                  DevilsFoot:Roundhay      DateTime:1883-04-01T16:00:00  \n15                   CrookedMan:Barclay        ResidentPatient:Helper_boy  \n16          SilverBlaze:Fitzroy_Simpson  ResidentPatient:Blessington_room  \n17                 word.predicate:small                           <bos_e>  \n18                  word.predicate:have               word.predicate:send  \n19                    word.predicate:go               DevilsFoot:Roundhay  ",
      "text/html": "<div>\n<style scoped>\n    .dataframe tbody tr th:only-of-type {\n        vertical-align: middle;\n    }\n\n    .dataframe tbody tr th {\n        vertical-align: top;\n    }\n\n    .dataframe thead th {\n        text-align: right;\n    }\n</style>\n<table border=\"1\" class=\"dataframe\">\n  <thead>\n    <tr style=\"text-align: right;\">\n      <th></th>\n      <th>predicate</th>\n      <th>whom</th>\n      <th>subject</th>\n      <th>why</th>\n      <th>what</th>\n      <th>where</th>\n    </tr>\n    <tr>\n      <th>ranking</th>\n      <th></th>\n      <th></th>\n      <th></th>\n      <th></th>\n      <th></th>\n      <th></th>\n    </tr>\n  </thead>\n  <tbody>\n    <tr>\n      <th>0</th>\n      <td>word.predicate:go</td>\n      <td>AllTitle:Watson</td>\n      <td>AllTitle:Watson</td>\n      <td>SpeckledBand:1883-04-02T00</td>\n      <td>AllTitle:Holmes</td>\n      <td>SpeckledBand:Julia_s_bedroom</td>\n    </tr>\n    <tr>\n      <th>1</th>\n      <td>word.predicate:send</td>\n      <td>AllTitle:Holmes</td>\n      <td>AllTitle:Holmes</td>\n      <td>CrookedMan:Barclay</td>\n      <td>AllTitle:Watson</td>\n      <td>ACaseOfIdentity:Sutherland</td>\n    </tr>\n    <tr>\n      <th>2</th>\n      <td>AllTitle:Holmes</td>\n      <td>AbbeyGrange:Lady_Brackenstall</td>\n      <td>AbbeyGrange:Stanley_Hopkins</td>\n      <td>AbbeyGrange:Jack_Croker</td>\n      <td>SpeckledBand:Helen</td>\n      <td>AllTitle:Holmes</td>\n    </tr>\n    <tr>\n      <th>3</th>\n      <td>word.predicate:enter</td>\n      <td>AbbeyGrange:Stanley_Hopkins</td>\n      <td>SpeckledBand:Roylott</td>\n      <td>SilverBlaze:Fitzroy_Simpson</td>\n      <td>DevilsFoot:Sterndale</td>\n      <td>SpeckledBand:Roylott_s_bedroom</td>\n    </tr>\n    <tr>\n      <th>4</th>\n      <td>word.predicate:kill</td>\n      <td>AbbeyGrange:Criminal</td>\n      <td>DevilsFoot:Mortimer</td>\n      <td>DateTime:1883-04-02T00:00:00</td>\n      <td>ResidentPatient:Elderly_man</td>\n      <td>word.predicate:examine</td>\n    </tr>\n    <tr>\n      <th>5</th>\n      <td>word.predicate:think</td>\n      <td>SpeckledBand:Julia</td>\n      <td>AbbeyGrange:Lady_Brackenstall</td>\n      <td>AllTitle:Holmes</td>\n      <td>AbbeyGrange:Lady_Brackenstall</td>\n      <td>DateTime:1883-04-01T15:00:00</td>\n    </tr>\n    <tr>\n      <th>6</th>\n      <td>CrookedMan:Barclay</td>\n      <td>ACaseOfIdentity:Hosmer</td>\n      <td>word.predicate:examine</td>\n      <td>SpeckledBand:Julia</td>\n      <td>DancingMen:Local_doctor</td>\n      <td>ACaseOfIdentity:Windibank</td>\n    </tr>\n    <tr>\n      <th>7</th>\n      <td>word.predicate:want</td>\n      <td>SpeckledBand:Roylott</td>\n      <td>SpeckledBand:Helen</td>\n      <td>SpeckledBand:Helen</td>\n      <td>SpeckledBand:Roylott_s_bedroom</td>\n      <td>AbbeyGrange:Stanley_Hopkins</td>\n    </tr>\n    <tr>\n      <th>8</th>\n      <td>word.predicate:sit</td>\n      <td>SpeckledBand:1883-04-02T00</td>\n      <td>word.predicate:have</td>\n      <td>CrookedMan:Rasheen</td>\n      <td>AbbeyGrange:Stanley_Hopkins</td>\n      <td>CrookedMan:Nancy</td>\n    </tr>\n    <tr>\n      <th>9</th>\n      <td>word.predicate:come</td>\n      <td>word.predicate:live</td>\n      <td>ACaseOfIdentity:Sutherland</td>\n      <td>DateTime:1898-08-13T03:00:00</td>\n      <td>SpeckledBand:Crown_Inn</td>\n      <td>word.predicate:wear</td>\n    </tr>\n    <tr>\n      <th>10</th>\n      <td>word.predicate:meet</td>\n      <td>DevilsFoot:Sterndale</td>\n      <td>ACaseOfIdentity:Windibank</td>\n      <td>SpeckledBand:corridor</td>\n      <td>word.predicate:sit</td>\n      <td>word.predicate:return</td>\n    </tr>\n    <tr>\n      <th>11</th>\n      <td>AllTitle:Watson</td>\n      <td>SpeckledBand:Helen</td>\n      <td>AbbeyGrange:Criminal</td>\n      <td>SpeckledBand:mansion_of_Roylott</td>\n      <td>ACaseOfIdentity:Hosmer</td>\n      <td>DateTime:1898-08-13T11:00:00</td>\n    </tr>\n    <tr>\n      <th>12</th>\n      <td>SilverBlaze:Fitzroy_Simpson</td>\n      <td>DancingMen:Cubitt</td>\n      <td>DevilsFoot:George</td>\n      <td>SpeckledBand:Julia_s_bedroom</td>\n      <td>DancingMen:Cubitt</td>\n      <td>SpeckledBand:Helen_s_bedroom</td>\n    </tr>\n    <tr>\n      <th>13</th>\n      <td>word.predicate:shoot</td>\n      <td>AbbeyGrange:Jack_Croker</td>\n      <td>word.predicate:wear</td>\n      <td>DevilsFoot:Roundhay</td>\n      <td>CrookedMan:Jane</td>\n      <td>word.predicate:say</td>\n    </tr>\n    <tr>\n      <th>14</th>\n      <td>word.predicate:say</td>\n      <td>AbbeyGrange:corpse</td>\n      <td>DevilsFoot:Roundhay</td>\n      <td>DancingMen:Cubitt</td>\n      <td>DevilsFoot:Roundhay</td>\n      <td>DateTime:1883-04-01T16:00:00</td>\n    </tr>\n    <tr>\n      <th>15</th>\n      <td>word.predicate:have</td>\n      <td>CrookedMan:Barclay</td>\n      <td>ACaseOfIdentity:Hosmer</td>\n      <td>DancingMen:Local_doctor</td>\n      <td>CrookedMan:Barclay</td>\n      <td>ResidentPatient:Helper_boy</td>\n    </tr>\n    <tr>\n      <th>16</th>\n      <td>word.predicate:goOut</td>\n      <td>word.predicate:sit</td>\n      <td>SpeckledBand:Julia</td>\n      <td>SpeckledBand:Helen_s_bedroom</td>\n      <td>SilverBlaze:Fitzroy_Simpson</td>\n      <td>ResidentPatient:Blessington_room</td>\n    </tr>\n    <tr>\n      <th>17</th>\n      <td>word.predicate:live</td>\n      <td>DancingMen:Elsie</td>\n      <td>word.predicate:go</td>\n      <td>SpeckledBand:Roylott_s_bedroom</td>\n      <td>word.predicate:small</td>\n      <td>&lt;bos_e&gt;</td>\n    </tr>\n    <tr>\n      <th>18</th>\n      <td>word.predicate:notSay</td>\n      <td>DevilsFoot:George</td>\n      <td>DevilsFoot:Owen</td>\n      <td>SpeckledBand:1883-04-01T06</td>\n      <td>word.predicate:have</td>\n      <td>word.predicate:send</td>\n    </tr>\n    <tr>\n      <th>19</th>\n      <td>SilverBlaze:Colonel_Ross</td>\n      <td>SilverBlaze:Fitzroy_Simpson</td>\n      <td>SpeckledBand:1883-04-02T00</td>\n      <td>word.predicate:sit</td>\n      <td>word.predicate:go</td>\n      <td>DevilsFoot:Roundhay</td>\n    </tr>\n  </tbody>\n</table>\n</div>"
     },
     "metadata": {},
     "output_type": "display_data"
    },
    {
     "name": "stdout",
     "output_type": "stream",
     "text": [
      "index=498, triple=['SpeckledBand:300', 'kgc:when', 'SpeckledBand:1883-04-02T01'], attention list\n"
     ]
    },
    {
     "data": {
      "text/plain": "                 head          relation                         tail  \\\n415  SpeckledBand:287          kgc:when   SpeckledBand:1881-12-02T00   \n409  SpeckledBand:286          kgc:when   SpeckledBand:1881-12-02T00   \n342  SpeckledBand:275    kgc:infoSource           SpeckledBand:Helen   \n384  SpeckledBand:282          kgc:when   SpeckledBand:1881-12-02T00   \n222  SpeckledBand:258          kgc:what             SpeckledBand:261   \n..                ...               ...                          ...   \n9    SpeckledBand:222  kgc:hasPredicate      word.predicate:letEnter   \n262  SpeckledBand:262  kgc:hasPredicate            word.predicate:go   \n40   SpeckledBand:227  kgc:hasPredicate         word.predicate:exist   \n172  SpeckledBand:250  kgc:hasPredicate  word.predicate:notSatisfied   \n137  SpeckledBand:244  kgc:hasPredicate      word.predicate:takeDown   \n\n     atten_from498  \n415       0.020614  \n409       0.015310  \n342       0.011391  \n384       0.009759  \n222       0.009296  \n..             ...  \n9         0.000237  \n262       0.000220  \n40        0.000210  \n172       0.000182  \n137       0.000173  \n\n[508 rows x 4 columns]",
      "text/html": "<div>\n<style scoped>\n    .dataframe tbody tr th:only-of-type {\n        vertical-align: middle;\n    }\n\n    .dataframe tbody tr th {\n        vertical-align: top;\n    }\n\n    .dataframe thead th {\n        text-align: right;\n    }\n</style>\n<table border=\"1\" class=\"dataframe\">\n  <thead>\n    <tr style=\"text-align: right;\">\n      <th></th>\n      <th>head</th>\n      <th>relation</th>\n      <th>tail</th>\n      <th>atten_from498</th>\n    </tr>\n  </thead>\n  <tbody>\n    <tr>\n      <th>415</th>\n      <td>SpeckledBand:287</td>\n      <td>kgc:when</td>\n      <td>SpeckledBand:1881-12-02T00</td>\n      <td>0.020614</td>\n    </tr>\n    <tr>\n      <th>409</th>\n      <td>SpeckledBand:286</td>\n      <td>kgc:when</td>\n      <td>SpeckledBand:1881-12-02T00</td>\n      <td>0.015310</td>\n    </tr>\n    <tr>\n      <th>342</th>\n      <td>SpeckledBand:275</td>\n      <td>kgc:infoSource</td>\n      <td>SpeckledBand:Helen</td>\n      <td>0.011391</td>\n    </tr>\n    <tr>\n      <th>384</th>\n      <td>SpeckledBand:282</td>\n      <td>kgc:when</td>\n      <td>SpeckledBand:1881-12-02T00</td>\n      <td>0.009759</td>\n    </tr>\n    <tr>\n      <th>222</th>\n      <td>SpeckledBand:258</td>\n      <td>kgc:what</td>\n      <td>SpeckledBand:261</td>\n      <td>0.009296</td>\n    </tr>\n    <tr>\n      <th>...</th>\n      <td>...</td>\n      <td>...</td>\n      <td>...</td>\n      <td>...</td>\n    </tr>\n    <tr>\n      <th>9</th>\n      <td>SpeckledBand:222</td>\n      <td>kgc:hasPredicate</td>\n      <td>word.predicate:letEnter</td>\n      <td>0.000237</td>\n    </tr>\n    <tr>\n      <th>262</th>\n      <td>SpeckledBand:262</td>\n      <td>kgc:hasPredicate</td>\n      <td>word.predicate:go</td>\n      <td>0.000220</td>\n    </tr>\n    <tr>\n      <th>40</th>\n      <td>SpeckledBand:227</td>\n      <td>kgc:hasPredicate</td>\n      <td>word.predicate:exist</td>\n      <td>0.000210</td>\n    </tr>\n    <tr>\n      <th>172</th>\n      <td>SpeckledBand:250</td>\n      <td>kgc:hasPredicate</td>\n      <td>word.predicate:notSatisfied</td>\n      <td>0.000182</td>\n    </tr>\n    <tr>\n      <th>137</th>\n      <td>SpeckledBand:244</td>\n      <td>kgc:hasPredicate</td>\n      <td>word.predicate:takeDown</td>\n      <td>0.000173</td>\n    </tr>\n  </tbody>\n</table>\n<p>508 rows × 4 columns</p>\n</div>"
     },
     "metadata": {},
     "output_type": "display_data"
    },
    {
     "name": "stdout",
     "output_type": "stream",
     "text": [
      "index=499, triple=['SpeckledBand:300', 'kgc:time', 'DateTime:1883-04-02T01:00:00'], attention list\n"
     ]
    },
    {
     "data": {
      "text/plain": "                 head          relation                        tail  \\\n415  SpeckledBand:287          kgc:when  SpeckledBand:1881-12-02T00   \n376  SpeckledBand:281       kgc:subject   SpeckledBand:rope_of_bell   \n342  SpeckledBand:275    kgc:infoSource          SpeckledBand:Helen   \n479  SpeckledBand:297          kgc:when  SpeckledBand:1883-04-02T00   \n409  SpeckledBand:286          kgc:when  SpeckledBand:1881-12-02T00   \n..                ...               ...                         ...   \n15   SpeckledBand:223  kgc:hasPredicate         word.predicate:open   \n262  SpeckledBand:262  kgc:hasPredicate           word.predicate:go   \n2    SpeckledBand:221  kgc:hasPredicate        word.predicate:exist   \n137  SpeckledBand:244  kgc:hasPredicate     word.predicate:takeDown   \n40   SpeckledBand:227  kgc:hasPredicate        word.predicate:exist   \n\n     atten_from499  \n415       0.010830  \n376       0.010741  \n342       0.008558  \n479       0.008059  \n409       0.008019  \n..             ...  \n15        0.000290  \n262       0.000273  \n2         0.000260  \n137       0.000235  \n40        0.000189  \n\n[508 rows x 4 columns]",
      "text/html": "<div>\n<style scoped>\n    .dataframe tbody tr th:only-of-type {\n        vertical-align: middle;\n    }\n\n    .dataframe tbody tr th {\n        vertical-align: top;\n    }\n\n    .dataframe thead th {\n        text-align: right;\n    }\n</style>\n<table border=\"1\" class=\"dataframe\">\n  <thead>\n    <tr style=\"text-align: right;\">\n      <th></th>\n      <th>head</th>\n      <th>relation</th>\n      <th>tail</th>\n      <th>atten_from499</th>\n    </tr>\n  </thead>\n  <tbody>\n    <tr>\n      <th>415</th>\n      <td>SpeckledBand:287</td>\n      <td>kgc:when</td>\n      <td>SpeckledBand:1881-12-02T00</td>\n      <td>0.010830</td>\n    </tr>\n    <tr>\n      <th>376</th>\n      <td>SpeckledBand:281</td>\n      <td>kgc:subject</td>\n      <td>SpeckledBand:rope_of_bell</td>\n      <td>0.010741</td>\n    </tr>\n    <tr>\n      <th>342</th>\n      <td>SpeckledBand:275</td>\n      <td>kgc:infoSource</td>\n      <td>SpeckledBand:Helen</td>\n      <td>0.008558</td>\n    </tr>\n    <tr>\n      <th>479</th>\n      <td>SpeckledBand:297</td>\n      <td>kgc:when</td>\n      <td>SpeckledBand:1883-04-02T00</td>\n      <td>0.008059</td>\n    </tr>\n    <tr>\n      <th>409</th>\n      <td>SpeckledBand:286</td>\n      <td>kgc:when</td>\n      <td>SpeckledBand:1881-12-02T00</td>\n      <td>0.008019</td>\n    </tr>\n    <tr>\n      <th>...</th>\n      <td>...</td>\n      <td>...</td>\n      <td>...</td>\n      <td>...</td>\n    </tr>\n    <tr>\n      <th>15</th>\n      <td>SpeckledBand:223</td>\n      <td>kgc:hasPredicate</td>\n      <td>word.predicate:open</td>\n      <td>0.000290</td>\n    </tr>\n    <tr>\n      <th>262</th>\n      <td>SpeckledBand:262</td>\n      <td>kgc:hasPredicate</td>\n      <td>word.predicate:go</td>\n      <td>0.000273</td>\n    </tr>\n    <tr>\n      <th>2</th>\n      <td>SpeckledBand:221</td>\n      <td>kgc:hasPredicate</td>\n      <td>word.predicate:exist</td>\n      <td>0.000260</td>\n    </tr>\n    <tr>\n      <th>137</th>\n      <td>SpeckledBand:244</td>\n      <td>kgc:hasPredicate</td>\n      <td>word.predicate:takeDown</td>\n      <td>0.000235</td>\n    </tr>\n    <tr>\n      <th>40</th>\n      <td>SpeckledBand:227</td>\n      <td>kgc:hasPredicate</td>\n      <td>word.predicate:exist</td>\n      <td>0.000189</td>\n    </tr>\n  </tbody>\n</table>\n<p>508 rows × 4 columns</p>\n</div>"
     },
     "metadata": {},
     "output_type": "display_data"
    },
    {
     "name": "stdout",
     "output_type": "stream",
     "text": [
      "index=500, triple=['<bos_e>', '<bos_r>', '<bos_e>'], attention list\n"
     ]
    },
    {
     "data": {
      "text/plain": "                 head          relation                     tail  \\\n15   SpeckledBand:223  kgc:hasPredicate      word.predicate:open   \n90   SpeckledBand:237  kgc:hasPredicate      word.predicate:have   \n28   SpeckledBand:225  kgc:hasPredicate      word.predicate:open   \n443  SpeckledBand:292  kgc:hasPredicate   word.predicate:turnOff   \n78   SpeckledBand:235  kgc:hasPredicate      word.predicate:have   \n..                ...               ...                      ...   \n178  SpeckledBand:251          kgc:what  SpeckledBand:small_dish   \n278  SpeckledBand:264          kgc:whom          AllTitle:Watson   \n182  SpeckledBand:252       kgc:subject          AllTitle:Holmes   \n277  SpeckledBand:264          kgc:whom          AllTitle:Holmes   \n143  SpeckledBand:245       kgc:subject  SpeckledBand:small_dish   \n\n     atten_from500  \n15        0.005240  \n90        0.005108  \n28        0.005035  \n443       0.004537  \n78        0.004509  \n..             ...  \n178       0.000731  \n278       0.000708  \n182       0.000688  \n277       0.000675  \n143       0.000666  \n\n[508 rows x 4 columns]",
      "text/html": "<div>\n<style scoped>\n    .dataframe tbody tr th:only-of-type {\n        vertical-align: middle;\n    }\n\n    .dataframe tbody tr th {\n        vertical-align: top;\n    }\n\n    .dataframe thead th {\n        text-align: right;\n    }\n</style>\n<table border=\"1\" class=\"dataframe\">\n  <thead>\n    <tr style=\"text-align: right;\">\n      <th></th>\n      <th>head</th>\n      <th>relation</th>\n      <th>tail</th>\n      <th>atten_from500</th>\n    </tr>\n  </thead>\n  <tbody>\n    <tr>\n      <th>15</th>\n      <td>SpeckledBand:223</td>\n      <td>kgc:hasPredicate</td>\n      <td>word.predicate:open</td>\n      <td>0.005240</td>\n    </tr>\n    <tr>\n      <th>90</th>\n      <td>SpeckledBand:237</td>\n      <td>kgc:hasPredicate</td>\n      <td>word.predicate:have</td>\n      <td>0.005108</td>\n    </tr>\n    <tr>\n      <th>28</th>\n      <td>SpeckledBand:225</td>\n      <td>kgc:hasPredicate</td>\n      <td>word.predicate:open</td>\n      <td>0.005035</td>\n    </tr>\n    <tr>\n      <th>443</th>\n      <td>SpeckledBand:292</td>\n      <td>kgc:hasPredicate</td>\n      <td>word.predicate:turnOff</td>\n      <td>0.004537</td>\n    </tr>\n    <tr>\n      <th>78</th>\n      <td>SpeckledBand:235</td>\n      <td>kgc:hasPredicate</td>\n      <td>word.predicate:have</td>\n      <td>0.004509</td>\n    </tr>\n    <tr>\n      <th>...</th>\n      <td>...</td>\n      <td>...</td>\n      <td>...</td>\n      <td>...</td>\n    </tr>\n    <tr>\n      <th>178</th>\n      <td>SpeckledBand:251</td>\n      <td>kgc:what</td>\n      <td>SpeckledBand:small_dish</td>\n      <td>0.000731</td>\n    </tr>\n    <tr>\n      <th>278</th>\n      <td>SpeckledBand:264</td>\n      <td>kgc:whom</td>\n      <td>AllTitle:Watson</td>\n      <td>0.000708</td>\n    </tr>\n    <tr>\n      <th>182</th>\n      <td>SpeckledBand:252</td>\n      <td>kgc:subject</td>\n      <td>AllTitle:Holmes</td>\n      <td>0.000688</td>\n    </tr>\n    <tr>\n      <th>277</th>\n      <td>SpeckledBand:264</td>\n      <td>kgc:whom</td>\n      <td>AllTitle:Holmes</td>\n      <td>0.000675</td>\n    </tr>\n    <tr>\n      <th>143</th>\n      <td>SpeckledBand:245</td>\n      <td>kgc:subject</td>\n      <td>SpeckledBand:small_dish</td>\n      <td>0.000666</td>\n    </tr>\n  </tbody>\n</table>\n<p>508 rows × 4 columns</p>\n</div>"
     },
     "metadata": {},
     "output_type": "display_data"
    },
    {
     "name": "stdout",
     "output_type": "stream",
     "text": [
      "index=501, triple=['<mask_e>', 'kgc:infoSource', 'AllTitle:Holmes'], attention list\n"
     ]
    },
    {
     "data": {
      "text/plain": "                 head          relation                         tail  \\\n342  SpeckledBand:275    kgc:infoSource           SpeckledBand:Helen   \n433  SpeckledBand:291       kgc:subject              AllTitle:Holmes   \n212  SpeckledBand:257       kgc:subject              AllTitle:Holmes   \n300  SpeckledBand:268       kgc:subject              AllTitle:Holmes   \n449  SpeckledBand:293       kgc:subject              AllTitle:Holmes   \n..                ...               ...                          ...   \n262  SpeckledBand:262  kgc:hasPredicate            word.predicate:go   \n162  SpeckledBand:248  kgc:hasPredicate         word.predicate:exist   \n196  SpeckledBand:254  kgc:hasPredicate         word.predicate:exist   \n172  SpeckledBand:250  kgc:hasPredicate  word.predicate:notSatisfied   \n40   SpeckledBand:227  kgc:hasPredicate         word.predicate:exist   \n\n     atten_from501  \n342       0.014821  \n433       0.011537  \n212       0.011274  \n300       0.010829  \n449       0.010747  \n..             ...  \n262       0.000165  \n162       0.000162  \n196       0.000135  \n172       0.000129  \n40        0.000098  \n\n[508 rows x 4 columns]",
      "text/html": "<div>\n<style scoped>\n    .dataframe tbody tr th:only-of-type {\n        vertical-align: middle;\n    }\n\n    .dataframe tbody tr th {\n        vertical-align: top;\n    }\n\n    .dataframe thead th {\n        text-align: right;\n    }\n</style>\n<table border=\"1\" class=\"dataframe\">\n  <thead>\n    <tr style=\"text-align: right;\">\n      <th></th>\n      <th>head</th>\n      <th>relation</th>\n      <th>tail</th>\n      <th>atten_from501</th>\n    </tr>\n  </thead>\n  <tbody>\n    <tr>\n      <th>342</th>\n      <td>SpeckledBand:275</td>\n      <td>kgc:infoSource</td>\n      <td>SpeckledBand:Helen</td>\n      <td>0.014821</td>\n    </tr>\n    <tr>\n      <th>433</th>\n      <td>SpeckledBand:291</td>\n      <td>kgc:subject</td>\n      <td>AllTitle:Holmes</td>\n      <td>0.011537</td>\n    </tr>\n    <tr>\n      <th>212</th>\n      <td>SpeckledBand:257</td>\n      <td>kgc:subject</td>\n      <td>AllTitle:Holmes</td>\n      <td>0.011274</td>\n    </tr>\n    <tr>\n      <th>300</th>\n      <td>SpeckledBand:268</td>\n      <td>kgc:subject</td>\n      <td>AllTitle:Holmes</td>\n      <td>0.010829</td>\n    </tr>\n    <tr>\n      <th>449</th>\n      <td>SpeckledBand:293</td>\n      <td>kgc:subject</td>\n      <td>AllTitle:Holmes</td>\n      <td>0.010747</td>\n    </tr>\n    <tr>\n      <th>...</th>\n      <td>...</td>\n      <td>...</td>\n      <td>...</td>\n      <td>...</td>\n    </tr>\n    <tr>\n      <th>262</th>\n      <td>SpeckledBand:262</td>\n      <td>kgc:hasPredicate</td>\n      <td>word.predicate:go</td>\n      <td>0.000165</td>\n    </tr>\n    <tr>\n      <th>162</th>\n      <td>SpeckledBand:248</td>\n      <td>kgc:hasPredicate</td>\n      <td>word.predicate:exist</td>\n      <td>0.000162</td>\n    </tr>\n    <tr>\n      <th>196</th>\n      <td>SpeckledBand:254</td>\n      <td>kgc:hasPredicate</td>\n      <td>word.predicate:exist</td>\n      <td>0.000135</td>\n    </tr>\n    <tr>\n      <th>172</th>\n      <td>SpeckledBand:250</td>\n      <td>kgc:hasPredicate</td>\n      <td>word.predicate:notSatisfied</td>\n      <td>0.000129</td>\n    </tr>\n    <tr>\n      <th>40</th>\n      <td>SpeckledBand:227</td>\n      <td>kgc:hasPredicate</td>\n      <td>word.predicate:exist</td>\n      <td>0.000098</td>\n    </tr>\n  </tbody>\n</table>\n<p>508 rows × 4 columns</p>\n</div>"
     },
     "metadata": {},
     "output_type": "display_data"
    },
    {
     "name": "stdout",
     "output_type": "stream",
     "text": [
      "index=502, triple=['<mask_e>', 'kgc:hasPredicate', 'word.predicate:kill'], attention list\n"
     ]
    },
    {
     "data": {
      "text/plain": "                 head          relation                         tail  \\\n342  SpeckledBand:275    kgc:infoSource           SpeckledBand:Helen   \n131  SpeckledBand:243    kgc:infoSource           SpeckledBand:Helen   \n116  SpeckledBand:241          kgc:what     SpeckledBand:elbow_chair   \n16   SpeckledBand:223    kgc:infoSource           SpeckledBand:Helen   \n415  SpeckledBand:287          kgc:when   SpeckledBand:1881-12-02T00   \n..                ...               ...                          ...   \n275  SpeckledBand:264  kgc:hasPredicate          word.predicate:send   \n150  SpeckledBand:246  kgc:hasPredicate      word.predicate:notExist   \n137  SpeckledBand:244  kgc:hasPredicate      word.predicate:takeDown   \n40   SpeckledBand:227  kgc:hasPredicate         word.predicate:exist   \n172  SpeckledBand:250  kgc:hasPredicate  word.predicate:notSatisfied   \n\n     atten_from502  \n342       0.010830  \n131       0.008357  \n116       0.007812  \n16        0.007676  \n415       0.007533  \n..             ...  \n275       0.000339  \n150       0.000307  \n137       0.000277  \n40        0.000250  \n172       0.000208  \n\n[508 rows x 4 columns]",
      "text/html": "<div>\n<style scoped>\n    .dataframe tbody tr th:only-of-type {\n        vertical-align: middle;\n    }\n\n    .dataframe tbody tr th {\n        vertical-align: top;\n    }\n\n    .dataframe thead th {\n        text-align: right;\n    }\n</style>\n<table border=\"1\" class=\"dataframe\">\n  <thead>\n    <tr style=\"text-align: right;\">\n      <th></th>\n      <th>head</th>\n      <th>relation</th>\n      <th>tail</th>\n      <th>atten_from502</th>\n    </tr>\n  </thead>\n  <tbody>\n    <tr>\n      <th>342</th>\n      <td>SpeckledBand:275</td>\n      <td>kgc:infoSource</td>\n      <td>SpeckledBand:Helen</td>\n      <td>0.010830</td>\n    </tr>\n    <tr>\n      <th>131</th>\n      <td>SpeckledBand:243</td>\n      <td>kgc:infoSource</td>\n      <td>SpeckledBand:Helen</td>\n      <td>0.008357</td>\n    </tr>\n    <tr>\n      <th>116</th>\n      <td>SpeckledBand:241</td>\n      <td>kgc:what</td>\n      <td>SpeckledBand:elbow_chair</td>\n      <td>0.007812</td>\n    </tr>\n    <tr>\n      <th>16</th>\n      <td>SpeckledBand:223</td>\n      <td>kgc:infoSource</td>\n      <td>SpeckledBand:Helen</td>\n      <td>0.007676</td>\n    </tr>\n    <tr>\n      <th>415</th>\n      <td>SpeckledBand:287</td>\n      <td>kgc:when</td>\n      <td>SpeckledBand:1881-12-02T00</td>\n      <td>0.007533</td>\n    </tr>\n    <tr>\n      <th>...</th>\n      <td>...</td>\n      <td>...</td>\n      <td>...</td>\n      <td>...</td>\n    </tr>\n    <tr>\n      <th>275</th>\n      <td>SpeckledBand:264</td>\n      <td>kgc:hasPredicate</td>\n      <td>word.predicate:send</td>\n      <td>0.000339</td>\n    </tr>\n    <tr>\n      <th>150</th>\n      <td>SpeckledBand:246</td>\n      <td>kgc:hasPredicate</td>\n      <td>word.predicate:notExist</td>\n      <td>0.000307</td>\n    </tr>\n    <tr>\n      <th>137</th>\n      <td>SpeckledBand:244</td>\n      <td>kgc:hasPredicate</td>\n      <td>word.predicate:takeDown</td>\n      <td>0.000277</td>\n    </tr>\n    <tr>\n      <th>40</th>\n      <td>SpeckledBand:227</td>\n      <td>kgc:hasPredicate</td>\n      <td>word.predicate:exist</td>\n      <td>0.000250</td>\n    </tr>\n    <tr>\n      <th>172</th>\n      <td>SpeckledBand:250</td>\n      <td>kgc:hasPredicate</td>\n      <td>word.predicate:notSatisfied</td>\n      <td>0.000208</td>\n    </tr>\n  </tbody>\n</table>\n<p>508 rows × 4 columns</p>\n</div>"
     },
     "metadata": {},
     "output_type": "display_data"
    },
    {
     "name": "stdout",
     "output_type": "stream",
     "text": [
      "index=503, triple=['<mask_e>', 'kgc:whom', 'SpeckledBand:Julia'], attention list\n"
     ]
    },
    {
     "data": {
      "text/plain": "                 head          relation                         tail  \\\n342  SpeckledBand:275    kgc:infoSource           SpeckledBand:Helen   \n131  SpeckledBand:243    kgc:infoSource           SpeckledBand:Helen   \n16   SpeckledBand:223    kgc:infoSource           SpeckledBand:Helen   \n117  SpeckledBand:241          kgc:what    SpeckledBand:simple_chair   \n418  SpeckledBand:289       kgc:subject           SpeckledBand:Helen   \n..                ...               ...                          ...   \n196  SpeckledBand:254  kgc:hasPredicate         word.predicate:exist   \n309  SpeckledBand:269  kgc:hasPredicate         word.predicate:exist   \n156  SpeckledBand:247  kgc:hasPredicate         word.predicate:exist   \n40   SpeckledBand:227  kgc:hasPredicate         word.predicate:exist   \n172  SpeckledBand:250  kgc:hasPredicate  word.predicate:notSatisfied   \n\n     atten_from503  \n342       0.013057  \n131       0.012943  \n16        0.012083  \n117       0.012074  \n418       0.011642  \n..             ...  \n196       0.000123  \n309       0.000117  \n156       0.000113  \n40        0.000106  \n172       0.000099  \n\n[508 rows x 4 columns]",
      "text/html": "<div>\n<style scoped>\n    .dataframe tbody tr th:only-of-type {\n        vertical-align: middle;\n    }\n\n    .dataframe tbody tr th {\n        vertical-align: top;\n    }\n\n    .dataframe thead th {\n        text-align: right;\n    }\n</style>\n<table border=\"1\" class=\"dataframe\">\n  <thead>\n    <tr style=\"text-align: right;\">\n      <th></th>\n      <th>head</th>\n      <th>relation</th>\n      <th>tail</th>\n      <th>atten_from503</th>\n    </tr>\n  </thead>\n  <tbody>\n    <tr>\n      <th>342</th>\n      <td>SpeckledBand:275</td>\n      <td>kgc:infoSource</td>\n      <td>SpeckledBand:Helen</td>\n      <td>0.013057</td>\n    </tr>\n    <tr>\n      <th>131</th>\n      <td>SpeckledBand:243</td>\n      <td>kgc:infoSource</td>\n      <td>SpeckledBand:Helen</td>\n      <td>0.012943</td>\n    </tr>\n    <tr>\n      <th>16</th>\n      <td>SpeckledBand:223</td>\n      <td>kgc:infoSource</td>\n      <td>SpeckledBand:Helen</td>\n      <td>0.012083</td>\n    </tr>\n    <tr>\n      <th>117</th>\n      <td>SpeckledBand:241</td>\n      <td>kgc:what</td>\n      <td>SpeckledBand:simple_chair</td>\n      <td>0.012074</td>\n    </tr>\n    <tr>\n      <th>418</th>\n      <td>SpeckledBand:289</td>\n      <td>kgc:subject</td>\n      <td>SpeckledBand:Helen</td>\n      <td>0.011642</td>\n    </tr>\n    <tr>\n      <th>...</th>\n      <td>...</td>\n      <td>...</td>\n      <td>...</td>\n      <td>...</td>\n    </tr>\n    <tr>\n      <th>196</th>\n      <td>SpeckledBand:254</td>\n      <td>kgc:hasPredicate</td>\n      <td>word.predicate:exist</td>\n      <td>0.000123</td>\n    </tr>\n    <tr>\n      <th>309</th>\n      <td>SpeckledBand:269</td>\n      <td>kgc:hasPredicate</td>\n      <td>word.predicate:exist</td>\n      <td>0.000117</td>\n    </tr>\n    <tr>\n      <th>156</th>\n      <td>SpeckledBand:247</td>\n      <td>kgc:hasPredicate</td>\n      <td>word.predicate:exist</td>\n      <td>0.000113</td>\n    </tr>\n    <tr>\n      <th>40</th>\n      <td>SpeckledBand:227</td>\n      <td>kgc:hasPredicate</td>\n      <td>word.predicate:exist</td>\n      <td>0.000106</td>\n    </tr>\n    <tr>\n      <th>172</th>\n      <td>SpeckledBand:250</td>\n      <td>kgc:hasPredicate</td>\n      <td>word.predicate:notSatisfied</td>\n      <td>0.000099</td>\n    </tr>\n  </tbody>\n</table>\n<p>508 rows × 4 columns</p>\n</div>"
     },
     "metadata": {},
     "output_type": "display_data"
    },
    {
     "name": "stdout",
     "output_type": "stream",
     "text": [
      "index=504, triple=['<mask_e>', 'kgc:subject', '<mask_e>'], attention list\n"
     ]
    },
    {
     "data": {
      "text/plain": "                 head          relation                         tail  \\\n300  SpeckledBand:268       kgc:subject              AllTitle:Holmes   \n441  SpeckledBand:292       kgc:subject              AllTitle:Holmes   \n449  SpeckledBand:293       kgc:subject              AllTitle:Holmes   \n433  SpeckledBand:291       kgc:subject              AllTitle:Holmes   \n342  SpeckledBand:275    kgc:infoSource           SpeckledBand:Helen   \n..                ...               ...                          ...   \n189  SpeckledBand:253  kgc:hasPredicate          word.predicate:find   \n309  SpeckledBand:269  kgc:hasPredicate         word.predicate:exist   \n172  SpeckledBand:250  kgc:hasPredicate  word.predicate:notSatisfied   \n196  SpeckledBand:254  kgc:hasPredicate         word.predicate:exist   \n40   SpeckledBand:227  kgc:hasPredicate         word.predicate:exist   \n\n     atten_from504  \n300       0.014318  \n441       0.010240  \n449       0.009597  \n433       0.009452  \n342       0.008951  \n..             ...  \n189       0.000162  \n309       0.000156  \n172       0.000155  \n196       0.000134  \n40        0.000109  \n\n[508 rows x 4 columns]",
      "text/html": "<div>\n<style scoped>\n    .dataframe tbody tr th:only-of-type {\n        vertical-align: middle;\n    }\n\n    .dataframe tbody tr th {\n        vertical-align: top;\n    }\n\n    .dataframe thead th {\n        text-align: right;\n    }\n</style>\n<table border=\"1\" class=\"dataframe\">\n  <thead>\n    <tr style=\"text-align: right;\">\n      <th></th>\n      <th>head</th>\n      <th>relation</th>\n      <th>tail</th>\n      <th>atten_from504</th>\n    </tr>\n  </thead>\n  <tbody>\n    <tr>\n      <th>300</th>\n      <td>SpeckledBand:268</td>\n      <td>kgc:subject</td>\n      <td>AllTitle:Holmes</td>\n      <td>0.014318</td>\n    </tr>\n    <tr>\n      <th>441</th>\n      <td>SpeckledBand:292</td>\n      <td>kgc:subject</td>\n      <td>AllTitle:Holmes</td>\n      <td>0.010240</td>\n    </tr>\n    <tr>\n      <th>449</th>\n      <td>SpeckledBand:293</td>\n      <td>kgc:subject</td>\n      <td>AllTitle:Holmes</td>\n      <td>0.009597</td>\n    </tr>\n    <tr>\n      <th>433</th>\n      <td>SpeckledBand:291</td>\n      <td>kgc:subject</td>\n      <td>AllTitle:Holmes</td>\n      <td>0.009452</td>\n    </tr>\n    <tr>\n      <th>342</th>\n      <td>SpeckledBand:275</td>\n      <td>kgc:infoSource</td>\n      <td>SpeckledBand:Helen</td>\n      <td>0.008951</td>\n    </tr>\n    <tr>\n      <th>...</th>\n      <td>...</td>\n      <td>...</td>\n      <td>...</td>\n      <td>...</td>\n    </tr>\n    <tr>\n      <th>189</th>\n      <td>SpeckledBand:253</td>\n      <td>kgc:hasPredicate</td>\n      <td>word.predicate:find</td>\n      <td>0.000162</td>\n    </tr>\n    <tr>\n      <th>309</th>\n      <td>SpeckledBand:269</td>\n      <td>kgc:hasPredicate</td>\n      <td>word.predicate:exist</td>\n      <td>0.000156</td>\n    </tr>\n    <tr>\n      <th>172</th>\n      <td>SpeckledBand:250</td>\n      <td>kgc:hasPredicate</td>\n      <td>word.predicate:notSatisfied</td>\n      <td>0.000155</td>\n    </tr>\n    <tr>\n      <th>196</th>\n      <td>SpeckledBand:254</td>\n      <td>kgc:hasPredicate</td>\n      <td>word.predicate:exist</td>\n      <td>0.000134</td>\n    </tr>\n    <tr>\n      <th>40</th>\n      <td>SpeckledBand:227</td>\n      <td>kgc:hasPredicate</td>\n      <td>word.predicate:exist</td>\n      <td>0.000109</td>\n    </tr>\n  </tbody>\n</table>\n<p>508 rows × 4 columns</p>\n</div>"
     },
     "metadata": {},
     "output_type": "display_data"
    },
    {
     "name": "stdout",
     "output_type": "stream",
     "text": [
      "index=505, triple=['<mask_e>', 'kgc:why', '<mask_e>'], attention list\n"
     ]
    },
    {
     "data": {
      "text/plain": "                 head          relation                        tail  \\\n17   SpeckledBand:223          kgc:when  SpeckledBand:1883-04-01T15   \n222  SpeckledBand:258          kgc:what            SpeckledBand:261   \n376  SpeckledBand:281       kgc:subject   SpeckledBand:rope_of_bell   \n342  SpeckledBand:275    kgc:infoSource          SpeckledBand:Helen   \n224  SpeckledBand:258          kgc:what            SpeckledBand:263   \n..                ...               ...                         ...   \n282  SpeckledBand:265  kgc:hasPredicate           word.predicate:go   \n156  SpeckledBand:247  kgc:hasPredicate        word.predicate:exist   \n9    SpeckledBand:222  kgc:hasPredicate     word.predicate:letEnter   \n137  SpeckledBand:244  kgc:hasPredicate     word.predicate:takeDown   \n40   SpeckledBand:227  kgc:hasPredicate        word.predicate:exist   \n\n     atten_from505  \n17        0.006849  \n222       0.006753  \n376       0.006685  \n342       0.006495  \n224       0.006431  \n..             ...  \n282       0.000240  \n156       0.000237  \n9         0.000224  \n137       0.000221  \n40        0.000207  \n\n[508 rows x 4 columns]",
      "text/html": "<div>\n<style scoped>\n    .dataframe tbody tr th:only-of-type {\n        vertical-align: middle;\n    }\n\n    .dataframe tbody tr th {\n        vertical-align: top;\n    }\n\n    .dataframe thead th {\n        text-align: right;\n    }\n</style>\n<table border=\"1\" class=\"dataframe\">\n  <thead>\n    <tr style=\"text-align: right;\">\n      <th></th>\n      <th>head</th>\n      <th>relation</th>\n      <th>tail</th>\n      <th>atten_from505</th>\n    </tr>\n  </thead>\n  <tbody>\n    <tr>\n      <th>17</th>\n      <td>SpeckledBand:223</td>\n      <td>kgc:when</td>\n      <td>SpeckledBand:1883-04-01T15</td>\n      <td>0.006849</td>\n    </tr>\n    <tr>\n      <th>222</th>\n      <td>SpeckledBand:258</td>\n      <td>kgc:what</td>\n      <td>SpeckledBand:261</td>\n      <td>0.006753</td>\n    </tr>\n    <tr>\n      <th>376</th>\n      <td>SpeckledBand:281</td>\n      <td>kgc:subject</td>\n      <td>SpeckledBand:rope_of_bell</td>\n      <td>0.006685</td>\n    </tr>\n    <tr>\n      <th>342</th>\n      <td>SpeckledBand:275</td>\n      <td>kgc:infoSource</td>\n      <td>SpeckledBand:Helen</td>\n      <td>0.006495</td>\n    </tr>\n    <tr>\n      <th>224</th>\n      <td>SpeckledBand:258</td>\n      <td>kgc:what</td>\n      <td>SpeckledBand:263</td>\n      <td>0.006431</td>\n    </tr>\n    <tr>\n      <th>...</th>\n      <td>...</td>\n      <td>...</td>\n      <td>...</td>\n      <td>...</td>\n    </tr>\n    <tr>\n      <th>282</th>\n      <td>SpeckledBand:265</td>\n      <td>kgc:hasPredicate</td>\n      <td>word.predicate:go</td>\n      <td>0.000240</td>\n    </tr>\n    <tr>\n      <th>156</th>\n      <td>SpeckledBand:247</td>\n      <td>kgc:hasPredicate</td>\n      <td>word.predicate:exist</td>\n      <td>0.000237</td>\n    </tr>\n    <tr>\n      <th>9</th>\n      <td>SpeckledBand:222</td>\n      <td>kgc:hasPredicate</td>\n      <td>word.predicate:letEnter</td>\n      <td>0.000224</td>\n    </tr>\n    <tr>\n      <th>137</th>\n      <td>SpeckledBand:244</td>\n      <td>kgc:hasPredicate</td>\n      <td>word.predicate:takeDown</td>\n      <td>0.000221</td>\n    </tr>\n    <tr>\n      <th>40</th>\n      <td>SpeckledBand:227</td>\n      <td>kgc:hasPredicate</td>\n      <td>word.predicate:exist</td>\n      <td>0.000207</td>\n    </tr>\n  </tbody>\n</table>\n<p>508 rows × 4 columns</p>\n</div>"
     },
     "metadata": {},
     "output_type": "display_data"
    },
    {
     "name": "stdout",
     "output_type": "stream",
     "text": [
      "index=506, triple=['<mask_e>', 'kgc:what', '<mask_e>'], attention list\n"
     ]
    },
    {
     "data": {
      "text/plain": "                 head          relation                       tail  \\\n117  SpeckledBand:241          kgc:what  SpeckledBand:simple_chair   \n16   SpeckledBand:223    kgc:infoSource         SpeckledBand:Helen   \n224  SpeckledBand:258          kgc:what           SpeckledBand:263   \n116  SpeckledBand:241          kgc:what   SpeckledBand:elbow_chair   \n118  SpeckledBand:241          kgc:what   SpeckledBand:round_table   \n..                ...               ...                        ...   \n150  SpeckledBand:246  kgc:hasPredicate    word.predicate:notExist   \n156  SpeckledBand:247  kgc:hasPredicate       word.predicate:exist   \n196  SpeckledBand:254  kgc:hasPredicate       word.predicate:exist   \n9    SpeckledBand:222  kgc:hasPredicate    word.predicate:letEnter   \n40   SpeckledBand:227  kgc:hasPredicate       word.predicate:exist   \n\n     atten_from506  \n117       0.009596  \n16        0.008749  \n224       0.008298  \n116       0.008151  \n118       0.007800  \n..             ...  \n150       0.000187  \n156       0.000181  \n196       0.000178  \n9         0.000133  \n40        0.000120  \n\n[508 rows x 4 columns]",
      "text/html": "<div>\n<style scoped>\n    .dataframe tbody tr th:only-of-type {\n        vertical-align: middle;\n    }\n\n    .dataframe tbody tr th {\n        vertical-align: top;\n    }\n\n    .dataframe thead th {\n        text-align: right;\n    }\n</style>\n<table border=\"1\" class=\"dataframe\">\n  <thead>\n    <tr style=\"text-align: right;\">\n      <th></th>\n      <th>head</th>\n      <th>relation</th>\n      <th>tail</th>\n      <th>atten_from506</th>\n    </tr>\n  </thead>\n  <tbody>\n    <tr>\n      <th>117</th>\n      <td>SpeckledBand:241</td>\n      <td>kgc:what</td>\n      <td>SpeckledBand:simple_chair</td>\n      <td>0.009596</td>\n    </tr>\n    <tr>\n      <th>16</th>\n      <td>SpeckledBand:223</td>\n      <td>kgc:infoSource</td>\n      <td>SpeckledBand:Helen</td>\n      <td>0.008749</td>\n    </tr>\n    <tr>\n      <th>224</th>\n      <td>SpeckledBand:258</td>\n      <td>kgc:what</td>\n      <td>SpeckledBand:263</td>\n      <td>0.008298</td>\n    </tr>\n    <tr>\n      <th>116</th>\n      <td>SpeckledBand:241</td>\n      <td>kgc:what</td>\n      <td>SpeckledBand:elbow_chair</td>\n      <td>0.008151</td>\n    </tr>\n    <tr>\n      <th>118</th>\n      <td>SpeckledBand:241</td>\n      <td>kgc:what</td>\n      <td>SpeckledBand:round_table</td>\n      <td>0.007800</td>\n    </tr>\n    <tr>\n      <th>...</th>\n      <td>...</td>\n      <td>...</td>\n      <td>...</td>\n      <td>...</td>\n    </tr>\n    <tr>\n      <th>150</th>\n      <td>SpeckledBand:246</td>\n      <td>kgc:hasPredicate</td>\n      <td>word.predicate:notExist</td>\n      <td>0.000187</td>\n    </tr>\n    <tr>\n      <th>156</th>\n      <td>SpeckledBand:247</td>\n      <td>kgc:hasPredicate</td>\n      <td>word.predicate:exist</td>\n      <td>0.000181</td>\n    </tr>\n    <tr>\n      <th>196</th>\n      <td>SpeckledBand:254</td>\n      <td>kgc:hasPredicate</td>\n      <td>word.predicate:exist</td>\n      <td>0.000178</td>\n    </tr>\n    <tr>\n      <th>9</th>\n      <td>SpeckledBand:222</td>\n      <td>kgc:hasPredicate</td>\n      <td>word.predicate:letEnter</td>\n      <td>0.000133</td>\n    </tr>\n    <tr>\n      <th>40</th>\n      <td>SpeckledBand:227</td>\n      <td>kgc:hasPredicate</td>\n      <td>word.predicate:exist</td>\n      <td>0.000120</td>\n    </tr>\n  </tbody>\n</table>\n<p>508 rows × 4 columns</p>\n</div>"
     },
     "metadata": {},
     "output_type": "display_data"
    },
    {
     "name": "stdout",
     "output_type": "stream",
     "text": [
      "index=507, triple=['<mask_e>', 'kgc:where', '<mask_e>'], attention list\n"
     ]
    },
    {
     "data": {
      "text/plain": "                 head          relation                          tail  \\\n16   SpeckledBand:223    kgc:infoSource            SpeckledBand:Helen   \n342  SpeckledBand:275    kgc:infoSource            SpeckledBand:Helen   \n418  SpeckledBand:289       kgc:subject            SpeckledBand:Helen   \n326  SpeckledBand:272       kgc:subject  SpeckledBand:VentilationHole   \n29   SpeckledBand:225    kgc:infoSource            SpeckledBand:Helen   \n..                ...               ...                           ...   \n2    SpeckledBand:221  kgc:hasPredicate          word.predicate:exist   \n196  SpeckledBand:254  kgc:hasPredicate          word.predicate:exist   \n156  SpeckledBand:247  kgc:hasPredicate          word.predicate:exist   \n137  SpeckledBand:244  kgc:hasPredicate       word.predicate:takeDown   \n40   SpeckledBand:227  kgc:hasPredicate          word.predicate:exist   \n\n     atten_from507  \n16        0.010408  \n342       0.009616  \n418       0.008318  \n326       0.006301  \n29        0.006232  \n..             ...  \n2         0.000151  \n196       0.000148  \n156       0.000145  \n137       0.000139  \n40        0.000129  \n\n[508 rows x 4 columns]",
      "text/html": "<div>\n<style scoped>\n    .dataframe tbody tr th:only-of-type {\n        vertical-align: middle;\n    }\n\n    .dataframe tbody tr th {\n        vertical-align: top;\n    }\n\n    .dataframe thead th {\n        text-align: right;\n    }\n</style>\n<table border=\"1\" class=\"dataframe\">\n  <thead>\n    <tr style=\"text-align: right;\">\n      <th></th>\n      <th>head</th>\n      <th>relation</th>\n      <th>tail</th>\n      <th>atten_from507</th>\n    </tr>\n  </thead>\n  <tbody>\n    <tr>\n      <th>16</th>\n      <td>SpeckledBand:223</td>\n      <td>kgc:infoSource</td>\n      <td>SpeckledBand:Helen</td>\n      <td>0.010408</td>\n    </tr>\n    <tr>\n      <th>342</th>\n      <td>SpeckledBand:275</td>\n      <td>kgc:infoSource</td>\n      <td>SpeckledBand:Helen</td>\n      <td>0.009616</td>\n    </tr>\n    <tr>\n      <th>418</th>\n      <td>SpeckledBand:289</td>\n      <td>kgc:subject</td>\n      <td>SpeckledBand:Helen</td>\n      <td>0.008318</td>\n    </tr>\n    <tr>\n      <th>326</th>\n      <td>SpeckledBand:272</td>\n      <td>kgc:subject</td>\n      <td>SpeckledBand:VentilationHole</td>\n      <td>0.006301</td>\n    </tr>\n    <tr>\n      <th>29</th>\n      <td>SpeckledBand:225</td>\n      <td>kgc:infoSource</td>\n      <td>SpeckledBand:Helen</td>\n      <td>0.006232</td>\n    </tr>\n    <tr>\n      <th>...</th>\n      <td>...</td>\n      <td>...</td>\n      <td>...</td>\n      <td>...</td>\n    </tr>\n    <tr>\n      <th>2</th>\n      <td>SpeckledBand:221</td>\n      <td>kgc:hasPredicate</td>\n      <td>word.predicate:exist</td>\n      <td>0.000151</td>\n    </tr>\n    <tr>\n      <th>196</th>\n      <td>SpeckledBand:254</td>\n      <td>kgc:hasPredicate</td>\n      <td>word.predicate:exist</td>\n      <td>0.000148</td>\n    </tr>\n    <tr>\n      <th>156</th>\n      <td>SpeckledBand:247</td>\n      <td>kgc:hasPredicate</td>\n      <td>word.predicate:exist</td>\n      <td>0.000145</td>\n    </tr>\n    <tr>\n      <th>137</th>\n      <td>SpeckledBand:244</td>\n      <td>kgc:hasPredicate</td>\n      <td>word.predicate:takeDown</td>\n      <td>0.000139</td>\n    </tr>\n    <tr>\n      <th>40</th>\n      <td>SpeckledBand:227</td>\n      <td>kgc:hasPredicate</td>\n      <td>word.predicate:exist</td>\n      <td>0.000129</td>\n    </tr>\n  </tbody>\n</table>\n<p>508 rows × 4 columns</p>\n</div>"
     },
     "metadata": {},
     "output_type": "display_data"
    }
   ],
   "source": [
    "def do_SpeckledBand_pred():\n",
    "    title = 'SpeckledBand'\n",
    "    victim_name = 'Julia'\n",
    "    killer_name = 'Roylott'\n",
    "    last_index = 300\n",
    "    story_len = 80\n",
    "\n",
    "    df_ranking, df_attention = check_killer(title, victim_name, killer_name, last_index, story_len)\n",
    "    return df_ranking, df_attention\n",
    "do_SpeckledBand_pred()\n",
    "pass"
   ]
  },
  {
   "cell_type": "code",
   "execution_count": 15,
   "outputs": [],
   "source": [],
   "metadata": {
    "collapsed": false,
    "pycharm": {
     "name": "#%%\n"
    }
   }
  },
  {
   "cell_type": "code",
   "execution_count": 15,
   "outputs": [],
   "source": [],
   "metadata": {
    "collapsed": false,
    "pycharm": {
     "name": "#%%\n"
    }
   }
  }
 ],
 "metadata": {
  "kernelspec": {
   "display_name": "Python 3 (ipykernel)",
   "language": "python",
   "name": "python3"
  },
  "language_info": {
   "codemirror_mode": {
    "name": "ipython",
    "version": 3
   },
   "file_extension": ".py",
   "mimetype": "text/x-python",
   "name": "python",
   "nbconvert_exporter": "python",
   "pygments_lexer": "ipython3",
   "version": "3.10.4"
  },
  "varInspector": {
   "cols": {
    "lenName": 16,
    "lenType": 16,
    "lenVar": 40
   },
   "kernels_config": {
    "python": {
     "delete_cmd_postfix": "",
     "delete_cmd_prefix": "del ",
     "library": "var_list.py",
     "varRefreshCmd": "print(var_dic_list())"
    },
    "r": {
     "delete_cmd_postfix": ") ",
     "delete_cmd_prefix": "rm(",
     "library": "var_list.r",
     "varRefreshCmd": "cat(var_dic_list()) "
    }
   },
   "types_to_exclude": [
    "module",
    "function",
    "builtin_function_or_method",
    "instance",
    "_Feature"
   ],
   "window_display": false
  },
  "vscode": {
   "interpreter": {
    "hash": "aee8b7b246df8f9039afb4144a1f6fd8d2ca17a180786b69acc140d282b71a49"
   }
  }
 },
 "nbformat": 4,
 "nbformat_minor": 5
}