{
 "cells": [
  {
   "cell_type": "code",
   "execution_count": 1,
   "outputs": [],
   "source": [
    "# coding: UTF-8\n",
    "import os\n",
    "import sys\n",
    "from pathlib import Path\n",
    "os.chdir('../')\n",
    "PROJECT_DIR = Path().resolve()\n",
    "sys.path.append(os.path.join(PROJECT_DIR, 'src'))\n",
    "\n",
    "from models.run import *"
   ],
   "metadata": {
    "collapsed": false,
    "pycharm": {
     "name": "#%%\n"
    }
   }
  },
  {
   "cell_type": "code",
   "execution_count": 2,
   "outputs": [
    {
     "name": "stderr",
     "output_type": "stream",
     "text": [
      "2022-10-24 23:29:35 - INFO - run.py - 439 - =======load data start.         ========\n",
      "2022-10-24 23:29:35 - DEBUG - data_helper.py - 69 - {0: '_hypernym', 1: '_derivationally_related_form', 2: '_instance_hypernym', 3: '_also_see', 4: '_member_meronym', 5: '_synset_domain_topic_of', 6: '_has_part', 7: '_member_of_domain_usage', 8: '_member_of_domain_region', 9: '_verb_group', 10: '_similar_to', 11: '_hypernym_REVERSE', 12: '_derivationally_related_form_REVERSE', 13: '_instance_hypernym_REVERSE', 14: '_also_see_REVERSE', 15: '_member_meronym_REVERSE', 16: '_synset_domain_topic_of_REVERSE', 17: '_has_part_REVERSE', 18: '_member_of_domain_usage_REVERSE', 19: '_member_of_domain_region_REVERSE', 20: '_verb_group_REVERSE', 21: '_similar_to_REVERSE'}\n",
      "2022-10-24 23:29:35 - DEBUG - run.py - 441 - =====this is  eco_memory mode=====\n",
      "2022-10-24 23:29:35 - INFO - run.py - 442 - =======load data complete.      ========\n",
      "2022-10-24 23:29:35 - INFO - run.py - 445 - =======make dataloader start.   ========\n",
      "2022-10-24 23:29:35 - INFO - run.py - 160 - make_dataloader_all_tail\n",
      "2022-10-24 23:33:08 - INFO - run.py - 453 - =======make dataloader complete.========\n",
      "2022-10-24 23:33:08 - INFO - run.py - 456 - =======make model start.        ========\n",
      "2022-10-24 23:33:08 - INFO - run.py - 458 - =======make model complete.     ========\n",
      "2022-10-24 23:33:08 - INFO - run.py - 459 - grad param count: 10213059\n"
     ]
    }
   ],
   "source": [
    "torch_fix_seed(seed=42)\n",
    "parser_args = [\n",
    "    '--logfile', 'log/test.log', '--console-level', 'debug', '--param-file', 'log/test.pkl', '--eco-memory',\n",
    "    '--model', 'conve', '--KGdata', 'WN18RR', '--train-type', 'all_tail',\n",
    "    '--function', 'do_1train',\n",
    "    '--model-path', 'saved_models/.tmp/check-point.pid=97348.model',\n",
    "    '--entity-special-num', '0', '--relation-special-num', '0',\n",
    "    '--batch-size', '256',\n",
    "]\n",
    "args, logger, device = setup(setup_parser, PROJECT_DIR, parser_args=parser_args)\n",
    "\n",
    "model_path = args.model_path\n",
    "data_helper, model = train_setup(args, logger=logger)\n",
    "model = load_model(model, model_path, device=device)"
   ],
   "metadata": {
    "collapsed": false,
    "pycharm": {
     "name": "#%%\n"
    }
   }
  },
  {
   "cell_type": "code",
   "execution_count": 3,
   "outputs": [
    {
     "name": "stderr",
     "output_type": "stream",
     "text": [
      "2022-10-24 23:33:08 - DEBUG - run.py - 332 - -----This is test-----\n",
      "2022-10-24 23:34:01 - DEBUG - run.py - 407 - mrr=tensor(2562.6345), hit_=tensor([2355., 2533., 2660., 2745., 2797., 2839., 2874., 2907., 2937., 2968.]), len_test=6268\n",
      "2022-10-24 23:34:01 - DEBUG - run.py - 415 - =====Test result: mrr = 0.4088440537452698\n",
      "2022-10-24 23:34:01 - DEBUG - run.py - 416 - =====Test result: hit = [0.3757179379463196, 0.404116153717041, 0.42437779903411865, 0.43793874979019165, 0.4462348520755768, 0.4529355466365814, 0.45851945877075195, 0.4637843072414398, 0.4685705304145813, 0.4735162854194641]\n"
     ]
    }
   ],
   "source": [
    "args.device = device\n",
    "model, result = testing(\n",
    "            args, logger=logger,\n",
    "            data_helper=data_helper, model=model,\n",
    "            is_test=True,\n",
    "            no_show_bar=True,\n",
    "        )"
   ],
   "metadata": {
    "collapsed": false,
    "pycharm": {
     "name": "#%%\n"
    }
   }
  },
  {
   "cell_type": "code",
   "execution_count": 4,
   "outputs": [],
   "source": [
    "test = data_helper.test_dataloader\n",
    "for idx, (er, e2s, e2s_all) in enumerate(test):\n",
    "    e, r = er.to(device).split(1, 1)\n",
    "    pred: torch.Tensor = model.forward((e, r))\n",
    "    break\n"
   ],
   "metadata": {
    "collapsed": false,
    "pycharm": {
     "name": "#%%\n"
    }
   }
  },
  {
   "cell_type": "code",
   "execution_count": null,
   "outputs": [],
   "source": [],
   "metadata": {
    "collapsed": false,
    "pycharm": {
     "name": "#%%\n"
    }
   }
  }
 ],
 "metadata": {
  "kernelspec": {
   "display_name": "Python 3",
   "language": "python",
   "name": "python3"
  },
  "language_info": {
   "codemirror_mode": {
    "name": "ipython",
    "version": 2
   },
   "file_extension": ".py",
   "mimetype": "text/x-python",
   "name": "python",
   "nbconvert_exporter": "python",
   "pygments_lexer": "ipython2",
   "version": "2.7.6"
  }
 },
 "nbformat": 4,
 "nbformat_minor": 0
}