{
 "cells": [
  {
   "cell_type": "code",
   "execution_count": 1,
   "outputs": [],
   "source": [
    "# coding: UTF-8\n",
    "import os\n",
    "os.chdir('../')\n",
    "import sys\n",
    "from pathlib import Path\n",
    "PROJECT_DIR = Path().resolve()\n",
    "sys.path.append(os.path.join(PROJECT_DIR, 'src'))\n",
    "from models.run import main"
   ],
   "metadata": {
    "collapsed": false,
    "pycharm": {
     "name": "#%%\n"
    }
   }
  },
  {
   "cell_type": "markdown",
   "source": [
    "# transformer2 モデル"
   ],
   "metadata": {
    "collapsed": false,
    "pycharm": {
     "name": "#%% md\n"
    }
   }
  },
  {
   "cell_type": "code",
   "execution_count": 2,
   "outputs": [],
   "source": [
    "KGdata_ = 'WN18RR'\n",
    "model_ = 'transformere2'\n",
    "file_ = 'saved_models/1025/01'\n",
    "epoch_ = '5000'\n",
    "lr_ = '1e-5'"
   ],
   "metadata": {
    "collapsed": false,
    "pycharm": {
     "name": "#%%\n"
    }
   }
  },
  {
   "cell_type": "code",
   "execution_count": null,
   "outputs": [
    {
     "name": "stderr",
     "output_type": "stream",
     "text": [
      "2022-10-24 23:56:13 - INFO - torch.py - 23 - use gpu\n",
      "2022-10-24 23:56:13 - INFO - run.py - 629 - process id = 194\n",
      "2022-10-24 23:56:13 - INFO - run.py - 480 - =============Function start=============\n",
      "2022-10-24 23:56:13 - INFO - run.py - 439 - =======load data start.         ========\n",
      "2022-10-24 23:56:13 - INFO - run.py - 442 - =======load data complete.      ========\n",
      "2022-10-24 23:56:13 - INFO - run.py - 445 - =======make dataloader start.   ========\n",
      "2022-10-24 23:56:13 - INFO - run.py - 160 - make_dataloader_all_tail\n",
      "2022-10-24 23:56:34 - INFO - run.py - 453 - =======make dataloader complete.========\n",
      "2022-10-24 23:56:34 - INFO - run.py - 456 - =======make model start.        ========\n",
      "2022-10-24 23:56:34 - INFO - run.py - 458 - =======make model complete.     ========\n",
      "2022-10-24 23:56:34 - INFO - run.py - 459 - grad param count: 12240099\n",
      "2022-10-24 23:56:34 - INFO - run.py - 496 - =======Train start.             ========\n",
      "2022-10-24 23:56:35 - INFO - run.py - 248 - ----------epoch 1 start. ----------\n"
     ]
    },
    {
     "data": {
      "text/plain": "  0%|          | 0/427 [00:00<?, ?it/s]",
      "application/vnd.jupyter.widget-view+json": {
       "version_major": 2,
       "version_minor": 0,
       "model_id": "7a428ad9eef94e82afb7ba548989793b"
      }
     },
     "metadata": {},
     "output_type": "display_data"
    },
    {
     "name": "stderr",
     "output_type": "stream",
     "text": [
      "2022-10-24 23:57:02 - INFO - run.py - 288 - -----train result (epoch=1): loss = 0.6080013513565063\n",
      "2022-10-24 23:57:02 - INFO - run.py - 304 - ----------epoch 1 end.----------\n",
      "2022-10-24 23:57:02 - INFO - run.py - 248 - ----------epoch 2 start. ----------\n"
     ]
    },
    {
     "data": {
      "text/plain": "  0%|          | 0/427 [00:00<?, ?it/s]",
      "application/vnd.jupyter.widget-view+json": {
       "version_major": 2,
       "version_minor": 0,
       "model_id": "056309d0bbcb4e8d95b59c864b96ee99"
      }
     },
     "metadata": {},
     "output_type": "display_data"
    },
    {
     "name": "stderr",
     "output_type": "stream",
     "text": [
      "2022-10-24 23:57:31 - INFO - run.py - 288 - -----train result (epoch=2): loss = 0.45729687809944153\n",
      "2022-10-24 23:57:31 - INFO - run.py - 304 - ----------epoch 2 end.----------\n",
      "2022-10-24 23:57:31 - INFO - run.py - 248 - ----------epoch 3 start. ----------\n"
     ]
    },
    {
     "data": {
      "text/plain": "  0%|          | 0/427 [00:00<?, ?it/s]",
      "application/vnd.jupyter.widget-view+json": {
       "version_major": 2,
       "version_minor": 0,
       "model_id": "aefe6bbf79744042ad9dd2305bad266b"
      }
     },
     "metadata": {},
     "output_type": "display_data"
    },
    {
     "name": "stderr",
     "output_type": "stream",
     "text": [
      "2022-10-24 23:58:06 - INFO - run.py - 288 - -----train result (epoch=3): loss = 0.3443358540534973\n",
      "2022-10-24 23:58:06 - INFO - run.py - 304 - ----------epoch 3 end.----------\n",
      "2022-10-24 23:58:06 - INFO - run.py - 248 - ----------epoch 4 start. ----------\n"
     ]
    },
    {
     "data": {
      "text/plain": "  0%|          | 0/427 [00:00<?, ?it/s]",
      "application/vnd.jupyter.widget-view+json": {
       "version_major": 2,
       "version_minor": 0,
       "model_id": "0d4312c651ce43499b3b465354aefc21"
      }
     },
     "metadata": {},
     "output_type": "display_data"
    },
    {
     "name": "stderr",
     "output_type": "stream",
     "text": [
      "2022-10-24 23:59:54 - INFO - run.py - 288 - -----train result (epoch=6): loss = 0.1484549641609192\n",
      "2022-10-24 23:59:54 - INFO - run.py - 304 - ----------epoch 6 end.----------\n",
      "2022-10-24 23:59:54 - INFO - run.py - 248 - ----------epoch 7 start. ----------\n"
     ]
    },
    {
     "data": {
      "text/plain": "  0%|          | 0/427 [00:00<?, ?it/s]",
      "application/vnd.jupyter.widget-view+json": {
       "version_major": 2,
       "version_minor": 0,
       "model_id": "a93ea98f28774a43ad381e3778d25a46"
      }
     },
     "metadata": {},
     "output_type": "display_data"
    },
    {
     "name": "stderr",
     "output_type": "stream",
     "text": [
      "2022-10-25 00:00:32 - INFO - run.py - 288 - -----train result (epoch=7): loss = 0.11801933497190475\n",
      "2022-10-25 00:00:32 - INFO - run.py - 304 - ----------epoch 7 end.----------\n",
      "2022-10-25 00:00:32 - INFO - run.py - 248 - ----------epoch 8 start. ----------\n"
     ]
    },
    {
     "data": {
      "text/plain": "  0%|          | 0/427 [00:00<?, ?it/s]",
      "application/vnd.jupyter.widget-view+json": {
       "version_major": 2,
       "version_minor": 0,
       "model_id": "4c30cee7aa7b40b78f9be7102c4ed991"
      }
     },
     "metadata": {},
     "output_type": "display_data"
    },
    {
     "name": "stderr",
     "output_type": "stream",
     "text": [
      "2022-10-25 00:01:10 - INFO - run.py - 288 - -----train result (epoch=8): loss = 0.09566257148981094\n",
      "2022-10-25 00:01:10 - INFO - run.py - 304 - ----------epoch 8 end.----------\n",
      "2022-10-25 00:01:10 - INFO - run.py - 248 - ----------epoch 9 start. ----------\n"
     ]
    },
    {
     "data": {
      "text/plain": "  0%|          | 0/427 [00:00<?, ?it/s]",
      "application/vnd.jupyter.widget-view+json": {
       "version_major": 2,
       "version_minor": 0,
       "model_id": "5040861379524ff9ba45fe183aec0885"
      }
     },
     "metadata": {},
     "output_type": "display_data"
    },
    {
     "name": "stderr",
     "output_type": "stream",
     "text": [
      "2022-10-25 00:01:48 - INFO - run.py - 288 - -----train result (epoch=9): loss = 0.07840918749570847\n",
      "2022-10-25 00:01:48 - INFO - run.py - 304 - ----------epoch 9 end.----------\n",
      "2022-10-25 00:01:48 - INFO - run.py - 248 - ----------epoch 10 start. ----------\n"
     ]
    },
    {
     "data": {
      "text/plain": "  0%|          | 0/427 [00:00<?, ?it/s]",
      "application/vnd.jupyter.widget-view+json": {
       "version_major": 2,
       "version_minor": 0,
       "model_id": "611ca9d284874fc6bab313ef3df75d2a"
      }
     },
     "metadata": {},
     "output_type": "display_data"
    },
    {
     "name": "stderr",
     "output_type": "stream",
     "text": [
      "2022-10-25 00:02:25 - INFO - run.py - 288 - -----train result (epoch=10): loss = 0.06508568674325943\n",
      "2022-10-25 00:02:25 - INFO - run.py - 304 - ----------epoch 10 end.----------\n",
      "2022-10-25 00:02:26 - INFO - run.py - 248 - ----------epoch 11 start. ----------\n"
     ]
    },
    {
     "data": {
      "text/plain": "  0%|          | 0/427 [00:00<?, ?it/s]",
      "application/vnd.jupyter.widget-view+json": {
       "version_major": 2,
       "version_minor": 0,
       "model_id": "c2f48eb3f48f464b83a25dd6ad69c340"
      }
     },
     "metadata": {},
     "output_type": "display_data"
    },
    {
     "name": "stderr",
     "output_type": "stream",
     "text": [
      "2022-10-25 00:03:03 - INFO - run.py - 288 - -----train result (epoch=11): loss = 0.05456693097949028\n",
      "2022-10-25 00:03:03 - INFO - run.py - 304 - ----------epoch 11 end.----------\n",
      "2022-10-25 00:03:04 - INFO - run.py - 248 - ----------epoch 12 start. ----------\n"
     ]
    },
    {
     "data": {
      "text/plain": "  0%|          | 0/427 [00:00<?, ?it/s]",
      "application/vnd.jupyter.widget-view+json": {
       "version_major": 2,
       "version_minor": 0,
       "model_id": "466bade0c49344e5bafd9d61b93d188c"
      }
     },
     "metadata": {},
     "output_type": "display_data"
    },
    {
     "name": "stderr",
     "output_type": "stream",
     "text": [
      "2022-10-25 00:03:41 - INFO - run.py - 288 - -----train result (epoch=12): loss = 0.04594923183321953\n",
      "2022-10-25 00:03:41 - INFO - run.py - 304 - ----------epoch 12 end.----------\n",
      "2022-10-25 00:03:41 - INFO - run.py - 248 - ----------epoch 13 start. ----------\n"
     ]
    },
    {
     "data": {
      "text/plain": "  0%|          | 0/427 [00:00<?, ?it/s]",
      "application/vnd.jupyter.widget-view+json": {
       "version_major": 2,
       "version_minor": 0,
       "model_id": "44f247336b564fae92b03997b5d41f91"
      }
     },
     "metadata": {},
     "output_type": "display_data"
    },
    {
     "name": "stderr",
     "output_type": "stream",
     "text": [
      "2022-10-25 00:04:18 - INFO - run.py - 288 - -----train result (epoch=13): loss = 0.03914690390229225\n",
      "2022-10-25 00:04:18 - INFO - run.py - 304 - ----------epoch 13 end.----------\n",
      "2022-10-25 00:04:19 - INFO - run.py - 248 - ----------epoch 14 start. ----------\n"
     ]
    },
    {
     "data": {
      "text/plain": "  0%|          | 0/427 [00:00<?, ?it/s]",
      "application/vnd.jupyter.widget-view+json": {
       "version_major": 2,
       "version_minor": 0,
       "model_id": "f59d6ad9f95d4c908777e24a0759201e"
      }
     },
     "metadata": {},
     "output_type": "display_data"
    },
    {
     "name": "stderr",
     "output_type": "stream",
     "text": [
      "2022-10-25 00:04:56 - INFO - run.py - 288 - -----train result (epoch=14): loss = 0.03363002464175224\n",
      "2022-10-25 00:04:56 - INFO - run.py - 304 - ----------epoch 14 end.----------\n",
      "2022-10-25 00:04:56 - INFO - run.py - 248 - ----------epoch 15 start. ----------\n"
     ]
    },
    {
     "data": {
      "text/plain": "  0%|          | 0/427 [00:00<?, ?it/s]",
      "application/vnd.jupyter.widget-view+json": {
       "version_major": 2,
       "version_minor": 0,
       "model_id": "2f33de6e13264623b72575c7ec5f5d86"
      }
     },
     "metadata": {},
     "output_type": "display_data"
    },
    {
     "name": "stderr",
     "output_type": "stream",
     "text": [
      "2022-10-25 00:05:34 - INFO - run.py - 288 - -----train result (epoch=15): loss = 0.028637781739234924\n",
      "2022-10-25 00:05:34 - INFO - run.py - 304 - ----------epoch 15 end.----------\n",
      "2022-10-25 00:05:35 - INFO - run.py - 248 - ----------epoch 16 start. ----------\n"
     ]
    },
    {
     "data": {
      "text/plain": "  0%|          | 0/427 [00:00<?, ?it/s]",
      "application/vnd.jupyter.widget-view+json": {
       "version_major": 2,
       "version_minor": 0,
       "model_id": "6f6041cfac8449cb842f5440386803c5"
      }
     },
     "metadata": {},
     "output_type": "display_data"
    },
    {
     "name": "stderr",
     "output_type": "stream",
     "text": [
      "2022-10-25 00:06:13 - INFO - run.py - 288 - -----train result (epoch=16): loss = 0.024822216480970383\n",
      "2022-10-25 00:06:13 - INFO - run.py - 304 - ----------epoch 16 end.----------\n",
      "2022-10-25 00:06:13 - INFO - run.py - 248 - ----------epoch 17 start. ----------\n"
     ]
    },
    {
     "data": {
      "text/plain": "  0%|          | 0/427 [00:00<?, ?it/s]",
      "application/vnd.jupyter.widget-view+json": {
       "version_major": 2,
       "version_minor": 0,
       "model_id": "f843bbfa8d334ca98dd77963df22c145"
      }
     },
     "metadata": {},
     "output_type": "display_data"
    },
    {
     "name": "stderr",
     "output_type": "stream",
     "text": [
      "2022-10-25 00:06:50 - INFO - run.py - 288 - -----train result (epoch=17): loss = 0.02144019491970539\n",
      "2022-10-25 00:06:50 - INFO - run.py - 304 - ----------epoch 17 end.----------\n",
      "2022-10-25 00:06:51 - INFO - run.py - 248 - ----------epoch 18 start. ----------\n"
     ]
    },
    {
     "data": {
      "text/plain": "  0%|          | 0/427 [00:00<?, ?it/s]",
      "application/vnd.jupyter.widget-view+json": {
       "version_major": 2,
       "version_minor": 0,
       "model_id": "7efd7c6280104abeb3901dd9e98dc6fd"
      }
     },
     "metadata": {},
     "output_type": "display_data"
    },
    {
     "name": "stderr",
     "output_type": "stream",
     "text": [
      "2022-10-25 00:07:26 - INFO - run.py - 288 - -----train result (epoch=18): loss = 0.01849755086004734\n",
      "2022-10-25 00:07:26 - INFO - run.py - 304 - ----------epoch 18 end.----------\n",
      "2022-10-25 00:07:27 - INFO - run.py - 248 - ----------epoch 19 start. ----------\n"
     ]
    },
    {
     "data": {
      "text/plain": "  0%|          | 0/427 [00:00<?, ?it/s]",
      "application/vnd.jupyter.widget-view+json": {
       "version_major": 2,
       "version_minor": 0,
       "model_id": "12fd3f3e3dbd40098d614cf7e0819c66"
      }
     },
     "metadata": {},
     "output_type": "display_data"
    },
    {
     "name": "stderr",
     "output_type": "stream",
     "text": [
      "2022-10-25 00:07:33 - INFO - setup.py - 93 - save params\n"
     ]
    },
    {
     "ename": "KeyboardInterrupt",
     "evalue": "",
     "output_type": "error",
     "traceback": [
      "\u001B[0;31m---------------------------------------------------------------------------\u001B[0m",
      "\u001B[0;31mKeyboardInterrupt\u001B[0m                         Traceback (most recent call last)",
      "Cell \u001B[0;32mIn [3], line 1\u001B[0m\n\u001B[0;32m----> 1\u001B[0m \u001B[43mmain\u001B[49m\u001B[43m(\u001B[49m\u001B[43m[\u001B[49m\n\u001B[1;32m      2\u001B[0m \u001B[43m    \u001B[49m\u001B[38;5;124;43m'\u001B[39;49m\u001B[38;5;124;43m--notebook\u001B[39;49m\u001B[38;5;124;43m'\u001B[39;49m\u001B[43m,\u001B[49m\u001B[43m \u001B[49m\u001B[38;5;124;43m'\u001B[39;49m\u001B[38;5;124;43m--device\u001B[39;49m\u001B[38;5;124;43m'\u001B[39;49m\u001B[43m,\u001B[49m\u001B[43m \u001B[49m\u001B[38;5;124;43m'\u001B[39;49m\u001B[38;5;124;43mcuda\u001B[39;49m\u001B[38;5;124;43m'\u001B[39;49m\u001B[43m,\u001B[49m\u001B[43m \u001B[49m\u001B[38;5;66;43;03m# '--no-show-bar',\u001B[39;49;00m\n\u001B[1;32m      3\u001B[0m \u001B[43m    \u001B[49m\u001B[38;5;124;43m'\u001B[39;49m\u001B[38;5;124;43m--function\u001B[39;49m\u001B[38;5;124;43m'\u001B[39;49m\u001B[43m,\u001B[49m\u001B[43m \u001B[49m\u001B[38;5;124;43m'\u001B[39;49m\u001B[38;5;124;43mdo_1train\u001B[39;49m\u001B[38;5;124;43m'\u001B[39;49m\u001B[43m,\u001B[49m\u001B[43m \u001B[49m\u001B[38;5;124;43m'\u001B[39;49m\u001B[38;5;124;43m--eco-memory\u001B[39;49m\u001B[38;5;124;43m'\u001B[39;49m\u001B[43m,\u001B[49m\u001B[43m \u001B[49m\u001B[38;5;124;43m'\u001B[39;49m\u001B[38;5;124;43m--console-level\u001B[39;49m\u001B[38;5;124;43m'\u001B[39;49m\u001B[43m,\u001B[49m\u001B[43m \u001B[49m\u001B[38;5;124;43m'\u001B[39;49m\u001B[38;5;124;43minfo\u001B[39;49m\u001B[38;5;124;43m'\u001B[39;49m\u001B[43m,\u001B[49m\u001B[43m \u001B[49m\u001B[38;5;124;43m'\u001B[39;49m\u001B[38;5;124;43m--train-type\u001B[39;49m\u001B[38;5;124;43m'\u001B[39;49m\u001B[43m,\u001B[49m\u001B[43m \u001B[49m\u001B[38;5;124;43m'\u001B[39;49m\u001B[38;5;124;43mall_tail\u001B[39;49m\u001B[38;5;124;43m'\u001B[39;49m\u001B[43m,\u001B[49m\n\u001B[1;32m      4\u001B[0m \u001B[43m    \u001B[49m\u001B[38;5;124;43m'\u001B[39;49m\u001B[38;5;124;43m--logfile\u001B[39;49m\u001B[38;5;124;43m'\u001B[39;49m\u001B[43m,\u001B[49m\u001B[43m \u001B[49m\u001B[38;5;124;43mf\u001B[39;49m\u001B[38;5;124;43m'\u001B[39;49m\u001B[38;5;132;43;01m{\u001B[39;49;00m\u001B[43mfile_\u001B[49m\u001B[38;5;132;43;01m}\u001B[39;49;00m\u001B[38;5;124;43m/log.log\u001B[39;49m\u001B[38;5;124;43m'\u001B[39;49m\u001B[43m,\u001B[49m\u001B[43m \u001B[49m\u001B[38;5;124;43m'\u001B[39;49m\u001B[38;5;124;43m--param-file\u001B[39;49m\u001B[38;5;124;43m'\u001B[39;49m\u001B[43m,\u001B[49m\u001B[43m \u001B[49m\u001B[38;5;124;43mf\u001B[39;49m\u001B[38;5;124;43m'\u001B[39;49m\u001B[38;5;132;43;01m{\u001B[39;49;00m\u001B[43mfile_\u001B[49m\u001B[38;5;132;43;01m}\u001B[39;49;00m\u001B[38;5;124;43m/param.pkl\u001B[39;49m\u001B[38;5;124;43m'\u001B[39;49m\u001B[43m,\u001B[49m\u001B[43m \u001B[49m\u001B[38;5;124;43m'\u001B[39;49m\u001B[38;5;124;43m--model-path\u001B[39;49m\u001B[38;5;124;43m'\u001B[39;49m\u001B[43m,\u001B[49m\u001B[43m \u001B[49m\u001B[38;5;124;43mf\u001B[39;49m\u001B[38;5;124;43m'\u001B[39;49m\u001B[38;5;132;43;01m{\u001B[39;49;00m\u001B[43mfile_\u001B[49m\u001B[38;5;132;43;01m}\u001B[39;49;00m\u001B[38;5;124;43m/model.pth\u001B[39;49m\u001B[38;5;124;43m'\u001B[39;49m\u001B[43m,\u001B[49m\n\u001B[1;32m      5\u001B[0m \u001B[43m    \u001B[49m\u001B[38;5;124;43m'\u001B[39;49m\u001B[38;5;124;43m--model\u001B[39;49m\u001B[38;5;124;43m'\u001B[39;49m\u001B[43m,\u001B[49m\u001B[43m \u001B[49m\u001B[38;5;124;43mf\u001B[39;49m\u001B[38;5;124;43m'\u001B[39;49m\u001B[38;5;132;43;01m{\u001B[39;49;00m\u001B[43mmodel_\u001B[49m\u001B[38;5;132;43;01m}\u001B[39;49;00m\u001B[38;5;124;43m'\u001B[39;49m\u001B[43m,\u001B[49m\u001B[43m \u001B[49m\u001B[38;5;124;43m'\u001B[39;49m\u001B[38;5;124;43m--KGdata\u001B[39;49m\u001B[38;5;124;43m'\u001B[39;49m\u001B[43m,\u001B[49m\u001B[43m \u001B[49m\u001B[38;5;124;43mf\u001B[39;49m\u001B[38;5;124;43m'\u001B[39;49m\u001B[38;5;132;43;01m{\u001B[39;49;00m\u001B[43mKGdata_\u001B[49m\u001B[38;5;132;43;01m}\u001B[39;49;00m\u001B[38;5;124;43m'\u001B[39;49m\u001B[43m,\u001B[49m\n\u001B[1;32m      6\u001B[0m \u001B[43m    \u001B[49m\u001B[38;5;124;43m'\u001B[39;49m\u001B[38;5;124;43m--entity-special-num\u001B[39;49m\u001B[38;5;124;43m'\u001B[39;49m\u001B[43m,\u001B[49m\u001B[43m \u001B[49m\u001B[38;5;124;43m'\u001B[39;49m\u001B[38;5;124;43m2\u001B[39;49m\u001B[38;5;124;43m'\u001B[39;49m\u001B[43m,\u001B[49m\u001B[43m \u001B[49m\u001B[38;5;124;43m'\u001B[39;49m\u001B[38;5;124;43m--relation-special-num\u001B[39;49m\u001B[38;5;124;43m'\u001B[39;49m\u001B[43m,\u001B[49m\u001B[43m \u001B[49m\u001B[38;5;124;43m'\u001B[39;49m\u001B[38;5;124;43m0\u001B[39;49m\u001B[38;5;124;43m'\u001B[39;49m\u001B[43m,\u001B[49m\n\u001B[1;32m      7\u001B[0m \u001B[43m    \u001B[49m\u001B[38;5;124;43m'\u001B[39;49m\u001B[38;5;124;43m--padding-token-e\u001B[39;49m\u001B[38;5;124;43m'\u001B[39;49m\u001B[43m,\u001B[49m\u001B[43m \u001B[49m\u001B[38;5;124;43m'\u001B[39;49m\u001B[38;5;124;43m0\u001B[39;49m\u001B[38;5;124;43m'\u001B[39;49m\u001B[43m,\u001B[49m\u001B[43m \u001B[49m\u001B[38;5;124;43m'\u001B[39;49m\u001B[38;5;124;43m--cls-token-e\u001B[39;49m\u001B[38;5;124;43m'\u001B[39;49m\u001B[43m,\u001B[49m\u001B[43m \u001B[49m\u001B[38;5;124;43m'\u001B[39;49m\u001B[38;5;124;43m1\u001B[39;49m\u001B[38;5;124;43m'\u001B[39;49m\u001B[43m,\u001B[49m\n\u001B[1;32m      8\u001B[0m \u001B[43m    \u001B[49m\u001B[38;5;124;43m'\u001B[39;49m\u001B[38;5;124;43m--epoch\u001B[39;49m\u001B[38;5;124;43m'\u001B[39;49m\u001B[43m,\u001B[49m\u001B[43m \u001B[49m\u001B[38;5;124;43mf\u001B[39;49m\u001B[38;5;124;43m'\u001B[39;49m\u001B[38;5;132;43;01m{\u001B[39;49;00m\u001B[43mepoch_\u001B[49m\u001B[38;5;132;43;01m}\u001B[39;49;00m\u001B[38;5;124;43m'\u001B[39;49m\u001B[43m,\u001B[49m\u001B[43m \u001B[49m\u001B[38;5;124;43m'\u001B[39;49m\u001B[38;5;124;43m--batch-size\u001B[39;49m\u001B[38;5;124;43m'\u001B[39;49m\u001B[43m,\u001B[49m\u001B[43m \u001B[49m\u001B[38;5;124;43m'\u001B[39;49m\u001B[38;5;124;43m256\u001B[39;49m\u001B[38;5;124;43m'\u001B[39;49m\u001B[43m,\u001B[49m\u001B[43m \u001B[49m\u001B[38;5;124;43m'\u001B[39;49m\u001B[38;5;124;43m--valid-interval\u001B[39;49m\u001B[38;5;124;43m'\u001B[39;49m\u001B[43m,\u001B[49m\u001B[43m \u001B[49m\u001B[38;5;124;43m'\u001B[39;49m\u001B[38;5;124;43m40\u001B[39;49m\u001B[38;5;124;43m'\u001B[39;49m\u001B[43m,\u001B[49m\n\u001B[1;32m      9\u001B[0m \u001B[43m    \u001B[49m\u001B[38;5;124;43m'\u001B[39;49m\u001B[38;5;124;43m--lr\u001B[39;49m\u001B[38;5;124;43m'\u001B[39;49m\u001B[43m,\u001B[49m\u001B[43m \u001B[49m\u001B[38;5;124;43mf\u001B[39;49m\u001B[38;5;124;43m'\u001B[39;49m\u001B[38;5;132;43;01m{\u001B[39;49;00m\u001B[43mlr_\u001B[49m\u001B[38;5;132;43;01m}\u001B[39;49;00m\u001B[38;5;124;43m'\u001B[39;49m\u001B[43m,\u001B[49m\n\u001B[1;32m     10\u001B[0m \u001B[43m    \u001B[49m\u001B[38;5;124;43m'\u001B[39;49m\u001B[38;5;124;43m--do-train-valid-test\u001B[39;49m\u001B[38;5;124;43m'\u001B[39;49m\u001B[43m,\u001B[49m\n\u001B[1;32m     11\u001B[0m \u001B[43m]\u001B[49m\u001B[43m)\u001B[49m\n",
      "File \u001B[0;32m/var/www/src/models/run.py:631\u001B[0m, in \u001B[0;36mmain\u001B[0;34m(args)\u001B[0m\n\u001B[1;32m    629\u001B[0m     logger\u001B[38;5;241m.\u001B[39minfo(\u001B[38;5;124mf\u001B[39m\u001B[38;5;124m\"\u001B[39m\u001B[38;5;124mprocess id = \u001B[39m\u001B[38;5;132;01m{\u001B[39;00margs\u001B[38;5;241m.\u001B[39mpid\u001B[38;5;132;01m}\u001B[39;00m\u001B[38;5;124m\"\u001B[39m)\n\u001B[1;32m    630\u001B[0m     progress_helper \u001B[38;5;241m=\u001B[39m ProgressHelper(\u001B[38;5;124m\"\u001B[39m\u001B[38;5;124mlog/progress.\u001B[39m\u001B[38;5;132;01m{pid}\u001B[39;00m\u001B[38;5;124m.txt\u001B[39m\u001B[38;5;124m\"\u001B[39m, pid\u001B[38;5;241m=\u001B[39margs\u001B[38;5;241m.\u001B[39mpid)\n\u001B[0;32m--> 631\u001B[0m     \u001B[43mselect_function\u001B[49m\u001B[43m(\u001B[49m\u001B[43margs\u001B[49m\u001B[43m,\u001B[49m\u001B[43m \u001B[49m\u001B[43mlogger\u001B[49m\u001B[38;5;241;43m=\u001B[39;49m\u001B[43mlogger\u001B[49m\u001B[43m,\u001B[49m\u001B[43m \u001B[49m\u001B[43mprogress_helper\u001B[49m\u001B[38;5;241;43m=\u001B[39;49m\u001B[43mprogress_helper\u001B[49m\u001B[43m)\u001B[49m\n\u001B[1;32m    632\u001B[0m     progress_helper\u001B[38;5;241m.\u001B[39mfinish(delete\u001B[38;5;241m=\u001B[39m\u001B[38;5;28;01mTrue\u001B[39;00m)\n\u001B[1;32m    633\u001B[0m \u001B[38;5;28;01mfinally\u001B[39;00m:\n",
      "File \u001B[0;32m/var/www/src/models/run.py:608\u001B[0m, in \u001B[0;36mselect_function\u001B[0;34m(args, logger, progress_helper)\u001B[0m\n\u001B[1;32m    606\u001B[0m \u001B[38;5;28;01melif\u001B[39;00m fname \u001B[38;5;241m==\u001B[39m \u001B[38;5;124m'\u001B[39m\u001B[38;5;124mdo_1train\u001B[39m\u001B[38;5;124m'\u001B[39m:\n\u001B[1;32m    607\u001B[0m     \u001B[38;5;28;01mwith\u001B[39;00m ChangeDisableNamespace(args) \u001B[38;5;28;01mas\u001B[39;00m const_args:\n\u001B[0;32m--> 608\u001B[0m         \u001B[43mdo_1train\u001B[49m\u001B[43m(\u001B[49m\u001B[43mconst_args\u001B[49m\u001B[43m,\u001B[49m\u001B[43m \u001B[49m\u001B[43mlogger\u001B[49m\u001B[38;5;241;43m=\u001B[39;49m\u001B[43mlogger\u001B[49m\u001B[43m,\u001B[49m\u001B[43m \u001B[49m\u001B[43mprogress_helper\u001B[49m\u001B[38;5;241;43m=\u001B[39;49m\u001B[43mprogress_helper\u001B[49m\u001B[43m)\u001B[49m\n\u001B[1;32m    610\u001B[0m \u001B[38;5;28;01melif\u001B[39;00m fname \u001B[38;5;241m==\u001B[39m \u001B[38;5;124m'\u001B[39m\u001B[38;5;124mdo_optuna\u001B[39m\u001B[38;5;124m'\u001B[39m:\n\u001B[1;32m    611\u001B[0m     \u001B[38;5;28;01mwith\u001B[39;00m ChangeDisableNamespace(args) \u001B[38;5;28;01mas\u001B[39;00m const_args:\n",
      "File \u001B[0;32m/var/www/src/models/run.py:498\u001B[0m, in \u001B[0;36mdo_1train\u001B[0;34m(args, logger, progress_helper)\u001B[0m\n\u001B[1;32m    495\u001B[0m \u001B[38;5;28;01massert\u001B[39;00m model_path \u001B[38;5;129;01mis\u001B[39;00m \u001B[38;5;129;01mnot\u001B[39;00m \u001B[38;5;28;01mNone\u001B[39;00m\n\u001B[1;32m    496\u001B[0m logger\u001B[38;5;241m.\u001B[39minfo(_info_str(\u001B[38;5;124mf\u001B[39m\u001B[38;5;124m\"\u001B[39m\u001B[38;5;124mTrain start.\u001B[39m\u001B[38;5;124m\"\u001B[39m))\n\u001B[0;32m--> 498\u001B[0m model, result \u001B[38;5;241m=\u001B[39m \u001B[43mtraining\u001B[49m\u001B[43m(\u001B[49m\n\u001B[1;32m    499\u001B[0m \u001B[43m    \u001B[49m\u001B[43margs\u001B[49m\u001B[43m,\u001B[49m\u001B[43m \u001B[49m\u001B[43mlogger\u001B[49m\u001B[38;5;241;43m=\u001B[39;49m\u001B[43mlogger\u001B[49m\u001B[43m,\u001B[49m\u001B[43m \u001B[49m\u001B[43mprogress_helper\u001B[49m\u001B[38;5;241;43m=\u001B[39;49m\u001B[43mprogress_helper\u001B[49m\u001B[43m,\u001B[49m\n\u001B[1;32m    500\u001B[0m \u001B[43m    \u001B[49m\u001B[43mdata_helper\u001B[49m\u001B[38;5;241;43m=\u001B[39;49m\u001B[43mdata_helper\u001B[49m\u001B[43m,\u001B[49m\n\u001B[1;32m    501\u001B[0m \u001B[43m    \u001B[49m\u001B[43mmodel\u001B[49m\u001B[38;5;241;43m=\u001B[39;49m\u001B[43mmodel\u001B[49m\u001B[43m,\u001B[49m\n\u001B[1;32m    502\u001B[0m \u001B[43m    \u001B[49m\u001B[43mlr\u001B[49m\u001B[38;5;241;43m=\u001B[39;49m\u001B[43mlr\u001B[49m\u001B[43m,\u001B[49m\n\u001B[1;32m    503\u001B[0m \u001B[43m    \u001B[49m\u001B[43mdo_valid\u001B[49m\u001B[38;5;241;43m=\u001B[39;49m\u001B[43mis_do_valid\u001B[49m\u001B[43m,\u001B[49m\n\u001B[1;32m    504\u001B[0m \u001B[43m    \u001B[49m\u001B[43mno_show_bar\u001B[49m\u001B[38;5;241;43m=\u001B[39;49m\u001B[43mno_show_bar\u001B[49m\n\u001B[1;32m    505\u001B[0m \u001B[43m\u001B[49m\u001B[43m)\u001B[49m\n\u001B[1;32m    506\u001B[0m save_model(model, args\u001B[38;5;241m.\u001B[39mmodel_path, device\u001B[38;5;241m=\u001B[39mdevice)\n\u001B[1;32m    507\u001B[0m \u001B[38;5;66;03m# args.train_result = result\u001B[39;00m\n",
      "File \u001B[0;32m/var/www/src/utils/utils.py:130\u001B[0m, in \u001B[0;36mforce_gc_after_function.<locals>.wrapper\u001B[0;34m(*args, **kwargs)\u001B[0m\n\u001B[1;32m    129\u001B[0m \u001B[38;5;28;01mdef\u001B[39;00m \u001B[38;5;21mwrapper\u001B[39m(\u001B[38;5;241m*\u001B[39margs, \u001B[38;5;241m*\u001B[39m\u001B[38;5;241m*\u001B[39mkwargs):\n\u001B[0;32m--> 130\u001B[0m     rev \u001B[38;5;241m=\u001B[39m \u001B[43mfunc\u001B[49m\u001B[43m(\u001B[49m\u001B[38;5;241;43m*\u001B[39;49m\u001B[43margs\u001B[49m\u001B[43m,\u001B[49m\u001B[43m \u001B[49m\u001B[38;5;241;43m*\u001B[39;49m\u001B[38;5;241;43m*\u001B[39;49m\u001B[43mkwargs\u001B[49m\u001B[43m)\u001B[49m\n\u001B[1;32m    131\u001B[0m     force_gc()\n\u001B[1;32m    132\u001B[0m     \u001B[38;5;28;01mreturn\u001B[39;00m rev\n",
      "File \u001B[0;32m/var/www/src/models/run.py:279\u001B[0m, in \u001B[0;36mtraining\u001B[0;34m(args, logger, progress_helper, model, data_helper, lr, do_valid, no_show_bar, uid, resume_result)\u001B[0m\n\u001B[1;32m    277\u001B[0m     _loss \u001B[38;5;241m=\u001B[39m _loss\u001B[38;5;241m.\u001B[39mdetach()\u001B[38;5;241m.\u001B[39msum()\n\u001B[1;32m    278\u001B[0m     loss \u001B[38;5;241m+\u001B[39m\u001B[38;5;241m=\u001B[39m _loss\n\u001B[0;32m--> 279\u001B[0m     \u001B[43m_cec\u001B[49m\u001B[43m(\u001B[49m\u001B[43m)\u001B[49m\n\u001B[1;32m    281\u001B[0m logger\u001B[38;5;241m.\u001B[39mdebug(\u001B[38;5;124mf\u001B[39m\u001B[38;5;124m\"\u001B[39m\u001B[38;5;124msum_train: \u001B[39m\u001B[38;5;132;01m{\u001B[39;00msum_train\u001B[38;5;132;01m}\u001B[39;00m\u001B[38;5;124m\"\u001B[39m)\n\u001B[1;32m    282\u001B[0m loss \u001B[38;5;241m/\u001B[39m\u001B[38;5;241m=\u001B[39m \u001B[38;5;28mlen\u001B[39m(train)\n",
      "File \u001B[0;32m/var/www/src/utils/torch.py:51\u001B[0m, in \u001B[0;36mcuda_empty_cache\u001B[0;34m()\u001B[0m\n\u001B[1;32m     50\u001B[0m \u001B[38;5;28;01mdef\u001B[39;00m \u001B[38;5;21mcuda_empty_cache\u001B[39m():\n\u001B[0;32m---> 51\u001B[0m     \u001B[43mtorch\u001B[49m\u001B[38;5;241;43m.\u001B[39;49m\u001B[43mcuda\u001B[49m\u001B[38;5;241;43m.\u001B[39;49m\u001B[43mempty_cache\u001B[49m\u001B[43m(\u001B[49m\u001B[43m)\u001B[49m\n",
      "File \u001B[0;32m/usr/local/lib/python3.9/site-packages/torch/cuda/memory.py:121\u001B[0m, in \u001B[0;36mempty_cache\u001B[0;34m()\u001B[0m\n\u001B[1;32m    110\u001B[0m \u001B[38;5;124mr\u001B[39m\u001B[38;5;124;03m\"\"\"Releases all unoccupied cached memory currently held by the caching\u001B[39;00m\n\u001B[1;32m    111\u001B[0m \u001B[38;5;124;03mallocator so that those can be used in other GPU application and visible in\u001B[39;00m\n\u001B[1;32m    112\u001B[0m \u001B[38;5;124;03m`nvidia-smi`.\u001B[39;00m\n\u001B[0;32m   (...)\u001B[0m\n\u001B[1;32m    118\u001B[0m \u001B[38;5;124;03m    more details about GPU memory management.\u001B[39;00m\n\u001B[1;32m    119\u001B[0m \u001B[38;5;124;03m\"\"\"\u001B[39;00m\n\u001B[1;32m    120\u001B[0m \u001B[38;5;28;01mif\u001B[39;00m is_initialized():\n\u001B[0;32m--> 121\u001B[0m     \u001B[43mtorch\u001B[49m\u001B[38;5;241;43m.\u001B[39;49m\u001B[43m_C\u001B[49m\u001B[38;5;241;43m.\u001B[39;49m\u001B[43m_cuda_emptyCache\u001B[49m\u001B[43m(\u001B[49m\u001B[43m)\u001B[49m\n",
      "\u001B[0;31mKeyboardInterrupt\u001B[0m: "
     ]
    }
   ],
   "source": [
    "main([\n",
    "    '--notebook', '--device', 'cuda', # '--no-show-bar',\n",
    "    '--function', 'do_1train', '--eco-memory', '--console-level', 'info', '--train-type', 'all_tail',\n",
    "    '--logfile', f'{file_}/log.log', '--param-file', f'{file_}/param.pkl', '--model-path', f'{file_}/model.pth',\n",
    "    '--model', f'{model_}', '--KGdata', f'{KGdata_}',\n",
    "    '--entity-special-num', '2', '--relation-special-num', '0',\n",
    "    '--padding-token-e', '0', '--cls-token-e', '1',\n",
    "    '--epoch', f'{epoch_}', '--batch-size', '256', '--valid-interval', '40',\n",
    "    '--lr', f'{lr_}',\n",
    "    '--do-train-valid-test',\n",
    "])"
   ],
   "metadata": {
    "collapsed": false,
    "pycharm": {
     "name": "#%%\n",
     "is_executing": true
    }
   }
  },
  {
   "cell_type": "code",
   "execution_count": null,
   "outputs": [],
   "source": [],
   "metadata": {
    "collapsed": false,
    "pycharm": {
     "name": "#%%\n"
    }
   }
  }
 ],
 "metadata": {
  "kernelspec": {
   "display_name": "Python 3",
   "language": "python",
   "name": "python3"
  },
  "language_info": {
   "codemirror_mode": {
    "name": "ipython",
    "version": 2
   },
   "file_extension": ".py",
   "mimetype": "text/x-python",
   "name": "python",
   "nbconvert_exporter": "python",
   "pygments_lexer": "ipython2",
   "version": "2.7.6"
  }
 },
 "nbformat": 4,
 "nbformat_minor": 0
}